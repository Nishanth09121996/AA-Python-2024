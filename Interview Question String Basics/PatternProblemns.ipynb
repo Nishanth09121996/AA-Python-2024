{
 "cells": [
  {
   "cell_type": "markdown",
   "metadata": {},
   "source": [
    "1.  Print the Following Pattern <br>\n",
    "`# `<br>\n",
    "`##`<br>\n",
    "`###`<br>\n",
    "`####`<br>"
   ]
  },
  {
   "cell_type": "code",
   "execution_count": 3,
   "metadata": {},
   "outputs": [
    {
     "name": "stdout",
     "output_type": "stream",
     "text": [
      "$ \n",
      "$ $ \n",
      "$ $ $ \n",
      "$ $ $ $ \n",
      "$ $ $ $ $ \n",
      "$ $ $ $ $ $ \n",
      "$ $ $ $ $ $ $ \n"
     ]
    }
   ],
   "source": [
    "def ladder_pattern(rows:int)->None:\n",
    "    for i in range(0,rows): #[0,1,2,3,4]\n",
    "        print('$ ' * (i+1))\n",
    "\n",
    "ladder_pattern(int(input('Enter Number of rows'))) # 6"
   ]
  },
  {
   "cell_type": "markdown",
   "metadata": {},
   "source": [
    "2.  Print The same in reverse order.<br>\n",
    "Input: No of Rows <br>\n",
    "Output:<br>\n",
    "`$ $ $ $ $ `<br>\n",
    "`$ $ $ $ `<br>\n",
    "`$ $ $ `<br>\n",
    "`$ $ `<br>\n",
    "`$`<br>"
   ]
  },
  {
   "cell_type": "code",
   "execution_count": 6,
   "metadata": {},
   "outputs": [
    {
     "name": "stdout",
     "output_type": "stream",
     "text": [
      "$ $ $ $ $ \n",
      "$ $ $ $ \n",
      "$ $ $ \n",
      "$ $ \n",
      "$ \n"
     ]
    }
   ],
   "source": [
    "def reversed_ladder_pattern(rows:int)->None:\n",
    "    for i in range(rows,0,-1): #[5,4,3,2,1]\n",
    "        print('$ ' * i)\n",
    "\n",
    "reversed_ladder_pattern(5) # 6"
   ]
  },
  {
   "cell_type": "markdown",
   "metadata": {},
   "source": [
    "3.  Print the traingle Pattern"
   ]
  },
  {
   "cell_type": "code",
   "execution_count": 10,
   "metadata": {},
   "outputs": [
    {
     "name": "stdout",
     "output_type": "stream",
     "text": [
      "  $ \n",
      " $ $ \n",
      "$ $ $ \n"
     ]
    }
   ],
   "source": [
    "def print_traingle(rows:int)-> None:\n",
    "    for i in range(1,rows+1):\n",
    "        print(' '*(rows-i) + '$ '* i)\n",
    "print_traingle(3)"
   ]
  },
  {
   "cell_type": "code",
   "execution_count": 13,
   "metadata": {},
   "outputs": [
    {
     "name": "stdout",
     "output_type": "stream",
     "text": [
      "# # # # # \n",
      "_# # # # \n",
      "__# # # \n",
      "___# # \n",
      "____# \n"
     ]
    }
   ],
   "source": [
    "def reversed_print_traingle(rows:int)-> None:\n",
    "    for i in range(rows,0,-1):\n",
    "        print('_' * (rows-i) + '# ' * i )\n",
    "reversed_print_traingle(5)"
   ]
  },
  {
   "cell_type": "code",
   "execution_count": null,
   "metadata": {},
   "outputs": [],
   "source": []
  }
 ],
 "metadata": {
  "kernelspec": {
   "display_name": "basic-python",
   "language": "python",
   "name": "python3"
  },
  "language_info": {
   "codemirror_mode": {
    "name": "ipython",
    "version": 3
   },
   "file_extension": ".py",
   "mimetype": "text/x-python",
   "name": "python",
   "nbconvert_exporter": "python",
   "pygments_lexer": "ipython3",
   "version": "3.12.1"
  }
 },
 "nbformat": 4,
 "nbformat_minor": 2
}
