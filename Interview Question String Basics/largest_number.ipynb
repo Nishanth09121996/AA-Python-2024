{
 "cells": [
  {
   "cell_type": "markdown",
   "metadata": {},
   "source": [
    "### Find the N th largest elemnent "
   ]
  },
  {
   "cell_type": "code",
   "execution_count": 1,
   "metadata": {},
   "outputs": [],
   "source": [
    "# Check the length of the input array\n",
    "# if lenth(array) >= User_input\n",
    "# lenght - nth factor if it is a sorted array\n",
    "a= [2,3,4,5]\n",
    "input = 2\n",
    "i=0\n",
    "if input<= len(a):\n",
    "  i= len(a)-input\n",
    "  print(a[i])"
   ]
  },
  {
   "cell_type": "code",
   "execution_count": 16,
   "metadata": {},
   "outputs": [],
   "source": [
    "# Using Loops\n",
    "def find_n_th_largest(arr,n)->int:\n",
    "    for i in range(0,n-1):\n",
    "        arr.remove(max(arr))\n",
    "    return max(arr)\n",
    "n = 5\n",
    "numbers = [1,5,88,12,55,77,3,67,14,2]\n",
    "print(find_n_th_largest(numbers,n))\n"
   ]
  },
  {
   "cell_type": "code",
   "execution_count": 17,
   "metadata": {},
   "outputs": [
    {
     "name": "stdout",
     "output_type": "stream",
     "text": [
      "14\n"
     ]
    }
   ],
   "source": [
    "n = 5\n",
    "numbers = [1,5,88,12,55,77,3,67,14,2]\n",
    "print(find_n_th_largest(numbers,n))"
   ]
  },
  {
   "cell_type": "code",
   "execution_count": null,
   "metadata": {},
   "outputs": [],
   "source": []
  }
 ],
 "metadata": {
  "kernelspec": {
   "display_name": "basic-python",
   "language": "python",
   "name": "python3"
  },
  "language_info": {
   "codemirror_mode": {
    "name": "ipython",
    "version": 3
   },
   "file_extension": ".py",
   "mimetype": "text/x-python",
   "name": "python",
   "nbconvert_exporter": "python",
   "pygments_lexer": "ipython3",
   "version": "3.12.1"
  }
 },
 "nbformat": 4,
 "nbformat_minor": 2
}
