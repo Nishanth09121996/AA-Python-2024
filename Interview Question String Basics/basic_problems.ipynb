{
 "cells": [
  {
   "cell_type": "markdown",
   "metadata": {},
   "source": [
    "1. Write a Python program to check if a string is a palindrome "
   ]
  },
  {
   "cell_type": "code",
   "execution_count": 13,
   "metadata": {},
   "outputs": [
    {
     "name": "stdout",
     "output_type": "stream",
     "text": [
      "m\n",
      "a\n",
      "m\n",
      "mam\n",
      "Palindrome\n"
     ]
    }
   ],
   "source": [
    "# malayalam\n",
    "# madam\n",
    "# radar\n",
    "# mam \n",
    "# racecar\n",
    "\n",
    "#word = 'apple'\n",
    "\n",
    "# Reverse \n",
    "#1.Loops\n",
    "#2.Using Standard String Slicer\n",
    "#3. Reverse Function\n",
    "\n",
    "# Using Loops Approch 1\n",
    "word  = 'mam'\n",
    "dummy_char = ''\n",
    "for i in word:\n",
    "    print(i)\n",
    "    dummy_char = i+dummy_char\n",
    "print(dummy_char)\n",
    "if word == dummy_char:\n",
    "    print('Palindrome')\n",
    "else:\n",
    "    print('Not a Palindrome')"
   ]
  },
  {
   "cell_type": "code",
   "execution_count": 19,
   "metadata": {},
   "outputs": [
    {
     "name": "stdout",
     "output_type": "stream",
     "text": [
      "mam\n",
      "Palindrome\n",
      "321\n"
     ]
    }
   ],
   "source": [
    "# Loop Using range range(0,9)\n",
    "    \n",
    "word = 'mam'\n",
    "dummy = ''\n",
    "for i in range(len(word)-1,-1,-1):\n",
    "    dummy = dummy+word[i]\n",
    "print(dummy)\n",
    "if word == dummy:\n",
    "    print('Palindrome')\n",
    "else:\n",
    "    print('Not a Palindrome')\n",
    "    \n",
    "word = '123'\n",
    "print(word[::-1])"
   ]
  },
  {
   "cell_type": "code",
   "execution_count": 20,
   "metadata": {},
   "outputs": [],
   "source": [
    "def check_palindrome(word:str)->bool:\n",
    "    if word == word[::-1]:\n",
    "        return True\n",
    "    else:\n",
    "        return False\n",
    "words = ['malayalam','madam','radar','mam','racecar','Apple','orange']\n",
    "for i in words:\n",
    "    if check_palindrome(i):\n",
    "        print(i,' The word is palindrome')\n",
    "    else:\n",
    "        print(i , ' i is not a plaindrome')"
   ]
  },
  {
   "cell_type": "code",
   "execution_count": 21,
   "metadata": {},
   "outputs": [
    {
     "name": "stdout",
     "output_type": "stream",
     "text": [
      "malayalam  The word is palindrome\n",
      "madam  The word is palindrome\n",
      "radar  The word is palindrome\n",
      "mam  The word is palindrome\n",
      "racecar  The word is palindrome\n",
      "Apple  i is not a plaindrome\n",
      "orange  i is not a plaindrome\n"
     ]
    }
   ],
   "source": [
    "words = ['malayalam','madam','radar','mam','racecar','Apple','orange']\n",
    "for i in words:\n",
    "    if check_palindrome(i):\n",
    "        print(i,' The word is palindrome')\n",
    "    else:\n",
    "        print(i , ' i is not a plaindrome')"
   ]
  },
  {
   "cell_type": "code",
   "execution_count": 35,
   "metadata": {},
   "outputs": [
    {
     "name": "stdout",
     "output_type": "stream",
     "text": [
      "<class 'int'>\n",
      "101 0\n",
      "Palindrome\n"
     ]
    }
   ],
   "source": [
    "number = 101\n",
    "original_number = number\n",
    "#print(int(str(number)[::-1]))\n",
    "# Loops: \n",
    "reversed_number = 0\n",
    "\n",
    "while(number>0):\n",
    "    last_number = number % 10\n",
    "    reversed_number = reversed_number*10+last_number\n",
    "    number = number//10\n",
    "print(type(reversed_number))\n",
    "\n",
    "print(reversed_number,number)\n",
    "if (original_number - reversed_number) ==0 :\n",
    "    print('Palindrome')\n",
    "else:\n",
    "    print('Not a palimdrame')"
   ]
  },
  {
   "cell_type": "markdown",
   "metadata": {},
   "source": [
    "https://app.whiteboard.microsoft.com/me/whiteboards/c6b17000-2792-4015-8256-f5d0abd6c5cf"
   ]
  },
  {
   "cell_type": "code",
   "execution_count": 38,
   "metadata": {},
   "outputs": [
    {
     "name": "stdout",
     "output_type": "stream",
     "text": [
      "11\n",
      "Found 5 at position 7\n"
     ]
    }
   ],
   "source": [
    "# search a element in a array\n",
    "\n",
    "\n",
    "# linear searh \n",
    "array = [3,9,1,2,3,4,5,6,7,8,9,11]\n",
    "\n",
    "search  = 11\n",
    "\n",
    "print(len(array))\n",
    "\n",
    "for i in range(len(array)):\n",
    "    if array[i] ==5:\n",
    "        print('Found 5 at position', i+1 )\n",
    "        break\n",
    "\n",
    "#O(n)"
   ]
  },
  {
   "cell_type": "markdown",
   "metadata": {},
   "source": [
    "2. Write a Python program to find the largest element in a list."
   ]
  },
  {
   "cell_type": "code",
   "execution_count": 66,
   "metadata": {},
   "outputs": [],
   "source": [
    "# array = [3,2,6,11,1,5,7,9,10,1,11]\n",
    "# # 2 ways (smart lazy)\n",
    "# #max(array) #o(n)\n",
    "# # loops\n",
    "# max = 0\n",
    "# index  = 0\n",
    "# # Loop for each element\n",
    "# for i in range(len(array)):\n",
    "#     if max < array[i]: # CHeck max and current value if max < current then max will be cuurent value\n",
    "#         max = array[i]\n",
    "#         index  = i\n",
    "# print(max,index+1)\n"
   ]
  },
  {
   "cell_type": "markdown",
   "metadata": {},
   "source": [
    "3. Write a Python program to reverse a string."
   ]
  },
  {
   "cell_type": "code",
   "execution_count": 51,
   "metadata": {},
   "outputs": [
    {
     "data": {
      "text/plain": [
       "'CBA'"
      ]
     },
     "execution_count": 51,
     "metadata": {},
     "output_type": "execute_result"
    }
   ],
   "source": [
    "a = 'ABC'\n",
    "a[::-1]"
   ]
  },
  {
   "cell_type": "markdown",
   "metadata": {},
   "source": [
    "4. Write a Python program to count the frequency of each element in a list."
   ]
  },
  {
   "cell_type": "code",
   "execution_count": 2,
   "metadata": {},
   "outputs": [],
   "source": [
    "sentence = '''Python is an interpreted, object-oriented, high-level programming language with dynamic semantics. Its high-level built in data structures, combined with dynamic typing and dynamic binding, make it very attractive for Rapid Application Development, as well as for use as a scripting or glue language to connect existing components together. Python's simple, easy to learn syntax emphasizes readability and therefore reduces the cost of program maintenance. Python supports modules and packages, which encourages program modularity and code reuse. The Python interpreter and the extensive standard library are available in source or binary form without charge for all major platforms, and can be freely distributed.'''"
   ]
  },
  {
   "cell_type": "code",
   "execution_count": 1,
   "metadata": {},
   "outputs": [
    {
     "name": "stdout",
     "output_type": "stream",
     "text": [
      "['and']\n"
     ]
    }
   ],
   "source": [
    "sentence = '''Python is an interpreted, object-oriented, high-level programming language with dynamic semantics. Its high-level built in data structures, combined with dynamic typing and dynamic binding, make it very attractive for Rapid Application Development, as well as for use as a scripting or glue language to connect existing components together. Python's simple, easy to learn syntax emphasizes readability and therefore reduces the cost of program maintenance. Python supports modules and packages, which encourages program modularity and code reuse. The Python interpreter and the extensive standard library are available in source or binary form without charge for all major platforms, and can be freely distributed.'''\n",
    "# Split sentence to words \n",
    "sentence_list  = sentence.split(' ')\n",
    "len(sentence_list) # no of words in sentence\n",
    "words_dict = dict() # initialize a emplty dict \n",
    "for i in sentence_list:\n",
    "    if words_dict.get(i,0) == 0:\n",
    "            words_dict[i] = 1\n",
    "    else:\n",
    "          words_dict[i] = words_dict[i] + 1\n",
    "most_occured_words = list()\n",
    "max_times = max(list(words_dict.values()))\n",
    "for i in words_dict.keys():\n",
    "      if words_dict.get(i)  == max_times:\n",
    "            most_occured_words.append(i)\n",
    "print(most_occured_words)\n"
   ]
  },
  {
   "cell_type": "code",
   "execution_count": null,
   "metadata": {},
   "outputs": [],
   "source": []
  },
  {
   "cell_type": "markdown",
   "metadata": {},
   "source": [
    "5. Write a Python program to check if a number is prime."
   ]
  },
  {
   "cell_type": "code",
   "execution_count": 16,
   "metadata": {},
   "outputs": [],
   "source": [
    "def check_prime(number:int)->bool:\n",
    "    if number in [0,1,2,3]:\n",
    "        return True\n",
    "    for i in range(2,number):\n",
    "        if number%i == 0:\n",
    "            return False\n",
    "    return True"
   ]
  },
  {
   "cell_type": "code",
   "execution_count": 19,
   "metadata": {},
   "outputs": [
    {
     "name": "stdout",
     "output_type": "stream",
     "text": [
      "0 This is prime\n",
      "1 This is prime\n",
      "2 This is prime\n",
      "3 This is prime\n",
      "5 This is prime\n",
      "7 This is prime\n",
      "11 This is prime\n",
      "13 This is prime\n",
      "17 This is prime\n",
      "19 This is prime\n",
      "23 This is prime\n",
      "29 This is prime\n",
      "31 This is prime\n",
      "37 This is prime\n",
      "41 This is prime\n",
      "43 This is prime\n",
      "47 This is prime\n",
      "53 This is prime\n",
      "59 This is prime\n",
      "61 This is prime\n",
      "67 This is prime\n",
      "71 This is prime\n",
      "73 This is prime\n",
      "79 This is prime\n",
      "83 This is prime\n",
      "89 This is prime\n",
      "97 This is prime\n"
     ]
    }
   ],
   "source": [
    "numbers = list(range(0,101))\n",
    "for i in numbers:\n",
    "    if check_prime(i):\n",
    "        print(i, \"This is prime\")\n",
    "    else:\n",
    "        print(i, 'This is not prime')"
   ]
  },
  {
   "cell_type": "code",
   "execution_count": 21,
   "metadata": {},
   "outputs": [
    {
     "name": "stdout",
     "output_type": "stream",
     "text": [
      "Condition Not Satisfired\n"
     ]
    }
   ],
   "source": [
    "if False:\n",
    "    print('Condidtion Satisfied')\n",
    "else:\n",
    "    print('Condition Not Satisfired')"
   ]
  },
  {
   "cell_type": "markdown",
   "metadata": {},
   "source": [
    "6. Write a Python program to find the common elements between two lists."
   ]
  },
  {
   "cell_type": "code",
   "execution_count": 30,
   "metadata": {},
   "outputs": [
    {
     "name": "stdout",
     "output_type": "stream",
     "text": [
      "Common Elements in List [5, 6]\n",
      "Common Elements in List [5, 6]\n",
      "UnCommon Elements in List [1, 2, 3, 4]\n"
     ]
    }
   ],
   "source": [
    "list_1 = [1,2,3,4,5,6]\n",
    "list_2 = [5,6,7,8,9,10]\n",
    "Common_elements = list()\n",
    "for i in list_1: #O(n)\n",
    "    if i in list_2:#O(1)\n",
    "        Common_elements.append(i)\n",
    "print(\"Common Elements in List\",Common_elements) # O(n)\n",
    "# Common Elements\n",
    "print(\"Common Elements in List\",list(set(list_1).intersection(set(list_2)))) # o(1)\n",
    "# UnCommon Elements\n",
    "print(\"UnCommon Elements in List\",list(set(list_1).difference(set(list_2)))) #O(1)"
   ]
  }
 ],
 "metadata": {
  "kernelspec": {
   "display_name": "basic-python",
   "language": "python",
   "name": "python3"
  },
  "language_info": {
   "codemirror_mode": {
    "name": "ipython",
    "version": 3
   },
   "file_extension": ".py",
   "mimetype": "text/x-python",
   "name": "python",
   "nbconvert_exporter": "python",
   "pygments_lexer": "ipython3",
   "version": "3.12.1"
  }
 },
 "nbformat": 4,
 "nbformat_minor": 2
}
