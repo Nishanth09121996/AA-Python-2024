{
 "cells": [
  {
   "cell_type": "markdown",
   "metadata": {},
   "source": [
    "1. Problem: Given a string containing only curly braces {}, square brackets [], and parentheses (), determine if the string is valid. A string is considered valid if all opening symbols are closed in the correct order.\n",
    "\n",
    "Example:\n",
    "\n",
    "Input: \"{{}[]()}\", Output: True <br>\n",
    "Input: \"{[()]}\", Output: True  <br>\n",
    "Input: \"{[}\", Output: False  <br>\n",
    "Input: \"(]\", Output: False  <br>"
   ]
  },
  {
   "cell_type": "code",
   "execution_count": 28,
   "metadata": {},
   "outputs": [],
   "source": [
    "braces_list = []\n",
    "opening_braces = \"({[\"\n",
    "# closing_braces = \")}]\"\n",
    "match = {')': '(', '}': '{', ']': '['}\n",
    "result = []\n",
    "input = \"{()}]\""
   ]
  },
  {
   "cell_type": "code",
   "execution_count": 30,
   "metadata": {},
   "outputs": [
    {
     "name": "stdout",
     "output_type": "stream",
     "text": [
      "Not Paired\n"
     ]
    }
   ],
   "source": [
    "for i in input:\n",
    "    if i in opening_braces:\n",
    "        braces_list.append(i)\n",
    "    else:\n",
    "        if i in braces_list:\n",
    "            braces_list.remove(match.get(i))\n",
    "if len(braces_list) ==0:\n",
    "    print('Paired')\n",
    "else:\n",
    "    print('Not Paired')"
   ]
  },
  {
   "cell_type": "code",
   "execution_count": null,
   "metadata": {},
   "outputs": [],
   "source": []
  },
  {
   "cell_type": "code",
   "execution_count": null,
   "metadata": {},
   "outputs": [],
   "source": []
  }
 ],
 "metadata": {
  "kernelspec": {
   "display_name": "basic-python",
   "language": "python",
   "name": "python3"
  },
  "language_info": {
   "codemirror_mode": {
    "name": "ipython",
    "version": 3
   },
   "file_extension": ".py",
   "mimetype": "text/x-python",
   "name": "python",
   "nbconvert_exporter": "python",
   "pygments_lexer": "ipython3",
   "version": "3.12.1"
  }
 },
 "nbformat": 4,
 "nbformat_minor": 2
}
