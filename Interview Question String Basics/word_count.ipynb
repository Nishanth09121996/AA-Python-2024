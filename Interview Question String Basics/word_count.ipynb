{
 "cells": [
  {
   "cell_type": "markdown",
   "metadata": {},
   "source": [
    "1. Find macthing string which is an Anagram?\n",
    "input:[Heart , earth, silent , listen]"
   ]
  },
  {
   "cell_type": "code",
   "execution_count": 13,
   "metadata": {},
   "outputs": [
    {
     "name": "stdout",
     "output_type": "stream",
     "text": [
      "Word  >  Heart\n",
      "i> Heart\n",
      "i> earth\n",
      "i> aerth\n",
      "i> silent\n",
      "i> listen\n",
      " ----------------------- \n",
      "['earth', 'aerth']\n",
      "Word  >  earth\n",
      "i> Heart\n",
      "i> earth\n",
      "i> aerth\n",
      "i> silent\n",
      "i> listen\n",
      " ----------------------- \n",
      "['Heart', 'aerth']\n",
      "Word  >  aerth\n",
      "i> Heart\n",
      "i> earth\n",
      "i> aerth\n",
      "i> silent\n",
      "i> listen\n",
      " ----------------------- \n",
      "['Heart', 'earth']\n",
      "Word  >  silent\n",
      "i> Heart\n",
      "i> earth\n",
      "i> aerth\n",
      "i> silent\n",
      "i> listen\n",
      " ----------------------- \n",
      "['listen']\n",
      "Word  >  listen\n",
      "i> Heart\n",
      "i> earth\n",
      "i> aerth\n",
      "i> silent\n",
      "i> listen\n",
      " ----------------------- \n",
      "['silent']\n"
     ]
    }
   ],
   "source": [
    "#input\n",
    "\n",
    "def check_anagram(word:str,word_list:list) -> list:\n",
    "    print('Word  > ' , word)\n",
    "\n",
    "    matching_anagram = list()\n",
    "    for i in word_list:\n",
    "        print('i>',i)        \n",
    "        if word == i:\n",
    "            pass\n",
    "        else:\n",
    "            if ''.join(sorted(word.lower())) == ''.join(sorted(i.lower())):                \n",
    "                matching_anagram.append(i)\n",
    "    print(' ----------------------- ') \n",
    "    return matching_anagram\n",
    "word_list = [\"Heart\", \"earth\", \"aerth\",\"silent\", \"listen\"]\n",
    "for i in word_list:\n",
    "    print(check_anagram(i,word_list))\n",
    "\n"
   ]
  },
  {
   "cell_type": "markdown",
   "metadata": {},
   "source": [
    "2. As a data analyst for a clothing company, your objective is to extract insights from customer reviews to grasp their preferences effectively.\n",
    "In these reviews, customers express sentiments like \"softest fabric ever\" or \"disappointed with the fit.\" Your goal is to uncover the most commonly referenced attributes (excluding common words like \"the\" or \"a\") to gain insight into the aspects of clothing that customers value most.\n",
    "\n"
   ]
  },
  {
   "cell_type": "code",
   "execution_count": 14,
   "metadata": {},
   "outputs": [],
   "source": [
    "#Input feedbacks\n",
    "feedback_list = [\n",
    "    \"The fabric feels amazing, so soft!\",# fabric - 1 , feel -1 ,amma - 1 , soft -1\n",
    "    \"I love the fit of these jeans, perfect!\",\n",
    "    \"The color of the shirt is vibrant, just what I wanted.\",\n",
    "    \"Disappointed with the quality, it tore after one wash.\",\n",
    "    \"These shoes are comfortable, like walking on clouds.\",\n",
    "    \"The stitching on this dress is poorly done, very noticeable.\",\n",
    "    \"Great value for the price, highly recommend.\",\n",
    "    \"The sizing is way off, had to return for a different size.\",\n",
    "    \"The material of the sweater is itchy, uncomfortable to wear.\",\n",
    "    \"The design of this jacket is unique, I get compliments all the time.\"\n",
    "]\n"
   ]
  },
  {
   "cell_type": "markdown",
   "metadata": {},
   "source": []
  },
  {
   "cell_type": "markdown",
   "metadata": {},
   "source": [
    "3. Imagine you're designing a program to print a pattern of asterisks based on user input. The pattern should consist of `n` lines, with the number of asterisks increasing by one in each successive line. For instance, if the user enters `5`, the output should be:\n",
    "\n",
    "```\n",
    "*\n",
    "**\n",
    "***\n",
    "****\n",
    "*****\n",
    "```\n",
    "\n",
    "How would you implement this program in Python? What steps would you take to ensure it functions correctly for different values of `n`? Please provide a Python code snippet to demonstrate your approach.\n",
    "\n",
    "\n"
   ]
  },
  {
   "cell_type": "code",
   "execution_count": 18,
   "metadata": {},
   "outputs": [
    {
     "name": "stdout",
     "output_type": "stream",
     "text": [
      "*\n",
      "**\n",
      "***\n",
      "****\n",
      "*****\n",
      "******\n",
      "*******\n",
      "********\n"
     ]
    }
   ],
   "source": [
    "ladder_steps = int(input('Enter the steps for the * printing'))\n",
    "for i in range(0,ladder_steps):\n",
    "    print(\"*\" * (i+1))"
   ]
  },
  {
   "cell_type": "markdown",
   "metadata": {},
   "source": [
    "   *\n",
    "  ***\n",
    "******\n",
    "  ****"
   ]
  },
  {
   "cell_type": "code",
   "execution_count": null,
   "metadata": {},
   "outputs": [],
   "source": []
  },
  {
   "cell_type": "code",
   "execution_count": 21,
   "metadata": {},
   "outputs": [
    {
     "data": {
      "text/plain": [
       "'##'"
      ]
     },
     "execution_count": 21,
     "metadata": {},
     "output_type": "execute_result"
    }
   ],
   "source": [
    "'#'*2"
   ]
  },
  {
   "cell_type": "markdown",
   "metadata": {},
   "source": [
    "4. Problem: Given a string containing only curly braces {}, square brackets [], and parentheses (), determine if the string is valid. A string is considered valid if all opening symbols are closed in the correct order.\n",
    "\n",
    "Example:\n",
    "\n",
    "Input: \"{}[]()\", Output: True <br>\n",
    "Input: \"{[()]}\", Output: True  <br>\n",
    "Input: \"{[}\", Output: False  <br>\n",
    "Input: \"(]\", Output: False  <br>"
   ]
  },
  {
   "cell_type": "markdown",
   "metadata": {},
   "source": []
  }
 ],
 "metadata": {
  "kernelspec": {
   "display_name": "basic-python",
   "language": "python",
   "name": "python3"
  },
  "language_info": {
   "codemirror_mode": {
    "name": "ipython",
    "version": 3
   },
   "file_extension": ".py",
   "mimetype": "text/x-python",
   "name": "python",
   "nbconvert_exporter": "python",
   "pygments_lexer": "ipython3",
   "version": "3.12.1"
  }
 },
 "nbformat": 4,
 "nbformat_minor": 2
}
