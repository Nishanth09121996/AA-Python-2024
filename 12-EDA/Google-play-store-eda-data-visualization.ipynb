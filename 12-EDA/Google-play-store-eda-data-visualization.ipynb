{
 "cells": [
  {
   "cell_type": "markdown",
   "id": "2fae3e81",
   "metadata": {
    "papermill": {
     "duration": 0.019257,
     "end_time": "2022-07-01T12:53:50.508798",
     "exception": false,
     "start_time": "2022-07-01T12:53:50.489541",
     "status": "completed"
    },
    "tags": []
   },
   "source": [
    "# <p style=\"background-color:coral;font-family:newtimeroman;font-size:150%;color:white;text-align:center;border-radius:20px 60px;\">Google Play Store App EDA & Data Visualization</p>\n",
    "![](https://storage.googleapis.com/kaggle-datasets-images/49864/90482/cd5596dc740da68fc6896566758e60b4/dataset-cover.jpg?t=2018-09-07-13-48-45)"
   ]
  },
  {
   "cell_type": "markdown",
   "id": "05cd683b",
   "metadata": {
    "papermill": {
     "duration": 0.014948,
     "end_time": "2022-07-01T12:53:50.539209",
     "exception": false,
     "start_time": "2022-07-01T12:53:50.524261",
     "status": "completed"
    },
    "tags": []
   },
   "source": [
    "- Loading the dataset\n",
    "- Understanding the dataset\n",
    "- Handling missing data\n",
    "- Data preprocessing\n",
    "- Data visualization\n",
    "\n"
   ]
  },
  {
   "cell_type": "markdown",
   "id": "42b3f90c",
   "metadata": {
    "papermill": {
     "duration": 0.014362,
     "end_time": "2022-07-01T12:53:50.568372",
     "exception": false,
     "start_time": "2022-07-01T12:53:50.554010",
     "status": "completed"
    },
    "tags": []
   },
   "source": [
    "# <p style=\"background-color:coral;font-family:newtimeroman;font-size:150%;color:white;text-align:center;border-radius:20px 60px;\">Loading the dataset</p>"
   ]
  },
  {
   "cell_type": "code",
   "execution_count": 143,
   "id": "8687ab0a",
   "metadata": {
    "execution": {
     "iopub.execute_input": "2022-07-01T12:53:50.600445Z",
     "iopub.status.busy": "2022-07-01T12:53:50.599950Z",
     "iopub.status.idle": "2022-07-01T12:53:50.702336Z",
     "shell.execute_reply": "2022-07-01T12:53:50.701107Z"
    },
    "papermill": {
     "duration": 0.121968,
     "end_time": "2022-07-01T12:53:50.705352",
     "exception": false,
     "start_time": "2022-07-01T12:53:50.583384",
     "status": "completed"
    },
    "tags": []
   },
   "outputs": [
    {
     "data": {
      "text/html": [
       "<div>\n",
       "<style scoped>\n",
       "    .dataframe tbody tr th:only-of-type {\n",
       "        vertical-align: middle;\n",
       "    }\n",
       "\n",
       "    .dataframe tbody tr th {\n",
       "        vertical-align: top;\n",
       "    }\n",
       "\n",
       "    .dataframe thead th {\n",
       "        text-align: right;\n",
       "    }\n",
       "</style>\n",
       "<table border=\"1\" class=\"dataframe\">\n",
       "  <thead>\n",
       "    <tr style=\"text-align: right;\">\n",
       "      <th></th>\n",
       "      <th>App</th>\n",
       "      <th>Category</th>\n",
       "      <th>Rating</th>\n",
       "      <th>Reviews</th>\n",
       "      <th>Size</th>\n",
       "      <th>Installs</th>\n",
       "      <th>Type</th>\n",
       "      <th>Price</th>\n",
       "      <th>Content Rating</th>\n",
       "      <th>Genres</th>\n",
       "      <th>Last Updated</th>\n",
       "      <th>Current Ver</th>\n",
       "      <th>Android Ver</th>\n",
       "    </tr>\n",
       "  </thead>\n",
       "  <tbody>\n",
       "    <tr>\n",
       "      <th>0</th>\n",
       "      <td>Photo Editor &amp; Candy Camera &amp; Grid &amp; ScrapBook</td>\n",
       "      <td>ART_AND_DESIGN</td>\n",
       "      <td>4.1</td>\n",
       "      <td>159</td>\n",
       "      <td>19M</td>\n",
       "      <td>10,000+</td>\n",
       "      <td>Free</td>\n",
       "      <td>0</td>\n",
       "      <td>Everyone</td>\n",
       "      <td>Art &amp; Design</td>\n",
       "      <td>January 7, 2018</td>\n",
       "      <td>1.0.0</td>\n",
       "      <td>4.0.3 and up</td>\n",
       "    </tr>\n",
       "    <tr>\n",
       "      <th>1</th>\n",
       "      <td>Coloring book moana</td>\n",
       "      <td>ART_AND_DESIGN</td>\n",
       "      <td>3.9</td>\n",
       "      <td>967</td>\n",
       "      <td>14M</td>\n",
       "      <td>500,000+</td>\n",
       "      <td>Free</td>\n",
       "      <td>0</td>\n",
       "      <td>Everyone</td>\n",
       "      <td>Art &amp; Design;Pretend Play</td>\n",
       "      <td>January 15, 2018</td>\n",
       "      <td>2.0.0</td>\n",
       "      <td>4.0.3 and up</td>\n",
       "    </tr>\n",
       "    <tr>\n",
       "      <th>2</th>\n",
       "      <td>U Launcher Lite – FREE Live Cool Themes, Hide ...</td>\n",
       "      <td>ART_AND_DESIGN</td>\n",
       "      <td>4.7</td>\n",
       "      <td>87510</td>\n",
       "      <td>8.7M</td>\n",
       "      <td>5,000,000+</td>\n",
       "      <td>Free</td>\n",
       "      <td>0</td>\n",
       "      <td>Everyone</td>\n",
       "      <td>Art &amp; Design</td>\n",
       "      <td>August 1, 2018</td>\n",
       "      <td>1.2.4</td>\n",
       "      <td>4.0.3 and up</td>\n",
       "    </tr>\n",
       "    <tr>\n",
       "      <th>3</th>\n",
       "      <td>Sketch - Draw &amp; Paint</td>\n",
       "      <td>ART_AND_DESIGN</td>\n",
       "      <td>4.5</td>\n",
       "      <td>215644</td>\n",
       "      <td>25M</td>\n",
       "      <td>50,000,000+</td>\n",
       "      <td>Free</td>\n",
       "      <td>0</td>\n",
       "      <td>Teen</td>\n",
       "      <td>Art &amp; Design</td>\n",
       "      <td>June 8, 2018</td>\n",
       "      <td>Varies with device</td>\n",
       "      <td>4.2 and up</td>\n",
       "    </tr>\n",
       "    <tr>\n",
       "      <th>4</th>\n",
       "      <td>Pixel Draw - Number Art Coloring Book</td>\n",
       "      <td>ART_AND_DESIGN</td>\n",
       "      <td>4.3</td>\n",
       "      <td>967</td>\n",
       "      <td>2.8M</td>\n",
       "      <td>100,000+</td>\n",
       "      <td>Free</td>\n",
       "      <td>0</td>\n",
       "      <td>Everyone</td>\n",
       "      <td>Art &amp; Design;Creativity</td>\n",
       "      <td>June 20, 2018</td>\n",
       "      <td>1.1</td>\n",
       "      <td>4.4 and up</td>\n",
       "    </tr>\n",
       "  </tbody>\n",
       "</table>\n",
       "</div>"
      ],
      "text/plain": [
       "                                                 App        Category  Rating  \\\n",
       "0     Photo Editor & Candy Camera & Grid & ScrapBook  ART_AND_DESIGN     4.1   \n",
       "1                                Coloring book moana  ART_AND_DESIGN     3.9   \n",
       "2  U Launcher Lite – FREE Live Cool Themes, Hide ...  ART_AND_DESIGN     4.7   \n",
       "3                              Sketch - Draw & Paint  ART_AND_DESIGN     4.5   \n",
       "4              Pixel Draw - Number Art Coloring Book  ART_AND_DESIGN     4.3   \n",
       "\n",
       "   Reviews  Size     Installs  Type Price Content Rating  \\\n",
       "0      159   19M      10,000+  Free     0       Everyone   \n",
       "1      967   14M     500,000+  Free     0       Everyone   \n",
       "2    87510  8.7M   5,000,000+  Free     0       Everyone   \n",
       "3   215644   25M  50,000,000+  Free     0           Teen   \n",
       "4      967  2.8M     100,000+  Free     0       Everyone   \n",
       "\n",
       "                      Genres      Last Updated         Current Ver  \\\n",
       "0               Art & Design   January 7, 2018               1.0.0   \n",
       "1  Art & Design;Pretend Play  January 15, 2018               2.0.0   \n",
       "2               Art & Design    August 1, 2018               1.2.4   \n",
       "3               Art & Design      June 8, 2018  Varies with device   \n",
       "4    Art & Design;Creativity     June 20, 2018                 1.1   \n",
       "\n",
       "    Android Ver  \n",
       "0  4.0.3 and up  \n",
       "1  4.0.3 and up  \n",
       "2  4.0.3 and up  \n",
       "3    4.2 and up  \n",
       "4    4.4 and up  "
      ]
     },
     "execution_count": 143,
     "metadata": {},
     "output_type": "execute_result"
    }
   ],
   "source": [
    "import pandas as pd\n",
    "df = pd.read_csv('googleplaystore.csv')\n",
    "df.head()"
   ]
  },
  {
   "cell_type": "code",
   "execution_count": 144,
   "id": "e23ddbf3",
   "metadata": {},
   "outputs": [
    {
     "data": {
      "text/plain": [
       "Index(['App', 'Category', 'Rating', 'Reviews', 'Size', 'Installs', 'Type',\n",
       "       'Price', 'Content Rating', 'Genres', 'Last Updated', 'Current Ver',\n",
       "       'Android Ver'],\n",
       "      dtype='object')"
      ]
     },
     "execution_count": 144,
     "metadata": {},
     "output_type": "execute_result"
    }
   ],
   "source": [
    "df.columns"
   ]
  },
  {
   "cell_type": "markdown",
   "id": "29f07467",
   "metadata": {
    "papermill": {
     "duration": 0.015172,
     "end_time": "2022-07-01T12:53:50.736371",
     "exception": false,
     "start_time": "2022-07-01T12:53:50.721199",
     "status": "completed"
    },
    "tags": []
   },
   "source": [
    "# <p style=\"background-color:coral;font-family:newtimeroman;font-size:150%;color:white;text-align:center;border-radius:20px 60px;\">Understanding the dataset</p>"
   ]
  },
  {
   "cell_type": "code",
   "execution_count": 145,
   "id": "91593f88",
   "metadata": {
    "execution": {
     "iopub.execute_input": "2022-07-01T12:53:50.769921Z",
     "iopub.status.busy": "2022-07-01T12:53:50.768710Z",
     "iopub.status.idle": "2022-07-01T12:53:50.776406Z",
     "shell.execute_reply": "2022-07-01T12:53:50.775120Z"
    },
    "papermill": {
     "duration": 0.02646,
     "end_time": "2022-07-01T12:53:50.778513",
     "exception": false,
     "start_time": "2022-07-01T12:53:50.752053",
     "status": "completed"
    },
    "tags": []
   },
   "outputs": [
    {
     "data": {
      "text/plain": [
       "Index(['App', 'Category', 'Rating', 'Reviews', 'Size', 'Installs', 'Type',\n",
       "       'Price', 'Content Rating', 'Genres', 'Last Updated', 'Current Ver',\n",
       "       'Android Ver'],\n",
       "      dtype='object')"
      ]
     },
     "execution_count": 145,
     "metadata": {},
     "output_type": "execute_result"
    }
   ],
   "source": [
    "df.columns"
   ]
  },
  {
   "cell_type": "markdown",
   "id": "849cb653",
   "metadata": {
    "papermill": {
     "duration": 0.014747,
     "end_time": "2022-07-01T12:53:50.808752",
     "exception": false,
     "start_time": "2022-07-01T12:53:50.794005",
     "status": "completed"
    },
    "tags": []
   },
   "source": [
    "Let's replace the space in the column names with an underscore."
   ]
  },
  {
   "cell_type": "code",
   "execution_count": 146,
   "id": "a9f8440d",
   "metadata": {
    "execution": {
     "iopub.execute_input": "2022-07-01T12:53:50.841368Z",
     "iopub.status.busy": "2022-07-01T12:53:50.840598Z",
     "iopub.status.idle": "2022-07-01T12:53:50.845867Z",
     "shell.execute_reply": "2022-07-01T12:53:50.844906Z"
    },
    "papermill": {
     "duration": 0.02445,
     "end_time": "2022-07-01T12:53:50.848357",
     "exception": false,
     "start_time": "2022-07-01T12:53:50.823907",
     "status": "completed"
    },
    "tags": []
   },
   "outputs": [],
   "source": [
    "df.columns = df.columns.str.replace(\" \",\"_\")"
   ]
  },
  {
   "cell_type": "code",
   "execution_count": 147,
   "id": "10b90286",
   "metadata": {
    "execution": {
     "iopub.execute_input": "2022-07-01T12:53:50.881689Z",
     "iopub.status.busy": "2022-07-01T12:53:50.880922Z",
     "iopub.status.idle": "2022-07-01T12:53:50.887088Z",
     "shell.execute_reply": "2022-07-01T12:53:50.886255Z"
    },
    "papermill": {
     "duration": 0.025228,
     "end_time": "2022-07-01T12:53:50.889153",
     "exception": false,
     "start_time": "2022-07-01T12:53:50.863925",
     "status": "completed"
    },
    "tags": []
   },
   "outputs": [
    {
     "data": {
      "text/plain": [
       "Index(['App', 'Category', 'Rating', 'Reviews', 'Size', 'Installs', 'Type',\n",
       "       'Price', 'Content_Rating', 'Genres', 'Last_Updated', 'Current_Ver',\n",
       "       'Android_Ver'],\n",
       "      dtype='object')"
      ]
     },
     "execution_count": 147,
     "metadata": {},
     "output_type": "execute_result"
    }
   ],
   "source": [
    "df.columns"
   ]
  },
  {
   "cell_type": "code",
   "execution_count": 152,
   "id": "c54e99b0",
   "metadata": {},
   "outputs": [],
   "source": [
    "df.rename({'App':'Application','Android_Ver':'AndroidVersion'},inplace=True,axis=1)"
   ]
  },
  {
   "cell_type": "code",
   "execution_count": 153,
   "id": "b417c355",
   "metadata": {},
   "outputs": [
    {
     "data": {
      "text/plain": [
       "Index(['Application', 'Category', 'Rating', 'Reviews', 'Size', 'Installs',\n",
       "       'Type', 'Price', 'Content_Rating', 'Genres', 'Last_Updated',\n",
       "       'Current_Ver', 'AndroidVersion'],\n",
       "      dtype='object')"
      ]
     },
     "execution_count": 153,
     "metadata": {},
     "output_type": "execute_result"
    }
   ],
   "source": [
    "df.columns"
   ]
  },
  {
   "cell_type": "markdown",
   "id": "423b46f4",
   "metadata": {
    "papermill": {
     "duration": 0.01492,
     "end_time": "2022-07-01T12:53:50.919815",
     "exception": false,
     "start_time": "2022-07-01T12:53:50.904895",
     "status": "completed"
    },
    "tags": []
   },
   "source": [
    "Let's look at the number of rows and columns in the dataset."
   ]
  },
  {
   "cell_type": "code",
   "execution_count": 156,
   "id": "747e92e2",
   "metadata": {},
   "outputs": [
    {
     "data": {
      "text/html": [
       "<div>\n",
       "<style scoped>\n",
       "    .dataframe tbody tr th:only-of-type {\n",
       "        vertical-align: middle;\n",
       "    }\n",
       "\n",
       "    .dataframe tbody tr th {\n",
       "        vertical-align: top;\n",
       "    }\n",
       "\n",
       "    .dataframe thead th {\n",
       "        text-align: right;\n",
       "    }\n",
       "</style>\n",
       "<table border=\"1\" class=\"dataframe\">\n",
       "  <thead>\n",
       "    <tr style=\"text-align: right;\">\n",
       "      <th></th>\n",
       "      <th>Application</th>\n",
       "      <th>Category</th>\n",
       "      <th>Rating</th>\n",
       "      <th>Reviews</th>\n",
       "      <th>Size</th>\n",
       "      <th>Installs</th>\n",
       "      <th>Type</th>\n",
       "      <th>Price</th>\n",
       "      <th>Content_Rating</th>\n",
       "      <th>Genres</th>\n",
       "      <th>Last_Updated</th>\n",
       "      <th>Current_Ver</th>\n",
       "      <th>AndroidVersion</th>\n",
       "    </tr>\n",
       "  </thead>\n",
       "  <tbody>\n",
       "    <tr>\n",
       "      <th>10836</th>\n",
       "      <td>Sya9a Maroc - FR</td>\n",
       "      <td>FAMILY</td>\n",
       "      <td>4.5</td>\n",
       "      <td>38</td>\n",
       "      <td>53M</td>\n",
       "      <td>5,000+</td>\n",
       "      <td>Free</td>\n",
       "      <td>0</td>\n",
       "      <td>Everyone</td>\n",
       "      <td>Education</td>\n",
       "      <td>July 25, 2017</td>\n",
       "      <td>1.48</td>\n",
       "      <td>4.1 and up</td>\n",
       "    </tr>\n",
       "    <tr>\n",
       "      <th>10837</th>\n",
       "      <td>Fr. Mike Schmitz Audio Teachings</td>\n",
       "      <td>FAMILY</td>\n",
       "      <td>5.0</td>\n",
       "      <td>4</td>\n",
       "      <td>3.6M</td>\n",
       "      <td>100+</td>\n",
       "      <td>Free</td>\n",
       "      <td>0</td>\n",
       "      <td>Everyone</td>\n",
       "      <td>Education</td>\n",
       "      <td>July 6, 2018</td>\n",
       "      <td>1.0</td>\n",
       "      <td>4.1 and up</td>\n",
       "    </tr>\n",
       "    <tr>\n",
       "      <th>10838</th>\n",
       "      <td>Parkinson Exercices FR</td>\n",
       "      <td>MEDICAL</td>\n",
       "      <td>NaN</td>\n",
       "      <td>3</td>\n",
       "      <td>9.5M</td>\n",
       "      <td>1,000+</td>\n",
       "      <td>Free</td>\n",
       "      <td>0</td>\n",
       "      <td>Everyone</td>\n",
       "      <td>Medical</td>\n",
       "      <td>January 20, 2017</td>\n",
       "      <td>1.0</td>\n",
       "      <td>2.2 and up</td>\n",
       "    </tr>\n",
       "    <tr>\n",
       "      <th>10839</th>\n",
       "      <td>The SCP Foundation DB fr nn5n</td>\n",
       "      <td>BOOKS_AND_REFERENCE</td>\n",
       "      <td>4.5</td>\n",
       "      <td>114</td>\n",
       "      <td>Varies with device</td>\n",
       "      <td>1,000+</td>\n",
       "      <td>Free</td>\n",
       "      <td>0</td>\n",
       "      <td>Mature 17+</td>\n",
       "      <td>Books &amp; Reference</td>\n",
       "      <td>January 19, 2015</td>\n",
       "      <td>Varies with device</td>\n",
       "      <td>Varies with device</td>\n",
       "    </tr>\n",
       "    <tr>\n",
       "      <th>10840</th>\n",
       "      <td>iHoroscope - 2018 Daily Horoscope &amp; Astrology</td>\n",
       "      <td>LIFESTYLE</td>\n",
       "      <td>4.5</td>\n",
       "      <td>398307</td>\n",
       "      <td>19M</td>\n",
       "      <td>10,000,000+</td>\n",
       "      <td>Free</td>\n",
       "      <td>0</td>\n",
       "      <td>Everyone</td>\n",
       "      <td>Lifestyle</td>\n",
       "      <td>July 25, 2018</td>\n",
       "      <td>Varies with device</td>\n",
       "      <td>Varies with device</td>\n",
       "    </tr>\n",
       "  </tbody>\n",
       "</table>\n",
       "</div>"
      ],
      "text/plain": [
       "                                         Application             Category  \\\n",
       "10836                               Sya9a Maroc - FR               FAMILY   \n",
       "10837               Fr. Mike Schmitz Audio Teachings               FAMILY   \n",
       "10838                         Parkinson Exercices FR              MEDICAL   \n",
       "10839                  The SCP Foundation DB fr nn5n  BOOKS_AND_REFERENCE   \n",
       "10840  iHoroscope - 2018 Daily Horoscope & Astrology            LIFESTYLE   \n",
       "\n",
       "       Rating  Reviews                Size     Installs  Type Price  \\\n",
       "10836     4.5       38                 53M       5,000+  Free     0   \n",
       "10837     5.0        4                3.6M         100+  Free     0   \n",
       "10838     NaN        3                9.5M       1,000+  Free     0   \n",
       "10839     4.5      114  Varies with device       1,000+  Free     0   \n",
       "10840     4.5   398307                 19M  10,000,000+  Free     0   \n",
       "\n",
       "      Content_Rating             Genres      Last_Updated         Current_Ver  \\\n",
       "10836       Everyone          Education     July 25, 2017                1.48   \n",
       "10837       Everyone          Education      July 6, 2018                 1.0   \n",
       "10838       Everyone            Medical  January 20, 2017                 1.0   \n",
       "10839     Mature 17+  Books & Reference  January 19, 2015  Varies with device   \n",
       "10840       Everyone          Lifestyle     July 25, 2018  Varies with device   \n",
       "\n",
       "           AndroidVersion  \n",
       "10836          4.1 and up  \n",
       "10837          4.1 and up  \n",
       "10838          2.2 and up  \n",
       "10839  Varies with device  \n",
       "10840  Varies with device  "
      ]
     },
     "execution_count": 156,
     "metadata": {},
     "output_type": "execute_result"
    }
   ],
   "source": [
    "df.tail()"
   ]
  },
  {
   "cell_type": "code",
   "execution_count": 154,
   "id": "19c7be59",
   "metadata": {
    "execution": {
     "iopub.execute_input": "2022-07-01T12:53:50.952711Z",
     "iopub.status.busy": "2022-07-01T12:53:50.951901Z",
     "iopub.status.idle": "2022-07-01T12:53:50.957952Z",
     "shell.execute_reply": "2022-07-01T12:53:50.956807Z"
    },
    "papermill": {
     "duration": 0.024915,
     "end_time": "2022-07-01T12:53:50.959913",
     "exception": false,
     "start_time": "2022-07-01T12:53:50.934998",
     "status": "completed"
    },
    "tags": []
   },
   "outputs": [
    {
     "data": {
      "text/plain": [
       "(10841, 13)"
      ]
     },
     "execution_count": 154,
     "metadata": {},
     "output_type": "execute_result"
    }
   ],
   "source": [
    "df.shape"
   ]
  },
  {
   "cell_type": "markdown",
   "id": "eb7afebf",
   "metadata": {
    "papermill": {
     "duration": 0.014961,
     "end_time": "2022-07-01T12:53:50.990761",
     "exception": false,
     "start_time": "2022-07-01T12:53:50.975800",
     "status": "completed"
    },
    "tags": []
   },
   "source": [
    "Let me show the types of columns."
   ]
  },
  {
   "cell_type": "code",
   "execution_count": 155,
   "id": "9649a541",
   "metadata": {
    "execution": {
     "iopub.execute_input": "2022-07-01T12:53:51.023767Z",
     "iopub.status.busy": "2022-07-01T12:53:51.022927Z",
     "iopub.status.idle": "2022-07-01T12:53:51.030521Z",
     "shell.execute_reply": "2022-07-01T12:53:51.029759Z"
    },
    "papermill": {
     "duration": 0.026462,
     "end_time": "2022-07-01T12:53:51.032560",
     "exception": false,
     "start_time": "2022-07-01T12:53:51.006098",
     "status": "completed"
    },
    "tags": []
   },
   "outputs": [
    {
     "data": {
      "text/plain": [
       "Application        object\n",
       "Category           object\n",
       "Rating            float64\n",
       "Reviews             int64\n",
       "Size               object\n",
       "Installs           object\n",
       "Type               object\n",
       "Price              object\n",
       "Content_Rating     object\n",
       "Genres             object\n",
       "Last_Updated       object\n",
       "Current_Ver        object\n",
       "AndroidVersion     object\n",
       "dtype: object"
      ]
     },
     "execution_count": 155,
     "metadata": {},
     "output_type": "execute_result"
    }
   ],
   "source": [
    "df.dtypes"
   ]
  },
  {
   "cell_type": "markdown",
   "id": "767510f1",
   "metadata": {},
   "source": [
    "Application        object - No <br>\n",
    "Category           object - No <br>\n",
    "Rating            float64 <br>\n",
    "Reviews             int64<br>\n",
    "Size               object - Change to Integer<br>\n",
    "Installs           object - Change to integer<br>\n",
    "Type               object <br>\n",
    "Price              object - Change to Float<br>\n",
    "Content_Rating     object<br>\n",
    "Genres             object<br>\n",
    "Last_Updated       object<br>\n",
    "Current_Ver        object<br>\n",
    "AndroidVersion     object<br>"
   ]
  },
  {
   "cell_type": "markdown",
   "id": "2cab965b",
   "metadata": {
    "papermill": {
     "duration": 0.015016,
     "end_time": "2022-07-01T12:53:51.063430",
     "exception": false,
     "start_time": "2022-07-01T12:53:51.048414",
     "status": "completed"
    },
    "tags": []
   },
   "source": [
    "# <p style=\"background-color:coral;font-family:newtimeroman;font-size:150%;color:white;text-align:center;border-radius:20px 60px;\">Handling missing data</p>"
   ]
  },
  {
   "cell_type": "markdown",
   "id": "e2f3231d",
   "metadata": {
    "papermill": {
     "duration": 0.016369,
     "end_time": "2022-07-01T12:53:51.095198",
     "exception": false,
     "start_time": "2022-07-01T12:53:51.078829",
     "status": "completed"
    },
    "tags": []
   },
   "source": [
    "Let's have a look at missing data in columns."
   ]
  },
  {
   "cell_type": "code",
   "execution_count": 162,
   "id": "dc28b9c4",
   "metadata": {
    "execution": {
     "iopub.execute_input": "2022-07-01T12:53:51.130040Z",
     "iopub.status.busy": "2022-07-01T12:53:51.129534Z",
     "iopub.status.idle": "2022-07-01T12:53:51.144987Z",
     "shell.execute_reply": "2022-07-01T12:53:51.144090Z"
    },
    "papermill": {
     "duration": 0.035723,
     "end_time": "2022-07-01T12:53:51.147226",
     "exception": false,
     "start_time": "2022-07-01T12:53:51.111503",
     "status": "completed"
    },
    "tags": []
   },
   "outputs": [
    {
     "data": {
      "text/plain": [
       "Application          0\n",
       "Category             1\n",
       "Rating            1474\n",
       "Reviews              0\n",
       "Size                 0\n",
       "Installs             0\n",
       "Type                 1\n",
       "Price                0\n",
       "Content_Rating       0\n",
       "Genres               1\n",
       "Last_Updated         0\n",
       "Current_Ver          8\n",
       "AndroidVersion       2\n",
       "dtype: int64"
      ]
     },
     "execution_count": 162,
     "metadata": {},
     "output_type": "execute_result"
    }
   ],
   "source": [
    "df.isnull().sum()"
   ]
  },
  {
   "cell_type": "markdown",
   "id": "ad32c7c0",
   "metadata": {
    "papermill": {
     "duration": 0.015097,
     "end_time": "2022-07-01T12:53:51.178228",
     "exception": false,
     "start_time": "2022-07-01T12:53:51.163131",
     "status": "completed"
    },
    "tags": []
   },
   "source": [
    "To visualize missing data, let me use seaborn."
   ]
  },
  {
   "cell_type": "code",
   "execution_count": 159,
   "id": "7e1ce901",
   "metadata": {
    "execution": {
     "iopub.execute_input": "2022-07-01T12:53:51.212907Z",
     "iopub.status.busy": "2022-07-01T12:53:51.212108Z",
     "iopub.status.idle": "2022-07-01T12:53:52.486808Z",
     "shell.execute_reply": "2022-07-01T12:53:52.485541Z"
    },
    "papermill": {
     "duration": 1.295376,
     "end_time": "2022-07-01T12:53:52.489785",
     "exception": false,
     "start_time": "2022-07-01T12:53:51.194409",
     "status": "completed"
    },
    "tags": []
   },
   "outputs": [
    {
     "data": {
      "text/plain": [
       "<Figure size 1500x800 with 0 Axes>"
      ]
     },
     "execution_count": 159,
     "metadata": {},
     "output_type": "execute_result"
    },
    {
     "data": {
      "text/plain": [
       "<Figure size 1500x800 with 0 Axes>"
      ]
     },
     "metadata": {},
     "output_type": "display_data"
    }
   ],
   "source": [
    "import matplotlib.pyplot as plt\n",
    "import seaborn as sns\n",
    "# Let's set the theme of plots.\n",
    "plt.figure(figsize=(15,8))"
   ]
  },
  {
   "cell_type": "markdown",
   "id": "89f2f452",
   "metadata": {
    "papermill": {
     "duration": 0.01561,
     "end_time": "2022-07-01T12:53:52.521896",
     "exception": false,
     "start_time": "2022-07-01T12:53:52.506286",
     "status": "completed"
    },
    "tags": []
   },
   "source": [
    "To see missing data, I'm going to use the heatmap method."
   ]
  },
  {
   "cell_type": "code",
   "execution_count": 166,
   "id": "a03eb2a1",
   "metadata": {
    "execution": {
     "iopub.execute_input": "2022-07-01T12:53:52.555223Z",
     "iopub.status.busy": "2022-07-01T12:53:52.554793Z",
     "iopub.status.idle": "2022-07-01T12:53:53.903043Z",
     "shell.execute_reply": "2022-07-01T12:53:53.901538Z"
    },
    "papermill": {
     "duration": 1.37199,
     "end_time": "2022-07-01T12:53:53.909384",
     "exception": false,
     "start_time": "2022-07-01T12:53:52.537394",
     "status": "completed"
    },
    "tags": []
   },
   "outputs": [
    {
     "data": {
      "text/plain": [
       "<Axes: >"
      ]
     },
     "execution_count": 166,
     "metadata": {},
     "output_type": "execute_result"
    },
    {
     "data": {
      "image/png": "[encoded data removed]",
      "text/plain": [
       "<Figure size 640x480 with 1 Axes>"
      ]
     },
     "metadata": {},
     "output_type": "display_data"
    }
   ],
   "source": [
    "sns.heatmap(df.isnull(),cbar=False,cmap='coolwarm')"
   ]
  },
  {
   "cell_type": "markdown",
   "id": "3ab178a6",
   "metadata": {
    "papermill": {
     "duration": 0.022772,
     "end_time": "2022-07-01T12:53:53.955230",
     "exception": false,
     "start_time": "2022-07-01T12:53:53.932458",
     "status": "completed"
    },
    "tags": []
   },
   "source": [
    "I'm going to use the median value for missing data in the rating column. Note that the median is more robust than the mean for the outlier values."
   ]
  },
  {
   "cell_type": "code",
   "execution_count": 170,
   "id": "fcd75744",
   "metadata": {
    "execution": {
     "iopub.execute_input": "2022-07-01T12:53:54.003693Z",
     "iopub.status.busy": "2022-07-01T12:53:54.003247Z",
     "iopub.status.idle": "2022-07-01T12:53:54.023075Z",
     "shell.execute_reply": "2022-07-01T12:53:54.021682Z"
    },
    "papermill": {
     "duration": 0.047173,
     "end_time": "2022-07-01T12:53:54.025924",
     "exception": false,
     "start_time": "2022-07-01T12:53:53.978751",
     "status": "completed"
    },
    "tags": []
   },
   "outputs": [
    {
     "name": "stdout",
     "output_type": "stream",
     "text": [
      "4.3\n"
     ]
    }
   ],
   "source": [
    "rating_median = df[\"Rating\"].median()\n",
    "print(rating_median)\n",
    "df.fillna({'Rating':rating_median}, inplace=True)"
   ]
  },
  {
   "cell_type": "markdown",
   "id": "59454ec1",
   "metadata": {
    "papermill": {
     "duration": 0.022922,
     "end_time": "2022-07-01T12:53:54.072269",
     "exception": false,
     "start_time": "2022-07-01T12:53:54.049347",
     "status": "completed"
    },
    "tags": []
   },
   "source": [
    "Let's remove the other missing data as it is very little."
   ]
  },
  {
   "cell_type": "code",
   "execution_count": 171,
   "id": "bdcb595c",
   "metadata": {},
   "outputs": [
    {
     "data": {
      "text/plain": [
       "Application       0\n",
       "Category          1\n",
       "Rating            0\n",
       "Reviews           0\n",
       "Size              0\n",
       "Installs          0\n",
       "Type              1\n",
       "Price             0\n",
       "Content_Rating    0\n",
       "Genres            1\n",
       "Last_Updated      0\n",
       "Current_Ver       8\n",
       "AndroidVersion    2\n",
       "dtype: int64"
      ]
     },
     "execution_count": 171,
     "metadata": {},
     "output_type": "execute_result"
    }
   ],
   "source": [
    "df.isnull().sum()"
   ]
  },
  {
   "cell_type": "code",
   "execution_count": 172,
   "id": "48c6f84d",
   "metadata": {
    "execution": {
     "iopub.execute_input": "2022-07-01T12:53:54.121093Z",
     "iopub.status.busy": "2022-07-01T12:53:54.120132Z",
     "iopub.status.idle": "2022-07-01T12:53:54.140400Z",
     "shell.execute_reply": "2022-07-01T12:53:54.139301Z"
    },
    "papermill": {
     "duration": 0.047716,
     "end_time": "2022-07-01T12:53:54.143031",
     "exception": false,
     "start_time": "2022-07-01T12:53:54.095315",
     "status": "completed"
    },
    "tags": []
   },
   "outputs": [],
   "source": [
    "df.dropna(inplace=True)"
   ]
  },
  {
   "cell_type": "markdown",
   "id": "a1c164bc",
   "metadata": {
    "papermill": {
     "duration": 0.022207,
     "end_time": "2022-07-01T12:53:54.187701",
     "exception": false,
     "start_time": "2022-07-01T12:53:54.165494",
     "status": "completed"
    },
    "tags": []
   },
   "source": [
    "Let's take a look at missing data again."
   ]
  },
  {
   "cell_type": "code",
   "execution_count": 173,
   "id": "f7ff0e4c",
   "metadata": {
    "execution": {
     "iopub.execute_input": "2022-07-01T12:53:54.235852Z",
     "iopub.status.busy": "2022-07-01T12:53:54.235094Z",
     "iopub.status.idle": "2022-07-01T12:53:54.251034Z",
     "shell.execute_reply": "2022-07-01T12:53:54.249744Z"
    },
    "papermill": {
     "duration": 0.042583,
     "end_time": "2022-07-01T12:53:54.253336",
     "exception": false,
     "start_time": "2022-07-01T12:53:54.210753",
     "status": "completed"
    },
    "tags": []
   },
   "outputs": [
    {
     "data": {
      "text/plain": [
       "Application       0\n",
       "Category          0\n",
       "Rating            0\n",
       "Reviews           0\n",
       "Size              0\n",
       "Installs          0\n",
       "Type              0\n",
       "Price             0\n",
       "Content_Rating    0\n",
       "Genres            0\n",
       "Last_Updated      0\n",
       "Current_Ver       0\n",
       "AndroidVersion    0\n",
       "dtype: int64"
      ]
     },
     "execution_count": 173,
     "metadata": {},
     "output_type": "execute_result"
    }
   ],
   "source": [
    "df.isnull().sum()"
   ]
  },
  {
   "cell_type": "code",
   "execution_count": 174,
   "id": "15db0e09",
   "metadata": {
    "execution": {
     "iopub.execute_input": "2022-07-01T12:53:54.300756Z",
     "iopub.status.busy": "2022-07-01T12:53:54.299672Z",
     "iopub.status.idle": "2022-07-01T12:53:54.327114Z",
     "shell.execute_reply": "2022-07-01T12:53:54.326271Z"
    },
    "papermill": {
     "duration": 0.054989,
     "end_time": "2022-07-01T12:53:54.330549",
     "exception": false,
     "start_time": "2022-07-01T12:53:54.275560",
     "status": "completed"
    },
    "tags": []
   },
   "outputs": [
    {
     "name": "stdout",
     "output_type": "stream",
     "text": [
      "<class 'pandas.core.frame.DataFrame'>\n",
      "Index: 10829 entries, 0 to 10840\n",
      "Data columns (total 13 columns):\n",
      " #   Column          Non-Null Count  Dtype  \n",
      "---  ------          --------------  -----  \n",
      " 0   Application     10829 non-null  object \n",
      " 1   Category        10829 non-null  object \n",
      " 2   Rating          10829 non-null  float64\n",
      " 3   Reviews         10829 non-null  int64  \n",
      " 4   Size            10829 non-null  object \n",
      " 5   Installs        10829 non-null  object \n",
      " 6   Type            10829 non-null  object \n",
      " 7   Price           10829 non-null  object \n",
      " 8   Content_Rating  10829 non-null  object \n",
      " 9   Genres          10829 non-null  object \n",
      " 10  Last_Updated    10829 non-null  object \n",
      " 11  Current_Ver     10829 non-null  object \n",
      " 12  AndroidVersion  10829 non-null  object \n",
      "dtypes: float64(1), int64(1), object(11)\n",
      "memory usage: 1.2+ MB\n"
     ]
    }
   ],
   "source": [
    "df.info()"
   ]
  },
  {
   "cell_type": "markdown",
   "id": "a85f5995",
   "metadata": {
    "papermill": {
     "duration": 0.024943,
     "end_time": "2022-07-01T12:53:54.380882",
     "exception": false,
     "start_time": "2022-07-01T12:53:54.355939",
     "status": "completed"
    },
    "tags": []
   },
   "source": [
    "# <p style=\"background-color:coral;font-family:newtimeroman;font-size:150%;color:white;text-align:center;border-radius:20px 60px;\">Data preprocessing</p>"
   ]
  },
  {
   "cell_type": "markdown",
   "id": "0058d0f0",
   "metadata": {
    "papermill": {
     "duration": 0.026372,
     "end_time": "2022-07-01T12:53:54.436027",
     "exception": false,
     "start_time": "2022-07-01T12:53:54.409655",
     "status": "completed"
    },
    "tags": []
   },
   "source": [
    "## <font color='coral'> Handling the review column <font color='black'>     "
   ]
  },
  {
   "cell_type": "markdown",
   "id": "8a7099d2",
   "metadata": {
    "papermill": {
     "duration": 0.037292,
     "end_time": "2022-07-01T12:53:54.511490",
     "exception": false,
     "start_time": "2022-07-01T12:53:54.474198",
     "status": "completed"
    },
    "tags": []
   },
   "source": [
    "Let's convert the type of reviews into numeric."
   ]
  },
  {
   "cell_type": "code",
   "execution_count": null,
   "id": "f82beb78",
   "metadata": {
    "execution": {
     "iopub.execute_input": "2022-07-01T12:53:54.589288Z",
     "iopub.status.busy": "2022-07-01T12:53:54.588421Z",
     "iopub.status.idle": "2022-07-01T12:53:54.607078Z",
     "shell.execute_reply": "2022-07-01T12:53:54.605526Z"
    },
    "papermill": {
     "duration": 0.060768,
     "end_time": "2022-07-01T12:53:54.610090",
     "exception": false,
     "start_time": "2022-07-01T12:53:54.549322",
     "status": "completed"
    },
    "tags": []
   },
   "outputs": [],
   "source": [
    "df[\"Reviews\"].describe()"
   ]
  },
  {
   "cell_type": "code",
   "execution_count": null,
   "id": "a234c7ee",
   "metadata": {
    "execution": {
     "iopub.execute_input": "2022-07-01T12:53:54.658634Z",
     "iopub.status.busy": "2022-07-01T12:53:54.657786Z",
     "iopub.status.idle": "2022-07-01T12:53:54.666923Z",
     "shell.execute_reply": "2022-07-01T12:53:54.665847Z"
    },
    "papermill": {
     "duration": 0.0365,
     "end_time": "2022-07-01T12:53:54.669494",
     "exception": false,
     "start_time": "2022-07-01T12:53:54.632994",
     "status": "completed"
    },
    "tags": []
   },
   "outputs": [],
   "source": [
    "df[\"Reviews\"] = df[\"Reviews\"].astype(\"int64\")"
   ]
  },
  {
   "cell_type": "code",
   "execution_count": null,
   "id": "71ebc9a8",
   "metadata": {
    "execution": {
     "iopub.execute_input": "2022-07-01T12:53:54.717738Z",
     "iopub.status.busy": "2022-07-01T12:53:54.717160Z",
     "iopub.status.idle": "2022-07-01T12:53:54.731376Z",
     "shell.execute_reply": "2022-07-01T12:53:54.730296Z"
    },
    "papermill": {
     "duration": 0.04512,
     "end_time": "2022-07-01T12:53:54.737647",
     "exception": false,
     "start_time": "2022-07-01T12:53:54.692527",
     "status": "completed"
    },
    "tags": []
   },
   "outputs": [],
   "source": [
    "df[\"Reviews\"].describe().round()"
   ]
  },
  {
   "cell_type": "markdown",
   "id": "af4c32dc",
   "metadata": {
    "papermill": {
     "duration": 0.026032,
     "end_time": "2022-07-01T12:53:54.788452",
     "exception": false,
     "start_time": "2022-07-01T12:53:54.762420",
     "status": "completed"
    },
    "tags": []
   },
   "source": [
    "## <font color='coral'> Handling the size column <font color='black'>     "
   ]
  },
  {
   "cell_type": "code",
   "execution_count": null,
   "id": "8decccb9",
   "metadata": {
    "execution": {
     "iopub.execute_input": "2022-07-01T12:53:54.837598Z",
     "iopub.status.busy": "2022-07-01T12:53:54.836744Z",
     "iopub.status.idle": "2022-07-01T12:53:54.849673Z",
     "shell.execute_reply": "2022-07-01T12:53:54.847834Z"
    },
    "papermill": {
     "duration": 0.040445,
     "end_time": "2022-07-01T12:53:54.852530",
     "exception": false,
     "start_time": "2022-07-01T12:53:54.812085",
     "status": "completed"
    },
    "tags": []
   },
   "outputs": [],
   "source": [
    "print(len(df[\"Size\"].unique()))\n",
    "df[\"Size\"].unique()"
   ]
  },
  {
   "cell_type": "markdown",
   "id": "81577809",
   "metadata": {
    "papermill": {
     "duration": 0.023112,
     "end_time": "2022-07-01T12:53:54.899184",
     "exception": false,
     "start_time": "2022-07-01T12:53:54.876072",
     "status": "completed"
    },
    "tags": []
   },
   "source": [
    "Let's remove the M and k in the size column."
   ]
  },
  {
   "cell_type": "code",
   "execution_count": null,
   "id": "3eb44b40",
   "metadata": {},
   "outputs": [],
   "source": [
    "def convert_to_mb(size_str):\n",
    "    if 'M' in size_str:\n",
    "        return float(size_str.replace('M',''))\n",
    "    elif 'k' in size_str:\n",
    "        return float(size_str.replace('k','')) / 1024\n",
    "    else:\n",
    "        return 0  # Handle other cases if necessary\n",
    "\n",
    "# Apply the function to the 'size' column\n",
    "df['Size'] = df['Size'].apply(convert_to_mb)"
   ]
  },
  {
   "cell_type": "code",
   "execution_count": null,
   "id": "a979399d",
   "metadata": {
    "execution": {
     "iopub.execute_input": "2022-07-01T12:53:55.035144Z",
     "iopub.status.busy": "2022-07-01T12:53:55.034514Z",
     "iopub.status.idle": "2022-07-01T12:53:55.045471Z",
     "shell.execute_reply": "2022-07-01T12:53:55.044459Z"
    },
    "papermill": {
     "duration": 0.039063,
     "end_time": "2022-07-01T12:53:55.048382",
     "exception": false,
     "start_time": "2022-07-01T12:53:55.009319",
     "status": "completed"
    },
    "tags": []
   },
   "outputs": [],
   "source": [
    "\n",
    "df['Size'].unique()"
   ]
  },
  {
   "cell_type": "markdown",
   "id": "08d9c2ce",
   "metadata": {
    "papermill": {
     "duration": 0.023508,
     "end_time": "2022-07-01T12:53:55.097730",
     "exception": false,
     "start_time": "2022-07-01T12:53:55.074222",
     "status": "completed"
    },
    "tags": []
   },
   "source": [
    "Let's replace the string \"Depends on device\" with the median of the size column. To do this, I will first calculate the median of the size."
   ]
  },
  {
   "cell_type": "code",
   "execution_count": null,
   "id": "41af7922",
   "metadata": {
    "execution": {
     "iopub.execute_input": "2022-07-01T12:53:55.148550Z",
     "iopub.status.busy": "2022-07-01T12:53:55.147643Z",
     "iopub.status.idle": "2022-07-01T12:53:55.161337Z",
     "shell.execute_reply": "2022-07-01T12:53:55.160200Z"
    },
    "papermill": {
     "duration": 0.042474,
     "end_time": "2022-07-01T12:53:55.163776",
     "exception": false,
     "start_time": "2022-07-01T12:53:55.121302",
     "status": "completed"
    },
    "tags": []
   },
   "outputs": [],
   "source": [
    "size_median = df[df[\"Size\"]!=\"Varies with device\"][\"Size\"].astype(float).median()\n",
    "size_median"
   ]
  },
  {
   "cell_type": "code",
   "execution_count": null,
   "id": "7b7a8218",
   "metadata": {
    "execution": {
     "iopub.execute_input": "2022-07-01T12:53:55.213642Z",
     "iopub.status.busy": "2022-07-01T12:53:55.212583Z",
     "iopub.status.idle": "2022-07-01T12:53:55.219908Z",
     "shell.execute_reply": "2022-07-01T12:53:55.218962Z"
    },
    "papermill": {
     "duration": 0.03504,
     "end_time": "2022-07-01T12:53:55.222362",
     "exception": false,
     "start_time": "2022-07-01T12:53:55.187322",
     "status": "completed"
    },
    "tags": []
   },
   "outputs": [],
   "source": [
    "df[\"Size\"].replace(\"Varies with device\", size_median, inplace=True)"
   ]
  },
  {
   "cell_type": "markdown",
   "id": "e423f9c1",
   "metadata": {
    "papermill": {
     "duration": 0.023642,
     "end_time": "2022-07-01T12:53:55.269303",
     "exception": false,
     "start_time": "2022-07-01T12:53:55.245661",
     "status": "completed"
    },
    "tags": []
   },
   "source": [
    "Let's convert this column into numeric."
   ]
  },
  {
   "cell_type": "code",
   "execution_count": null,
   "id": "4bc92b38",
   "metadata": {
    "execution": {
     "iopub.execute_input": "2022-07-01T12:53:55.322054Z",
     "iopub.status.busy": "2022-07-01T12:53:55.320781Z",
     "iopub.status.idle": "2022-07-01T12:53:55.332778Z",
     "shell.execute_reply": "2022-07-01T12:53:55.331864Z"
    },
    "papermill": {
     "duration": 0.039224,
     "end_time": "2022-07-01T12:53:55.335263",
     "exception": false,
     "start_time": "2022-07-01T12:53:55.296039",
     "status": "completed"
    },
    "tags": []
   },
   "outputs": [],
   "source": [
    "df.Size = pd.to_numeric(df.Size)"
   ]
  },
  {
   "cell_type": "code",
   "execution_count": null,
   "id": "d7193d34",
   "metadata": {
    "execution": {
     "iopub.execute_input": "2022-07-01T12:53:55.383927Z",
     "iopub.status.busy": "2022-07-01T12:53:55.383442Z",
     "iopub.status.idle": "2022-07-01T12:53:55.391963Z",
     "shell.execute_reply": "2022-07-01T12:53:55.390804Z"
    },
    "papermill": {
     "duration": 0.035414,
     "end_time": "2022-07-01T12:53:55.394013",
     "exception": false,
     "start_time": "2022-07-01T12:53:55.358599",
     "status": "completed"
    },
    "tags": []
   },
   "outputs": [],
   "source": [
    "df.Size.head()"
   ]
  },
  {
   "cell_type": "code",
   "execution_count": null,
   "id": "cfde6195",
   "metadata": {
    "execution": {
     "iopub.execute_input": "2022-07-01T12:53:55.444073Z",
     "iopub.status.busy": "2022-07-01T12:53:55.443205Z",
     "iopub.status.idle": "2022-07-01T12:53:55.456848Z",
     "shell.execute_reply": "2022-07-01T12:53:55.455415Z"
    },
    "papermill": {
     "duration": 0.041463,
     "end_time": "2022-07-01T12:53:55.459060",
     "exception": false,
     "start_time": "2022-07-01T12:53:55.417597",
     "status": "completed"
    },
    "tags": []
   },
   "outputs": [],
   "source": [
    "df.Size.describe().round()"
   ]
  },
  {
   "cell_type": "markdown",
   "id": "082eb811",
   "metadata": {
    "papermill": {
     "duration": 0.023307,
     "end_time": "2022-07-01T12:53:55.506852",
     "exception": false,
     "start_time": "2022-07-01T12:53:55.483545",
     "status": "completed"
    },
    "tags": []
   },
   "source": [
    "## <font color='coral'> Handling the installs column <font color='black'>   "
   ]
  },
  {
   "cell_type": "code",
   "execution_count": null,
   "id": "6fff3045",
   "metadata": {
    "execution": {
     "iopub.execute_input": "2022-07-01T12:53:55.557040Z",
     "iopub.status.busy": "2022-07-01T12:53:55.556327Z",
     "iopub.status.idle": "2022-07-01T12:53:55.564553Z",
     "shell.execute_reply": "2022-07-01T12:53:55.563555Z"
    },
    "papermill": {
     "duration": 0.03602,
     "end_time": "2022-07-01T12:53:55.566938",
     "exception": false,
     "start_time": "2022-07-01T12:53:55.530918",
     "status": "completed"
    },
    "tags": []
   },
   "outputs": [],
   "source": [
    "df[\"Installs\"].unique()"
   ]
  },
  {
   "cell_type": "markdown",
   "id": "29dbd4b3",
   "metadata": {
    "papermill": {
     "duration": 0.023389,
     "end_time": "2022-07-01T12:53:55.613929",
     "exception": false,
     "start_time": "2022-07-01T12:53:55.590540",
     "status": "completed"
    },
    "tags": []
   },
   "source": [
    "Let's remove the + symbol in this column."
   ]
  },
  {
   "cell_type": "code",
   "execution_count": null,
   "id": "b1d58e3a",
   "metadata": {
    "execution": {
     "iopub.execute_input": "2022-07-01T12:53:55.662786Z",
     "iopub.status.busy": "2022-07-01T12:53:55.662366Z",
     "iopub.status.idle": "2022-07-01T12:53:55.686457Z",
     "shell.execute_reply": "2022-07-01T12:53:55.685157Z"
    },
    "papermill": {
     "duration": 0.051347,
     "end_time": "2022-07-01T12:53:55.688870",
     "exception": false,
     "start_time": "2022-07-01T12:53:55.637523",
     "status": "completed"
    },
    "tags": []
   },
   "outputs": [],
   "source": [
    "df.Installs = df.Installs.apply(lambda x:x.replace(\"+\",\"\"))\n",
    "df.Installs = df.Installs.apply(lambda x:x.replace(\",\",\"\"))\n",
    "df.Installs = df.Installs.apply(lambda x:int(x))"
   ]
  },
  {
   "cell_type": "code",
   "execution_count": null,
   "id": "3843a671",
   "metadata": {
    "execution": {
     "iopub.execute_input": "2022-07-01T12:53:55.739182Z",
     "iopub.status.busy": "2022-07-01T12:53:55.738748Z",
     "iopub.status.idle": "2022-07-01T12:53:55.746881Z",
     "shell.execute_reply": "2022-07-01T12:53:55.745807Z"
    },
    "papermill": {
     "duration": 0.035779,
     "end_time": "2022-07-01T12:53:55.748837",
     "exception": false,
     "start_time": "2022-07-01T12:53:55.713058",
     "status": "completed"
    },
    "tags": []
   },
   "outputs": [],
   "source": [
    "df[\"Installs\"].unique()"
   ]
  },
  {
   "cell_type": "markdown",
   "id": "5c6093e6",
   "metadata": {
    "papermill": {
     "duration": 0.023657,
     "end_time": "2022-07-01T12:53:55.796117",
     "exception": false,
     "start_time": "2022-07-01T12:53:55.772460",
     "status": "completed"
    },
    "tags": []
   },
   "source": [
    "## <font color='coral'> Handling the price column<font color='black'>   "
   ]
  },
  {
   "cell_type": "code",
   "execution_count": null,
   "id": "0d4017fc",
   "metadata": {
    "execution": {
     "iopub.execute_input": "2022-07-01T12:53:55.846310Z",
     "iopub.status.busy": "2022-07-01T12:53:55.845339Z",
     "iopub.status.idle": "2022-07-01T12:53:55.853666Z",
     "shell.execute_reply": "2022-07-01T12:53:55.852802Z"
    },
    "papermill": {
     "duration": 0.035677,
     "end_time": "2022-07-01T12:53:55.855905",
     "exception": false,
     "start_time": "2022-07-01T12:53:55.820228",
     "status": "completed"
    },
    "tags": []
   },
   "outputs": [],
   "source": [
    "df[\"Price\"].unique()"
   ]
  },
  {
   "cell_type": "markdown",
   "id": "0f8f2309",
   "metadata": {
    "papermill": {
     "duration": 0.024411,
     "end_time": "2022-07-01T12:53:55.904744",
     "exception": false,
     "start_time": "2022-07-01T12:53:55.880333",
     "status": "completed"
    },
    "tags": []
   },
   "source": [
    "Let's remove the $ symbol in this column."
   ]
  },
  {
   "cell_type": "code",
   "execution_count": null,
   "id": "2a1ca04a",
   "metadata": {
    "execution": {
     "iopub.execute_input": "2022-07-01T12:53:55.955687Z",
     "iopub.status.busy": "2022-07-01T12:53:55.954625Z",
     "iopub.status.idle": "2022-07-01T12:53:55.968845Z",
     "shell.execute_reply": "2022-07-01T12:53:55.967684Z"
    },
    "papermill": {
     "duration": 0.042582,
     "end_time": "2022-07-01T12:53:55.971499",
     "exception": false,
     "start_time": "2022-07-01T12:53:55.928917",
     "status": "completed"
    },
    "tags": []
   },
   "outputs": [],
   "source": [
    "df.Price = df.Price.apply(lambda x:x.replace(\"$\",\"\"))\n",
    "df.Price = df.Price.apply(lambda x:float(x))"
   ]
  },
  {
   "cell_type": "code",
   "execution_count": null,
   "id": "4aac9fc3",
   "metadata": {
    "execution": {
     "iopub.execute_input": "2022-07-01T12:53:56.021518Z",
     "iopub.status.busy": "2022-07-01T12:53:56.021076Z",
     "iopub.status.idle": "2022-07-01T12:53:56.031326Z",
     "shell.execute_reply": "2022-07-01T12:53:56.030101Z"
    },
    "papermill": {
     "duration": 0.037949,
     "end_time": "2022-07-01T12:53:56.033520",
     "exception": false,
     "start_time": "2022-07-01T12:53:55.995571",
     "status": "completed"
    },
    "tags": []
   },
   "outputs": [],
   "source": [
    "df[\"Price\"].unique()"
   ]
  },
  {
   "cell_type": "markdown",
   "id": "15d0097b",
   "metadata": {
    "papermill": {
     "duration": 0.023781,
     "end_time": "2022-07-01T12:53:56.081769",
     "exception": false,
     "start_time": "2022-07-01T12:53:56.057988",
     "status": "completed"
    },
    "tags": []
   },
   "source": [
    "## <font color='coral'> Handling the genres column<font color='black'>  "
   ]
  },
  {
   "cell_type": "code",
   "execution_count": null,
   "id": "4b837e11",
   "metadata": {
    "execution": {
     "iopub.execute_input": "2022-07-01T12:53:56.134138Z",
     "iopub.status.busy": "2022-07-01T12:53:56.133204Z",
     "iopub.status.idle": "2022-07-01T12:53:56.142163Z",
     "shell.execute_reply": "2022-07-01T12:53:56.141025Z"
    },
    "papermill": {
     "duration": 0.037908,
     "end_time": "2022-07-01T12:53:56.144561",
     "exception": false,
     "start_time": "2022-07-01T12:53:56.106653",
     "status": "completed"
    },
    "tags": []
   },
   "outputs": [],
   "source": [
    "len(df[\"Genres\"].unique())"
   ]
  },
  {
   "cell_type": "code",
   "execution_count": null,
   "id": "1dbcefa4",
   "metadata": {
    "execution": {
     "iopub.execute_input": "2022-07-01T12:53:56.196540Z",
     "iopub.status.busy": "2022-07-01T12:53:56.195543Z",
     "iopub.status.idle": "2022-07-01T12:53:56.205404Z",
     "shell.execute_reply": "2022-07-01T12:53:56.204205Z"
    },
    "papermill": {
     "duration": 0.039016,
     "end_time": "2022-07-01T12:53:56.207944",
     "exception": false,
     "start_time": "2022-07-01T12:53:56.168928",
     "status": "completed"
    },
    "tags": []
   },
   "outputs": [],
   "source": [
    "df[\"Genres\"].head(10)"
   ]
  },
  {
   "cell_type": "markdown",
   "id": "68c98839",
   "metadata": {
    "papermill": {
     "duration": 0.024733,
     "end_time": "2022-07-01T12:53:56.257499",
     "exception": false,
     "start_time": "2022-07-01T12:53:56.232766",
     "status": "completed"
    },
    "tags": []
   },
   "source": [
    "The data is divided between genre and subgenre, let's only set by genre."
   ]
  },
  {
   "cell_type": "code",
   "execution_count": null,
   "id": "e1108dc6",
   "metadata": {
    "execution": {
     "iopub.execute_input": "2022-07-01T12:53:56.309448Z",
     "iopub.status.busy": "2022-07-01T12:53:56.308540Z",
     "iopub.status.idle": "2022-07-01T12:53:56.328069Z",
     "shell.execute_reply": "2022-07-01T12:53:56.326790Z"
    },
    "papermill": {
     "duration": 0.048644,
     "end_time": "2022-07-01T12:53:56.330856",
     "exception": false,
     "start_time": "2022-07-01T12:53:56.282212",
     "status": "completed"
    },
    "tags": []
   },
   "outputs": [],
   "source": [
    "df[\"Genres\"] = df[\"Genres\"].str.split(\";\").str[0]"
   ]
  },
  {
   "cell_type": "code",
   "execution_count": null,
   "id": "d179a29c",
   "metadata": {
    "execution": {
     "iopub.execute_input": "2022-07-01T12:53:56.381735Z",
     "iopub.status.busy": "2022-07-01T12:53:56.381274Z",
     "iopub.status.idle": "2022-07-01T12:53:56.389598Z",
     "shell.execute_reply": "2022-07-01T12:53:56.388496Z"
    },
    "papermill": {
     "duration": 0.036373,
     "end_time": "2022-07-01T12:53:56.391829",
     "exception": false,
     "start_time": "2022-07-01T12:53:56.355456",
     "status": "completed"
    },
    "tags": []
   },
   "outputs": [],
   "source": [
    "len(df[\"Genres\"].unique())"
   ]
  },
  {
   "cell_type": "code",
   "execution_count": null,
   "id": "25bf788e",
   "metadata": {
    "execution": {
     "iopub.execute_input": "2022-07-01T12:53:56.443347Z",
     "iopub.status.busy": "2022-07-01T12:53:56.442592Z",
     "iopub.status.idle": "2022-07-01T12:53:56.451861Z",
     "shell.execute_reply": "2022-07-01T12:53:56.450378Z"
    },
    "papermill": {
     "duration": 0.037473,
     "end_time": "2022-07-01T12:53:56.454181",
     "exception": false,
     "start_time": "2022-07-01T12:53:56.416708",
     "status": "completed"
    },
    "tags": []
   },
   "outputs": [],
   "source": [
    "df[\"Genres\"].unique()"
   ]
  },
  {
   "cell_type": "code",
   "execution_count": null,
   "id": "72e390d9",
   "metadata": {
    "execution": {
     "iopub.execute_input": "2022-07-01T12:53:56.507294Z",
     "iopub.status.busy": "2022-07-01T12:53:56.506838Z",
     "iopub.status.idle": "2022-07-01T12:53:56.517269Z",
     "shell.execute_reply": "2022-07-01T12:53:56.516083Z"
    },
    "papermill": {
     "duration": 0.040531,
     "end_time": "2022-07-01T12:53:56.519814",
     "exception": false,
     "start_time": "2022-07-01T12:53:56.479283",
     "status": "completed"
    },
    "tags": []
   },
   "outputs": [],
   "source": [
    "df[\"Genres\"].value_counts()"
   ]
  },
  {
   "cell_type": "markdown",
   "id": "f7935030",
   "metadata": {
    "papermill": {
     "duration": 0.024486,
     "end_time": "2022-07-01T12:53:56.569109",
     "exception": false,
     "start_time": "2022-07-01T12:53:56.544623",
     "status": "completed"
    },
    "tags": []
   },
   "source": [
    "Let's combine the music & audio with the music."
   ]
  },
  {
   "cell_type": "code",
   "execution_count": null,
   "id": "78e27c6d",
   "metadata": {
    "execution": {
     "iopub.execute_input": "2022-07-01T12:53:56.620595Z",
     "iopub.status.busy": "2022-07-01T12:53:56.620143Z",
     "iopub.status.idle": "2022-07-01T12:53:56.627087Z",
     "shell.execute_reply": "2022-07-01T12:53:56.625751Z"
    },
    "papermill": {
     "duration": 0.035495,
     "end_time": "2022-07-01T12:53:56.629238",
     "exception": false,
     "start_time": "2022-07-01T12:53:56.593743",
     "status": "completed"
    },
    "tags": []
   },
   "outputs": [],
   "source": [
    "df[\"Genres\"].replace(\"Music & Audio\", \"Music\", inplace =True)"
   ]
  },
  {
   "cell_type": "markdown",
   "id": "c6229769",
   "metadata": {
    "papermill": {
     "duration": 0.024269,
     "end_time": "2022-07-01T12:53:56.678188",
     "exception": false,
     "start_time": "2022-07-01T12:53:56.653919",
     "status": "completed"
    },
    "tags": []
   },
   "source": [
    "## <font color='coral'> Handling the last updated column<font color='black'> "
   ]
  },
  {
   "cell_type": "code",
   "execution_count": null,
   "id": "dda33b68",
   "metadata": {
    "execution": {
     "iopub.execute_input": "2022-07-01T12:53:56.729961Z",
     "iopub.status.busy": "2022-07-01T12:53:56.728985Z",
     "iopub.status.idle": "2022-07-01T12:53:56.738156Z",
     "shell.execute_reply": "2022-07-01T12:53:56.737018Z"
    },
    "papermill": {
     "duration": 0.037516,
     "end_time": "2022-07-01T12:53:56.740408",
     "exception": false,
     "start_time": "2022-07-01T12:53:56.702892",
     "status": "completed"
    },
    "tags": []
   },
   "outputs": [],
   "source": [
    "df[\"Last_Updated\"].head()"
   ]
  },
  {
   "cell_type": "code",
   "execution_count": null,
   "id": "5e9cb06f",
   "metadata": {
    "execution": {
     "iopub.execute_input": "2022-07-01T12:53:56.792485Z",
     "iopub.status.busy": "2022-07-01T12:53:56.791545Z",
     "iopub.status.idle": "2022-07-01T12:53:56.931375Z",
     "shell.execute_reply": "2022-07-01T12:53:56.930383Z"
    },
    "papermill": {
     "duration": 0.16842,
     "end_time": "2022-07-01T12:53:56.933987",
     "exception": false,
     "start_time": "2022-07-01T12:53:56.765567",
     "status": "completed"
    },
    "tags": []
   },
   "outputs": [],
   "source": [
    "df[\"Last_Updated\"] = pd.to_datetime(df[\"Last_Updated\"])"
   ]
  },
  {
   "cell_type": "markdown",
   "id": "84303abc",
   "metadata": {
    "papermill": {
     "duration": 0.024579,
     "end_time": "2022-07-01T12:53:56.983232",
     "exception": false,
     "start_time": "2022-07-01T12:53:56.958653",
     "status": "completed"
    },
    "tags": []
   },
   "source": [
    "Let's take a look at the dataset after EDA"
   ]
  },
  {
   "cell_type": "code",
   "execution_count": null,
   "id": "2c9c84d8",
   "metadata": {
    "execution": {
     "iopub.execute_input": "2022-07-01T12:53:57.035796Z",
     "iopub.status.busy": "2022-07-01T12:53:57.034700Z",
     "iopub.status.idle": "2022-07-01T12:53:57.054397Z",
     "shell.execute_reply": "2022-07-01T12:53:57.053493Z"
    },
    "papermill": {
     "duration": 0.04829,
     "end_time": "2022-07-01T12:53:57.056505",
     "exception": false,
     "start_time": "2022-07-01T12:53:57.008215",
     "status": "completed"
    },
    "tags": []
   },
   "outputs": [],
   "source": [
    "df.head()"
   ]
  },
  {
   "cell_type": "code",
   "execution_count": null,
   "id": "5625c003",
   "metadata": {
    "execution": {
     "iopub.execute_input": "2022-07-01T12:53:57.108823Z",
     "iopub.status.busy": "2022-07-01T12:53:57.107977Z",
     "iopub.status.idle": "2022-07-01T12:53:57.115597Z",
     "shell.execute_reply": "2022-07-01T12:53:57.114796Z"
    },
    "papermill": {
     "duration": 0.036267,
     "end_time": "2022-07-01T12:53:57.117667",
     "exception": false,
     "start_time": "2022-07-01T12:53:57.081400",
     "status": "completed"
    },
    "tags": []
   },
   "outputs": [],
   "source": [
    "df.dtypes"
   ]
  },
  {
   "cell_type": "markdown",
   "id": "5f140aae",
   "metadata": {
    "papermill": {
     "duration": 0.025647,
     "end_time": "2022-07-01T12:53:57.169105",
     "exception": false,
     "start_time": "2022-07-01T12:53:57.143458",
     "status": "completed"
    },
    "tags": []
   },
   "source": [
    "# <p style=\"background-color:coral;font-family:newtimeroman;font-size:150%;color:white;text-align:center;border-radius:20px 60px;\">Data visualization</p>"
   ]
  },
  {
   "cell_type": "markdown",
   "id": "7d72546a",
   "metadata": {
    "papermill": {
     "duration": 0.024841,
     "end_time": "2022-07-01T12:53:57.219150",
     "exception": false,
     "start_time": "2022-07-01T12:53:57.194309",
     "status": "completed"
    },
    "tags": []
   },
   "source": [
    "## <font color='coral'> Bar plot for the type column<font color='black'> "
   ]
  },
  {
   "cell_type": "code",
   "execution_count": null,
   "id": "9e96fecc",
   "metadata": {
    "execution": {
     "iopub.execute_input": "2022-07-01T12:53:57.271940Z",
     "iopub.status.busy": "2022-07-01T12:53:57.271092Z",
     "iopub.status.idle": "2022-07-01T12:53:57.834485Z",
     "shell.execute_reply": "2022-07-01T12:53:57.833082Z"
    },
    "papermill": {
     "duration": 0.593161,
     "end_time": "2022-07-01T12:53:57.837588",
     "exception": false,
     "start_time": "2022-07-01T12:53:57.244427",
     "status": "completed"
    },
    "tags": []
   },
   "outputs": [],
   "source": [
    "df[\"Type\"].value_counts().plot(kind=\"bar\", color =\"red\")\n",
    "plt.title(\"Free & Paid\")"
   ]
  },
  {
   "cell_type": "markdown",
   "id": "2b246eeb",
   "metadata": {
    "papermill": {
     "duration": 0.026253,
     "end_time": "2022-07-01T12:53:57.890814",
     "exception": false,
     "start_time": "2022-07-01T12:53:57.864561",
     "status": "completed"
    },
    "tags": []
   },
   "source": [
    "Free apps are more than Paid apps."
   ]
  },
  {
   "cell_type": "markdown",
   "id": "a6f397f1",
   "metadata": {
    "papermill": {
     "duration": 0.026649,
     "end_time": "2022-07-01T12:53:57.944189",
     "exception": false,
     "start_time": "2022-07-01T12:53:57.917540",
     "status": "completed"
    },
    "tags": []
   },
   "source": [
    "## <font color='coral'> Box plot for the rating column<font color='black'> "
   ]
  },
  {
   "cell_type": "code",
   "execution_count": null,
   "id": "f128217b",
   "metadata": {
    "execution": {
     "iopub.execute_input": "2022-07-01T12:53:58.000018Z",
     "iopub.status.busy": "2022-07-01T12:53:57.999203Z",
     "iopub.status.idle": "2022-07-01T12:53:58.657068Z",
     "shell.execute_reply": "2022-07-01T12:53:58.656087Z"
    },
    "papermill": {
     "duration": 0.688971,
     "end_time": "2022-07-01T12:53:58.659976",
     "exception": false,
     "start_time": "2022-07-01T12:53:57.971005",
     "status": "completed"
    },
    "scrolled": true,
    "tags": []
   },
   "outputs": [],
   "source": [
    "sns.boxplot(x = \"Type\", y = \"Rating\", data = df)\n",
    "plt.title(\"Content rating with their counts\")"
   ]
  },
  {
   "cell_type": "markdown",
   "id": "ba7f7cfc",
   "metadata": {
    "papermill": {
     "duration": 0.029526,
     "end_time": "2022-07-01T12:53:58.718998",
     "exception": false,
     "start_time": "2022-07-01T12:53:58.689472",
     "status": "completed"
    },
    "tags": []
   },
   "source": [
    "The average rating of paid apps is higher."
   ]
  },
  {
   "cell_type": "markdown",
   "id": "1eea4867",
   "metadata": {
    "papermill": {
     "duration": 0.029519,
     "end_time": "2022-07-01T12:53:58.778467",
     "exception": false,
     "start_time": "2022-07-01T12:53:58.748948",
     "status": "completed"
    },
    "tags": []
   },
   "source": [
    "## <font color='coral'> Bar plot for the rating column with the number of the categories<font color='black'> "
   ]
  },
  {
   "cell_type": "code",
   "execution_count": null,
   "id": "87ba6b4b",
   "metadata": {
    "execution": {
     "iopub.execute_input": "2022-07-01T12:53:58.840711Z",
     "iopub.status.busy": "2022-07-01T12:53:58.839918Z",
     "iopub.status.idle": "2022-07-01T12:53:59.499895Z",
     "shell.execute_reply": "2022-07-01T12:53:59.498895Z"
    },
    "papermill": {
     "duration": 0.695122,
     "end_time": "2022-07-01T12:53:59.503566",
     "exception": false,
     "start_time": "2022-07-01T12:53:58.808444",
     "status": "completed"
    },
    "tags": []
   },
   "outputs": [],
   "source": [
    "sns.countplot(y = \"Content_Rating\", data = df,hue=\"Type\")\n",
    "plt.title(\"Content rating with their counts\")"
   ]
  },
  {
   "cell_type": "markdown",
   "id": "62702a22",
   "metadata": {
    "papermill": {
     "duration": 0.032432,
     "end_time": "2022-07-01T12:53:59.568926",
     "exception": false,
     "start_time": "2022-07-01T12:53:59.536494",
     "status": "completed"
    },
    "tags": []
   },
   "source": [
    "As you can see, the most apps are in the Everyone category, then comes Teen."
   ]
  },
  {
   "cell_type": "markdown",
   "id": "c2b91249",
   "metadata": {
    "papermill": {
     "duration": 0.032644,
     "end_time": "2022-07-01T12:53:59.634129",
     "exception": false,
     "start_time": "2022-07-01T12:53:59.601485",
     "status": "completed"
    },
    "tags": []
   },
   "source": [
    "## <font color='coral'> Box plot for the content rating and rating<font color='black'>"
   ]
  },
  {
   "cell_type": "code",
   "execution_count": null,
   "id": "23539f4f",
   "metadata": {
    "execution": {
     "iopub.execute_input": "2022-07-01T12:53:59.702637Z",
     "iopub.status.busy": "2022-07-01T12:53:59.701595Z",
     "iopub.status.idle": "2022-07-01T12:54:00.445606Z",
     "shell.execute_reply": "2022-07-01T12:54:00.444744Z"
    },
    "papermill": {
     "duration": 0.782661,
     "end_time": "2022-07-01T12:54:00.449648",
     "exception": false,
     "start_time": "2022-07-01T12:53:59.666987",
     "status": "completed"
    },
    "tags": []
   },
   "outputs": [],
   "source": [
    "sns.boxplot(x = \"Content_Rating\", y = \"Rating\", data = df)\n",
    "plt.title(\"The content rating & rating\", size=10)"
   ]
  },
  {
   "cell_type": "markdown",
   "id": "847970cb",
   "metadata": {
    "papermill": {
     "duration": 0.036666,
     "end_time": "2022-07-01T12:54:00.522651",
     "exception": false,
     "start_time": "2022-07-01T12:54:00.485985",
     "status": "completed"
    },
    "tags": []
   },
   "source": [
    "As you can see, the ratings are almost the same for Everyone, Teen, Everyone 10+. The Everyone has more outliers than other categories. Mature 17+ has the lowest average. The rating average of the 18+ category is higher than the others."
   ]
  },
  {
   "cell_type": "markdown",
   "id": "9978dc9a",
   "metadata": {
    "papermill": {
     "duration": 0.085291,
     "end_time": "2022-07-01T12:54:00.644434",
     "exception": false,
     "start_time": "2022-07-01T12:54:00.559143",
     "status": "completed"
    },
    "tags": []
   },
   "source": [
    "## <font color='coral'> Bar plot for the category column with the number of the categories<font color='black'>"
   ]
  },
  {
   "cell_type": "code",
   "execution_count": null,
   "id": "534ba3f6",
   "metadata": {
    "execution": {
     "iopub.execute_input": "2022-07-01T12:54:00.719897Z",
     "iopub.status.busy": "2022-07-01T12:54:00.719057Z",
     "iopub.status.idle": "2022-07-01T12:54:01.749530Z",
     "shell.execute_reply": "2022-07-01T12:54:01.748535Z"
    },
    "papermill": {
     "duration": 1.074495,
     "end_time": "2022-07-01T12:54:01.755576",
     "exception": false,
     "start_time": "2022-07-01T12:54:00.681081",
     "status": "completed"
    },
    "tags": []
   },
   "outputs": [],
   "source": [
    "cat_num = df[\"Category\"].value_counts()\n",
    "sns.barplot(x = cat_num, y = cat_num.index, data = df)\n",
    "plt.title(\"The number of categories\", size=20)"
   ]
  },
  {
   "cell_type": "markdown",
   "id": "0a895284",
   "metadata": {
    "papermill": {
     "duration": 0.043549,
     "end_time": "2022-07-01T12:54:01.843043",
     "exception": false,
     "start_time": "2022-07-01T12:54:01.799494",
     "status": "completed"
    },
    "tags": []
   },
   "source": [
    "The most applications are in the family category, then the game, then tools."
   ]
  },
  {
   "cell_type": "markdown",
   "id": "dc045d23",
   "metadata": {
    "papermill": {
     "duration": 0.042722,
     "end_time": "2022-07-01T12:54:01.929202",
     "exception": false,
     "start_time": "2022-07-01T12:54:01.886480",
     "status": "completed"
    },
    "tags": []
   },
   "source": [
    "## <font color='coral'> Scatter plot for the category and price<font color='black'>"
   ]
  },
  {
   "cell_type": "code",
   "execution_count": null,
   "id": "09ece2d2",
   "metadata": {
    "execution": {
     "iopub.execute_input": "2022-07-01T12:54:02.018087Z",
     "iopub.status.busy": "2022-07-01T12:54:02.017573Z",
     "iopub.status.idle": "2022-07-01T12:54:03.084819Z",
     "shell.execute_reply": "2022-07-01T12:54:03.083822Z"
    },
    "papermill": {
     "duration": 1.120227,
     "end_time": "2022-07-01T12:54:03.092670",
     "exception": false,
     "start_time": "2022-07-01T12:54:01.972443",
     "status": "completed"
    },
    "tags": []
   },
   "outputs": [],
   "source": [
    "sns.scatterplot(data = df, y = \"Category\", x = \"Price\")\n",
    "plt.title(\"Category & Price\", size=20)"
   ]
  },
  {
   "cell_type": "markdown",
   "id": "423b7936",
   "metadata": {
    "papermill": {
     "duration": 0.051667,
     "end_time": "2022-07-01T12:54:03.196559",
     "exception": false,
     "start_time": "2022-07-01T12:54:03.144892",
     "status": "completed"
    },
    "tags": []
   },
   "source": [
    "Notice that the highest paid applications are finance, lifestyle, and family."
   ]
  },
  {
   "cell_type": "markdown",
   "id": "3fa33b59",
   "metadata": {
    "papermill": {
     "duration": 0.051626,
     "end_time": "2022-07-01T12:54:03.300744",
     "exception": false,
     "start_time": "2022-07-01T12:54:03.249118",
     "status": "completed"
    },
    "tags": []
   },
   "source": [
    "## <font color='coral'> Heatmap for numerical columns<font color='black'>"
   ]
  },
  {
   "cell_type": "code",
   "execution_count": null,
   "id": "5fa5557f",
   "metadata": {},
   "outputs": [],
   "source": []
  },
  {
   "cell_type": "code",
   "execution_count": null,
   "id": "df20ebc0",
   "metadata": {
    "execution": {
     "iopub.execute_input": "2022-07-01T12:54:03.407087Z",
     "iopub.status.busy": "2022-07-01T12:54:03.406313Z",
     "iopub.status.idle": "2022-07-01T12:54:04.129430Z",
     "shell.execute_reply": "2022-07-01T12:54:04.127961Z"
    },
    "papermill": {
     "duration": 0.780726,
     "end_time": "2022-07-01T12:54:04.133690",
     "exception": false,
     "start_time": "2022-07-01T12:54:03.352964",
     "status": "completed"
    },
    "tags": []
   },
   "outputs": [],
   "source": [
    "sns.heatmap(df.corr(), annot = True, linewidths=.5, fmt=\".2f\")\n",
    "plt.title(\"Heatmap for numerical columns\", size=20)"
   ]
  },
  {
   "cell_type": "markdown",
   "id": "d03e50a4",
   "metadata": {
    "papermill": {
     "duration": 0.056777,
     "end_time": "2022-07-01T12:54:04.248082",
     "exception": false,
     "start_time": "2022-07-01T12:54:04.191305",
     "status": "completed"
    },
    "tags": []
   },
   "source": [
    "The relationship between the Installs and Reviews columns is 0.64."
   ]
  },
  {
   "cell_type": "markdown",
   "id": "ea180899",
   "metadata": {
    "papermill": {
     "duration": 0.057374,
     "end_time": "2022-07-01T12:54:04.362849",
     "exception": false,
     "start_time": "2022-07-01T12:54:04.305475",
     "status": "completed"
    },
    "tags": []
   },
   "source": [
    "## <font color='coral'> Histogram with the kde for the rating column <font color='black'>"
   ]
  },
  {
   "cell_type": "code",
   "execution_count": null,
   "id": "ec34ebb6",
   "metadata": {
    "execution": {
     "iopub.execute_input": "2022-07-01T12:54:04.480808Z",
     "iopub.status.busy": "2022-07-01T12:54:04.479926Z",
     "iopub.status.idle": "2022-07-01T12:54:05.643105Z",
     "shell.execute_reply": "2022-07-01T12:54:05.641741Z"
    },
    "papermill": {
     "duration": 1.225756,
     "end_time": "2022-07-01T12:54:05.646596",
     "exception": false,
     "start_time": "2022-07-01T12:54:04.420840",
     "status": "completed"
    },
    "tags": []
   },
   "outputs": [],
   "source": [
    "sns.histplot(df[\"Rating\"], kde = True)\n",
    "plt.title(\"Histogram with the kde for the rating column \", size=20,)"
   ]
  },
  {
   "cell_type": "markdown",
   "id": "8a168cc1",
   "metadata": {},
   "source": []
  },
  {
   "cell_type": "markdown",
   "id": "818c0ea2",
   "metadata": {
    "papermill": {
     "duration": 0.059533,
     "end_time": "2022-07-01T12:54:05.767668",
     "exception": false,
     "start_time": "2022-07-01T12:54:05.708135",
     "status": "completed"
    },
    "tags": []
   },
   "source": [
    "As you can see, the most values are distributed around 4.3."
   ]
  },
  {
   "cell_type": "code",
   "execution_count": null,
   "id": "5aa5ff9f",
   "metadata": {},
   "outputs": [],
   "source": [
    "df.columns"
   ]
  },
  {
   "cell_type": "code",
   "execution_count": null,
   "id": "d4b7e2b8",
   "metadata": {},
   "outputs": [],
   "source": [
    "sns.scatterplot(data=df ,x='Size',y='Installs',hue='Type')\n"
   ]
  },
  {
   "cell_type": "code",
   "execution_count": null,
   "id": "65acedb6",
   "metadata": {},
   "outputs": [],
   "source": []
  }
 ],
 "metadata": {
  "kernelspec": {
   "display_name": "Python 3",
   "language": "python",
   "name": "python3"
  },
  "language_info": {
   "codemirror_mode": {
    "name": "ipython",
    "version": 3
   },
   "file_extension": ".py",
   "mimetype": "text/x-python",
   "name": "python",
   "nbconvert_exporter": "python",
   "pygments_lexer": "ipython3",
   "version": "3.12.1"
  },
  "papermill": {
   "default_parameters": {},
   "duration": 26.305766,
   "end_time": "2022-07-01T12:54:07.073836",
   "environment_variables": {},
   "exception": null,
   "input_path": "__notebook__.ipynb",
   "output_path": "__notebook__.ipynb",
   "parameters": {},
   "start_time": "2022-07-01T12:53:40.768070",
   "version": "2.3.4"
  }
 },
 "nbformat": 4,
 "nbformat_minor": 5
}
