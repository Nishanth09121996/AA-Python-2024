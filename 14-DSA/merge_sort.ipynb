{
 "cells": [
  {
   "cell_type": "code",
   "execution_count": 19,
   "metadata": {},
   "outputs": [],
   "source": [
    "a  = [3,5,7,9,11,1]\n",
    "b = [4,6,0]"
   ]
  },
  {
   "cell_type": "code",
   "execution_count": 20,
   "metadata": {},
   "outputs": [],
   "source": [
    "# Lenght Of both array \n",
    "len_a = len(a)\n",
    "len_b = len(b)\n",
    "i=j=0\n",
    "sorted_list = list()\n",
    "while i<len_a and j<len_b:\n",
    "    if a[i] <= b[j]:\n",
    "        sorted_list.append(a[i])\n",
    "        i +=1\n",
    "    else:\n",
    "        sorted_list.append(b[j])\n",
    "        j +=1\n",
    "while i < len_a:\n",
    "    sorted_list.append(a[i])\n",
    "    i +=1\n",
    "while j < len_b:\n",
    "    sorted_list.append(b[j])\n",
    "    j += 1 "
   ]
  },
  {
   "cell_type": "code",
   "execution_count": 21,
   "metadata": {},
   "outputs": [
    {
     "data": {
      "text/plain": [
       "[3, 4, 5, 6, 0, 7, 9, 11, 1]"
      ]
     },
     "execution_count": 21,
     "metadata": {},
     "output_type": "execute_result"
    }
   ],
   "source": [
    "sorted_list"
   ]
  },
  {
   "cell_type": "code",
   "execution_count": null,
   "metadata": {},
   "outputs": [],
   "source": []
  }
 ],
 "metadata": {
  "kernelspec": {
   "display_name": "basic-python",
   "language": "python",
   "name": "python3"
  },
  "language_info": {
   "codemirror_mode": {
    "name": "ipython",
    "version": 3
   },
   "file_extension": ".py",
   "mimetype": "text/x-python",
   "name": "python",
   "nbconvert_exporter": "python",
   "pygments_lexer": "ipython3",
   "version": "3.12.1"
  }
 },
 "nbformat": 4,
 "nbformat_minor": 2
}
