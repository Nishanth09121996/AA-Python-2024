{
 "cells": [
  {
   "cell_type": "code",
   "execution_count": 2,
   "metadata": {},
   "outputs": [],
   "source": [
    "class Node:\n",
    "    # Initialize a Node In Python \n",
    "    def __init__(self, data=None ) -> None:\n",
    "        self.data  = data\n",
    "        self.next = None"
   ]
  },
  {
   "cell_type": "code",
   "execution_count": 31,
   "metadata": {},
   "outputs": [],
   "source": [
    "class LinkedList:\n",
    "    def __init__(self) -> None:\n",
    "        self.head = None\n",
    "    \n",
    "    def append(self,data):\n",
    "        if self.head == None:\n",
    "            self.head = Node(data)\n",
    "        else:\n",
    "            cur = self.head\n",
    "            while cur.next !=None:\n",
    "                cur = cur.next\n",
    "            cur.next = Node(data)\n",
    "    def length(self):\n",
    "        if self.head == None:\n",
    "            return 0 \n",
    "        else:\n",
    "            cur = self.head\n",
    "            elements_count = 1\n",
    "            while cur.next != None:\n",
    "                elements_count +=1\n",
    "                cur = cur.next\n",
    "        return elements_count\n",
    "    def display(self):\n",
    "        if self.length() ==0:\n",
    "            return 'Linked List is empty'\n",
    "        else:\n",
    "            elements = list()\n",
    "            cur = self.head\n",
    "            elements.append(cur.data)\n",
    "            while cur.next !=None:\n",
    "                elements.append(cur.next.data)\n",
    "                cur = cur.next\n",
    "            return elements\n",
    "    def search(self,item):\n",
    "        if self.length() ==0:\n",
    "            return \"No element in the linked list\"\n",
    "        else:\n",
    "            if self.head.data == item:\n",
    "                return 'The Search element {} is at position 1 '.format(item)\n",
    "            else:\n",
    "                cur = self.head\n",
    "                position = 1\n",
    "                while cur.next !=None:\n",
    "                    position = position+1\n",
    "                    if cur.next.data == item:\n",
    "                        return 'The Search element {} is at position {} '.format(item,position)\n",
    "                    cur = cur.next\n",
    "        return 'Element Not Found'\n",
    "    \n",
    "    def delete(self,position):\n",
    "        if self.length() == 0:\n",
    "            return 'Linked List is empty'\n",
    "        if self.length()<position:\n",
    "            return 'Index Out of Range Error'\n",
    "        else:\n",
    "            if position == 1:\n",
    "                if self.head.next != None:\n",
    "                    self.head = self.head.next\n",
    "                else:\n",
    "                    self.head = None\n",
    "                    return 'Item has been Deleted'\n",
    "            elif position == self.length():\n",
    "                cur = self.head\n",
    "                while cur.next != None:\n",
    "                    last_element = cur\n",
    "                    cur = cur.next\n",
    "                last_element.next = None\n",
    "            elif position > 1:\n",
    "                cur = self.head\n",
    "                counter = 1\n",
    "                while  counter < position:\n",
    "                    counter = counter + 1\n",
    "                    last = cur\n",
    "                    delete = cur.next\n",
    "                    cur = delete\n",
    "                last.next = cur.next\n",
    "                cur = None "
   ]
  },
  {
   "cell_type": "code",
   "execution_count": 33,
   "metadata": {},
   "outputs": [
    {
     "name": "stdout",
     "output_type": "stream",
     "text": [
      "0\n",
      "4\n",
      "[12, 13, 14, 'AbC']\n",
      "The Search element 12 is at position 1 \n",
      "The Search element 14 is at position 3 \n",
      "The Search element AbC is at position 4 \n",
      "Element Not Found\n",
      "[12, 13, 14]\n",
      "[12, 14]\n"
     ]
    }
   ],
   "source": [
    "singleLinkedList = LinkedList()\n",
    "print(singleLinkedList.length())\n",
    "singleLinkedList.append(12)\n",
    "singleLinkedList.append(13)\n",
    "singleLinkedList.append(14)\n",
    "singleLinkedList.append('AbC')\n",
    "print(singleLinkedList.length())\n",
    "print(singleLinkedList.display())\n",
    "print(singleLinkedList.search(12))\n",
    "print(singleLinkedList.search(14))\n",
    "print(singleLinkedList.search('AbC'))\n",
    "print(singleLinkedList.search('123'))\n",
    "singleLinkedList.delete(4)\n",
    "print(singleLinkedList.display())\n",
    "singleLinkedList.delete(2)\n",
    "print(singleLinkedList.display())"
   ]
  },
  {
   "cell_type": "code",
   "execution_count": 9,
   "metadata": {},
   "outputs": [
    {
     "name": "stdout",
     "output_type": "stream",
     "text": [
      "None\n"
     ]
    }
   ],
   "source": [
    "print(singleLinkedList.head.next)"
   ]
  },
  {
   "cell_type": "code",
   "execution_count": null,
   "metadata": {},
   "outputs": [],
   "source": []
  }
 ],
 "metadata": {
  "kernelspec": {
   "display_name": "basic-python",
   "language": "python",
   "name": "python3"
  },
  "language_info": {
   "codemirror_mode": {
    "name": "ipython",
    "version": 3
   },
   "file_extension": ".py",
   "mimetype": "text/x-python",
   "name": "python",
   "nbconvert_exporter": "python",
   "pygments_lexer": "ipython3",
   "version": "3.12.1"
  }
 },
 "nbformat": 4,
 "nbformat_minor": 2
}
