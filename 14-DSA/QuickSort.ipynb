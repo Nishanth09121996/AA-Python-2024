{
 "cells": [
  {
   "cell_type": "code",
   "execution_count": 2,
   "metadata": {},
   "outputs": [
    {
     "name": "stdout",
     "output_type": "stream",
     "text": [
      "Sorted array is: [1, 5, 7, 8, 9, 10]\n"
     ]
    }
   ],
   "source": [
    "def partition(arr, low, high):\n",
    "  pivot = arr[low]\n",
    "  i = low + 1  # index of smaller element\n",
    "  for j in range(low + 1, high + 1):\n",
    "    if arr[j] <= pivot:\n",
    "      arr[i], arr[j] = arr[j], arr[i]\n",
    "      i += 1\n",
    "  arr[low], arr[i - 1] = arr[i - 1], arr[low]\n",
    "  return i - 1\n",
    "\n",
    "def quickSort(arr, low, high):\n",
    "  if low < high:\n",
    "    pi = partition(arr, low, high)\n",
    "    quickSort(arr, low, pi - 1)\n",
    "    quickSort(arr, pi + 1, high)\n",
    "\n",
    "# Example usage\n",
    "arr = [10, 7, 8, 9, 1, 5]\n",
    "n = len(arr)\n",
    "quickSort(arr, 0, n - 1)\n",
    "print(\"Sorted array is:\", arr)"
   ]
  },
  {
   "cell_type": "code",
   "execution_count": null,
   "metadata": {},
   "outputs": [],
   "source": []
  }
 ],
 "metadata": {
  "kernelspec": {
   "display_name": "basic-python",
   "language": "python",
   "name": "python3"
  },
  "language_info": {
   "codemirror_mode": {
    "name": "ipython",
    "version": 3
   },
   "file_extension": ".py",
   "mimetype": "text/x-python",
   "name": "python",
   "nbconvert_exporter": "python",
   "pygments_lexer": "ipython3",
   "version": "3.12.1"
  }
 },
 "nbformat": 4,
 "nbformat_minor": 2
}
