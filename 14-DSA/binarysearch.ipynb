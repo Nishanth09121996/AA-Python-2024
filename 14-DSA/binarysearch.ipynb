{
 "cells": [
  {
   "cell_type": "code",
   "execution_count": 34,
   "metadata": {},
   "outputs": [
    {
     "data": {
      "text/plain": [
       "[12, 13, 17, 40, 999, 1234, 6666]"
      ]
     },
     "execution_count": 34,
     "metadata": {},
     "output_type": "execute_result"
    }
   ],
   "source": [
    "array = [12,13,17,40,999,1234,6666]\n",
    "array"
   ]
  },
  {
   "cell_type": "code",
   "execution_count": 37,
   "metadata": {},
   "outputs": [],
   "source": [
    "def search(arr,seach_item):\n",
    "    lowwer_bound =  0\n",
    "    uppper_bound = len(arr)-1   \n",
    "    # 2<= 5\n",
    "    while lowwer_bound <= uppper_bound:\n",
    "        mid  = (lowwer_bound+uppper_bound )//2 # 2+5//3 = > 3 \n",
    "        # mid = 3 , aerr[], 2 == 4 \n",
    "        if arr[mid] == seach_item:\n",
    "            return 'Element {} found @ position {}'.format(seach_item,mid)\n",
    "        \n",
    "        # mid = 2 search = 4\n",
    "        if arr[mid]<seach_item:\n",
    "            lowwer_bound = mid+1\n",
    "            # lower = 2\n",
    "        # mid = 2 searc = 4\n",
    "        elif arr[mid]>seach_item:\n",
    "            uppper_bound = mid-1\n",
    "        else:\n",
    "            return -1\n",
    "    return \"Search item is not available\"\n",
    "            \n"
   ]
  },
  {
   "cell_type": "code",
   "execution_count": 39,
   "metadata": {},
   "outputs": [
    {
     "data": {
      "text/plain": [
       "'Search item is not available'"
      ]
     },
     "execution_count": 39,
     "metadata": {},
     "output_type": "execute_result"
    }
   ],
   "source": [
    "search(arr=array,seach_item=99)"
   ]
  },
  {
   "cell_type": "code",
   "execution_count": 40,
   "metadata": {},
   "outputs": [],
   "source": [
    "# Bubble Sort "
   ]
  },
  {
   "cell_type": "code",
   "execution_count": 41,
   "metadata": {},
   "outputs": [],
   "source": [
    "arr = [3,5,1,4,2,11,90,16,44,21]"
   ]
  },
  {
   "cell_type": "code",
   "execution_count": 42,
   "metadata": {},
   "outputs": [],
   "source": [
    "n = len(arr)\n",
    "for i in range(n-1):\n",
    "    for j in range(0,n-i-1):\n",
    "        if arr[j] > arr[j+1]:\n",
    "            arr[j],arr[j+1] = arr[j+1],arr[j]"
   ]
  },
  {
   "cell_type": "code",
   "execution_count": 43,
   "metadata": {},
   "outputs": [
    {
     "data": {
      "text/plain": [
       "[1, 2, 3, 4, 5, 11, 16, 21, 44, 90]"
      ]
     },
     "execution_count": 43,
     "metadata": {},
     "output_type": "execute_result"
    }
   ],
   "source": [
    "arr"
   ]
  },
  {
   "cell_type": "code",
   "execution_count": null,
   "metadata": {},
   "outputs": [],
   "source": []
  }
 ],
 "metadata": {
  "kernelspec": {
   "display_name": "basic-python",
   "language": "python",
   "name": "python3"
  },
  "language_info": {
   "codemirror_mode": {
    "name": "ipython",
    "version": 3
   },
   "file_extension": ".py",
   "mimetype": "text/x-python",
   "name": "python",
   "nbconvert_exporter": "python",
   "pygments_lexer": "ipython3",
   "version": "3.12.1"
  }
 },
 "nbformat": 4,
 "nbformat_minor": 2
}
