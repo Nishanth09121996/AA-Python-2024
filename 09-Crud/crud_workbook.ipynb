{
 "cells": [
  {
   "cell_type": "code",
   "execution_count": 2,
   "metadata": {},
   "outputs": [],
   "source": [
    "from  mysql.connector import connect\n",
    "from mysql.connector import Error \n",
    "conn = connect(\n",
    "            host='localhost',\n",
    "            database='employee',\n",
    "            user='root',\n",
    "            password='admin',\n",
    "            port=3306\n",
    "        )\n"
   ]
  },
  {
   "cell_type": "markdown",
   "metadata": {},
   "source": [
    "## Creating a Table"
   ]
  },
  {
   "cell_type": "code",
   "execution_count": 3,
   "metadata": {},
   "outputs": [
    {
     "data": {
      "text/plain": [
       "True"
      ]
     },
     "execution_count": 3,
     "metadata": {},
     "output_type": "execute_result"
    }
   ],
   "source": [
    "cursor = conn.cursor()\n",
    "cursor.execute('use employee;')\n",
    "\n",
    "create_table_query = '''CREATE TABLE Employee(id INT NOT NULL, first_name VARCHAR(255), \n",
    "    last_name VARCHAR(100), email VARCHAR(150), \n",
    "    gender VARCHAR(50), phone VARCHAR(100));'''\n",
    "cursor.execute(\"drop table employee\")\n",
    "cursor.execute(create_table_query)\n",
    "cursor.close()"
   ]
  },
  {
   "cell_type": "markdown",
   "metadata": {},
   "source": [
    "## Inserting data into Table"
   ]
  },
  {
   "cell_type": "code",
   "execution_count": 4,
   "metadata": {},
   "outputs": [
    {
     "name": "stdout",
     "output_type": "stream",
     "text": [
      "1 records inserted\n"
     ]
    }
   ],
   "source": [
    "# creating a cursor to perform a sql operation\n",
    "cursor = conn.cursor()\n",
    "\n",
    "# sql query\n",
    "query = '''\n",
    "    INSERT INTO employee (id, first_name, last_name, email, gender, phone) VALUES (%s, %s, %s, %s, %s, %s);\n",
    "    '''\n",
    "\n",
    "try:\n",
    "    data = (1, 'Marga', 'Cronchey', 'mcronchey0@pen.io', 'F', '314-289-7265')\n",
    "    # execute the command\n",
    "    cursor.execute(query, data)\n",
    "    # commit the changes\n",
    "    conn.commit()\n",
    "    print('{} record inserted'.format(cursor.rowcount))\n",
    "except(Exception, Error) as error:\n",
    "    print(error)\n",
    "finally:\n",
    "    if conn is not None:\n",
    "        cursor.close()"
   ]
  },
  {
   "cell_type": "markdown",
   "metadata": {},
   "source": [
    "## Insert Multiple records"
   ]
  },
  {
   "cell_type": "code",
   "execution_count": 5,
   "metadata": {},
   "outputs": [
    {
     "name": "stdout",
     "output_type": "stream",
     "text": [
      "5 records inserted\n"
     ]
    }
   ],
   "source": [
    "# creating a cursor to perform a sql operation\n",
    "cursor = conn.cursor()\n",
    "\n",
    "# sql query\n",
    "query = '''\n",
    "    INSERT INTO employee (id, first_name, last_name, email, gender, phone) VALUES (%s, %s, %s, %s, %s, %s);\n",
    "    '''\n",
    "\n",
    "try:\n",
    "    data = [\n",
    "                (6, 'Marga', 'Cronchey', 'mcronchey0@pen.io', 'F', '314-289-7265'),\n",
    "                (2, 'Theda', 'Mushrow', 'tmushrow1@whitehouse.gov', 'F', '804-163-9834'),\n",
    "                (3, 'Marielle', 'Bonicelli', 'mbonicelli2@sitemeter.com', 'F', '624-922-2416'),\n",
    "                (4, 'Locke', 'Watkinson', 'lwatkinson3@accuweather.com', 'M', '456-260-1052'),\n",
    "                (5, 'Blakelee', 'Wilcot', 'bwilcot4@twitpic.com', 'M', '608-344-4090')\n",
    "            ]\n",
    "\n",
    "    # execute the command\n",
    "    cursor.executemany(query, data)\n",
    "    # commit the changes\n",
    "    conn.commit()\n",
    "    print('{} records inserted'.format(cursor.rowcount))\n",
    "except(Exception, Error) as error:\n",
    "    print(error)\n",
    "finally:\n",
    "    if conn is not None:\n",
    "        cursor.close()"
   ]
  },
  {
   "cell_type": "markdown",
   "metadata": {},
   "source": [
    "## Select from Employee Table"
   ]
  },
  {
   "cell_type": "code",
   "execution_count": 48,
   "metadata": {},
   "outputs": [],
   "source": [
    "# get total number of records\n",
    "def get_records_count(cursor):\n",
    "    # execute the command\n",
    "    cursor.execute('''SELECT * FROM employee;''')\n",
    "    return len(cursor.fetchall())\n",
    "\n",
    "\n",
    "# get by id\n",
    "def get_by_id(cursor, eid):\n",
    "    # sql query\n",
    "    query = '''SELECT * FROM employee WHERE id = %s;'''\n",
    "    # execute the command\n",
    "    cursor.execute(query, [eid])\n",
    "    return cursor.fetchone()"
   ]
  },
  {
   "cell_type": "markdown",
   "metadata": {},
   "source": [
    "## Delete a record"
   ]
  },
  {
   "cell_type": "code",
   "execution_count": 22,
   "metadata": {},
   "outputs": [],
   "source": [
    "# delete a record\n",
    "def delete(cursor, eid):\n",
    "    # creating a cursor to perform a sql operation\n",
    "    cursor = conn.cursor()\n",
    "\n",
    "    # sql query\n",
    "    query = '''DELETE FROM employee WHERE id = %s;'''\n",
    "\n",
    "    try:\n",
    "        record = get_by_id(cursor, eid)\n",
    "        if record is None:\n",
    "            print('Employee id = {} not found'.format(eid))\n",
    "        else:\n",
    "            # execute the command\n",
    "            cursor.execute(query, [eid])\n",
    "            # commit the changes\n",
    "            conn.commit()\n",
    "\n",
    "            print('Employee id = {} deleted successfully'.format(eid))\n",
    "    except(Exception, Error) as error:\n",
    "        print(error)\n",
    "    finally:\n",
    "        if conn is not None:\n",
    "            cursor.close()\n",
    "            print('\\n Cursor closed')\n",
    "delete(conn,6)"
   ]
  },
  {
   "cell_type": "markdown",
   "metadata": {},
   "source": [
    "## Update"
   ]
  },
  {
   "cell_type": "code",
   "execution_count": 49,
   "metadata": {},
   "outputs": [
    {
     "name": "stdout",
     "output_type": "stream",
     "text": [
      "Employee id = 5 updated successfully\n"
     ]
    }
   ],
   "source": [
    "# update a record\n",
    "def update(conn, eid):\n",
    "    # creating a cursor to perform a sql operation\n",
    "    cursor = conn.cursor()\n",
    "\n",
    "    # sql query\n",
    "    query = '''UPDATE employee SET gender = %s WHERE id = %s;'''\n",
    "\n",
    "    try:\n",
    "        # Check whether record is available for the person \n",
    "        record = get_by_id(cursor, eid)\n",
    "        if record is None:\n",
    "            print('Employee id = {} not found'.format(eid))\n",
    "        else:\n",
    "            # execute the command\n",
    "            cursor.execute(query, ['F', eid])\n",
    "            # commit the changes\n",
    "            conn.commit()\n",
    "\n",
    "            print('Employee id = {} updated successfully'.format(eid))\n",
    "    except(Exception, Error) as error:\n",
    "        print(error)\n",
    "    finally:\n",
    "        if conn is not None:\n",
    "            cursor.close()\n",
    "\n",
    "# input connection object and Id \n",
    "update(conn, 5)"
   ]
  },
  {
   "cell_type": "code",
   "execution_count": null,
   "metadata": {},
   "outputs": [],
   "source": []
  }
 ],
 "metadata": {
  "kernelspec": {
   "display_name": "basic-python",
   "language": "python",
   "name": "python3"
  },
  "language_info": {
   "codemirror_mode": {
    "name": "ipython",
    "version": 3
   },
   "file_extension": ".py",
   "mimetype": "text/x-python",
   "name": "python",
   "nbconvert_exporter": "python",
   "pygments_lexer": "ipython3",
   "version": "3.12.1"
  }
 },
 "nbformat": 4,
 "nbformat_minor": 2
}
