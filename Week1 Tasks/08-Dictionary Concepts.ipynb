{
 "cells": [
  {
   "cell_type": "markdown",
   "metadata": {},
   "source": [
    "---\n",
    "**Question 1: Phonebook Creation**\n",
    "\n",
    "**Scenario:** You're tasked with creating a phonebook using a Python dictionary. Each key should be a name (string), and the corresponding value should be a phone number (string). Users can add, search, and delete entries.\n",
    "\n",
    "**Sample Input:**\n",
    "```python\n",
    "phonebook = {}  # Empty dictionary\n",
    "\n",
    "# Example operations:\n",
    "add_entry(phonebook, \"Alice\", \"123-456-7890\")\n",
    "add other sample entries.\n",
    "search_number(phonebook, \"Bob\")\n",
    "delete_entry(phonebook, \"Charlie\")\n",
    "```\n",
    "\n",
    "**Expected Output:**\n",
    "\n",
    "The phonebook is updated accordingly based on the operations performed (adding, searching, deleting entries). The output could display the phonebook contents, search results, or confirmation messages for successful operations.\n",
    "\n",
    "\n",
    "---"
   ]
  },
  {
   "cell_type": "code",
   "execution_count": 1,
   "metadata": {},
   "outputs": [],
   "source": [
    "# Write your code here"
   ]
  },
  {
   "cell_type": "markdown",
   "metadata": {},
   "source": [
    "---\n",
    "\n",
    "**Question 2: Inventory Management**\n",
    "\n",
    "**Scenario:** You're managing a store's inventory using a Python dictionary. Each key should be a product ID (integer), and the corresponding value should be a dictionary containing the product name (string), price (float), and quantity (integer). Users can add new products, update existing quantities, and check the total inventory value.\n",
    "\n",
    "**Sample Input:**\n",
    "```python\n",
    "inventory = {\n",
    "    1: {\"name\": \"T-Shirt\", \"price\": 19.99, \"quantity\": 50},\n",
    "    2: {\"name\": \"Mug\", \"price\": 9.95, \"quantity\": 20}\n",
    "}\n",
    "\n",
    "# Example operations:\n",
    "add_product(inventory, 3, \"Hat\", 24.99, 15)\n",
    "update_quantity(inventory, 1, 25)\n",
    "total_value = calculate_inventory_value(inventory)\n",
    "```\n",
    "\n",
    "**Expected Output:**\n",
    "\n",
    "The inventory dictionary is updated with new products, adjusted quantities, and calculated total value.\n",
    "The output could display the updated inventory details, confirmation messages, or the calculated total value.\n",
    "\n",
    "---"
   ]
  },
  {
   "cell_type": "code",
   "execution_count": 2,
   "metadata": {},
   "outputs": [],
   "source": [
    "# Write your code here"
   ]
  },
  {
   "cell_type": "markdown",
   "metadata": {},
   "source": [
    "---\n",
    "\n",
    "**Question 3: Word Frequency Analysis**\n",
    "\n",
    "**Scenario:** You're analyzing the frequency of words in a text using a Python dictionary. Each key should be a unique word (string, case-insensitive), and the corresponding value should be the count of its occurrences (integer).\n",
    "\n",
    "**Sample Input:**\n",
    "```python\n",
    "text = \"This is a sample text for frequency analysis. It contains repeated words like 'the' and 'a'.\"\n",
    "word_counts = {}\n",
    "\n",
    "# Example operation:\n",
    "count_word_frequencies(text, word_counts)\n",
    "```\n",
    "\n",
    "**Expected Output:**\n",
    "\n",
    "The `word_counts` dictionary is populated with word frequencies.\n",
    "The output could display the sorted dictionary of word counts or any other desired statistic.\n",
    "\n",
    "---"
   ]
  },
  {
   "cell_type": "code",
   "execution_count": 3,
   "metadata": {},
   "outputs": [],
   "source": [
    "# Write your code here"
   ]
  },
  {
   "cell_type": "markdown",
   "metadata": {},
   "source": [
    "---\n",
    "\n",
    "**Question 4: Student Grade Lookup**\n",
    "\n",
    "**Scenario:** You're maintaining a student grade lookup system using a Python dictionary. Each key should be a student ID (integer), and the corresponding value should be a dictionary containing details like name (string) and a list of grades (floats). Users can search for a student's information and average grade.\n",
    "\n",
    "**Sample Input:**\n",
    "```python\n",
    "grades = {\n",
    "    123: {\"name\": \"Alice\", \"grades\": [85.5, 92.0, 78.3]},\n",
    "    456: {\"name\": \"Bob\", \"grades\": [90.0, 82.5, 95.0]}\n",
    "}\n",
    "\n",
    "# Example operations:\n",
    "student_info = get_student_info(grades, 123)\n",
    "average_grade = calculate_average_grade(grades, 456)\n",
    "```\n",
    "\n",
    "**Expected Output:**\n",
    "\n",
    "The output should display the requested student information (name and grades) or the calculated average grade.\n",
    "\n",
    "\n",
    "---"
   ]
  },
  {
   "cell_type": "code",
   "execution_count": 4,
   "metadata": {},
   "outputs": [],
   "source": [
    "# Write your code here"
   ]
  },
  {
   "cell_type": "markdown",
   "metadata": {},
   "source": [
    "---\n",
    "\n",
    "**Question 5: Shopping Cart**\n",
    "\n",
    "**Scenario:** You're implementing a shopping cart system using a Python dictionary. Each key should be a product ID (integer), and the corresponding value should be the quantity (integer) of that product added to the cart. Users can add items, remove items, and calculate the total cost based on product prices (stored in a separate list or dictionary).\n",
    "\n",
    "**Sample Input:**\n",
    "```python\n",
    "cart = {}\n",
    "product_prices = {1: 10.0, 2: 5.0, 3: 15.0}\n",
    "\n",
    "# Example operations:\n",
    "add_to_cart(cart, 1, 2)  # Add 2 quantities of product 1\n",
    "remove_from_cart(cart, 2)\n",
    "total_cost = calculate_cart_cost(cart, product_prices)\n",
    "```\n",
    "\n",
    "**Expected Output:**\n",
    "\n",
    "The `cart` dictionary\n",
    "\n",
    "---"
   ]
  },
  {
   "cell_type": "code",
   "execution_count": 5,
   "metadata": {},
   "outputs": [],
   "source": [
    "# Write your code here"
   ]
  },
  {
   "cell_type": "code",
   "execution_count": null,
   "metadata": {},
   "outputs": [],
   "source": []
  }
 ],
 "metadata": {
  "kernelspec": {
   "display_name": "basic-python",
   "language": "python",
   "name": "python3"
  },
  "language_info": {
   "codemirror_mode": {
    "name": "ipython",
    "version": 3
   },
   "file_extension": ".py",
   "mimetype": "text/x-python",
   "name": "python",
   "nbconvert_exporter": "python",
   "pygments_lexer": "ipython3",
   "version": "3.12.1"
  }
 },
 "nbformat": 4,
 "nbformat_minor": 2
}
