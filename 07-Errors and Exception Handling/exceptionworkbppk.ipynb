{
 "cells": [
  {
   "cell_type": "code",
   "execution_count": 11,
   "metadata": {},
   "outputs": [
    {
     "name": "stdout",
     "output_type": "stream",
     "text": [
      "User has provided Zero for divisor please rectify it\n",
      "None\n"
     ]
    }
   ],
   "source": [
    "def divide_number(a:int,b:int)->float:\n",
    "    try:\n",
    "        c =  a/b\n",
    "        \n",
    "    except :\n",
    "        print(\"User has provided Zero for divisor please rectify it\")\n",
    "    else:\n",
    "        return c\n",
    "\n",
    "print(divide_number(10,0))"
   ]
  },
  {
   "cell_type": "code",
   "execution_count": 13,
   "metadata": {},
   "outputs": [
    {
     "name": "stdout",
     "output_type": "stream",
     "text": [
      "c:\\Users\\nisha\\OneDrive\\Documents\\PythonAnalytics\\AA-Python-2024\\07-Errors and Exception Handling\n"
     ]
    }
   ],
   "source": [
    "import os\n",
    "print(os.getcwd())"
   ]
  },
  {
   "cell_type": "code",
   "execution_count": 17,
   "metadata": {},
   "outputs": [],
   "source": [
    "read_file = open('abc.txt','r')"
   ]
  },
  {
   "cell_type": "code",
   "execution_count": null,
   "metadata": {},
   "outputs": [],
   "source": [
    "# open a file write the division of two inter in it."
   ]
  },
  {
   "cell_type": "code",
   "execution_count": 37,
   "metadata": {},
   "outputs": [],
   "source": [
    "class ExceptionDemo:\n",
    "    def __init__(self,a,b) -> None:\n",
    "        self.a = a\n",
    "        self.b = b        \n",
    "\n",
    "    def divide_number(self)->float:\n",
    "        try:\n",
    "            c =  self.a/self.b\n",
    "            \n",
    "        except ZeroDivisionError:\n",
    "            print(\"User has provided Zero for divisor please rectify it\")\n",
    "        else:\n",
    "            return c\n",
    "    def write_to_file(self,file_name:str,content:str)->None:\n",
    "        try:\n",
    "            file = open(file_name,'r+')\n",
    "            file.write(str(content))\n",
    "        except FileNotFoundError:\n",
    "            print('The required File {} is not accessible'.format(file_name))\n",
    "        finally:\n",
    "            file.close()"
   ]
  },
  {
   "cell_type": "code",
   "execution_count": 39,
   "metadata": {},
   "outputs": [
    {
     "name": "stdout",
     "output_type": "stream",
     "text": [
      "User has provided Zero for divisor please rectify it\n",
      "output of first None \n"
     ]
    },
    {
     "data": {
      "text/plain": [
       "'Data has been Return Successfully'"
      ]
     },
     "execution_count": 39,
     "metadata": {},
     "output_type": "execute_result"
    }
   ],
   "source": [
    "exp_demo = ExceptionDemo(a=10,b=0)\n",
    "write_content = exp_demo.divide_number()\n",
    "print(\"output of first {} \".format(write_content))\n",
    "exp_demo.write_to_file(file_name='abc2.txt',content=write_content)\n",
    "\n",
    "\n"
   ]
  },
  {
   "cell_type": "code",
   "execution_count": 68,
   "metadata": {},
   "outputs": [
    {
     "name": "stdout",
     "output_type": "stream",
     "text": [
      "Error Occured\n"
     ]
    }
   ],
   "source": [
    "try: \n",
    "    file = open('abc.txt','w')\n",
    "    file.write('Writing some Content')\n",
    "    c = 1/0 # some Exception\n",
    "except:\n",
    "    print('Error Occured')\n",
    "finally:\n",
    "    file.close()"
   ]
  },
  {
   "cell_type": "code",
   "execution_count": 70,
   "metadata": {},
   "outputs": [],
   "source": [
    "class ValidEmailException(Exception):\n",
    "    def __init__(self, message):\n",
    "        super().__init__(message)\n",
    "        self.message = message\n",
    "User_email = input('Enter a email')\n",
    "try:\n",
    "    if '@' in User_email:\n",
    "        pass\n",
    "    else:\n",
    "        raise ValidEmailException('Provide A valid email')\n",
    "except ValidEmailException as e:\n",
    "    print(e)\n",
    "    \n",
    "    "
   ]
  },
  {
   "cell_type": "code",
   "execution_count": 71,
   "metadata": {},
   "outputs": [
    {
     "name": "stdout",
     "output_type": "stream",
     "text": [
      "Provide A valid email\n"
     ]
    }
   ],
   "source": [
    "User_email = input('Enter a email')\n",
    "try:\n",
    "    if '@' in User_email:\n",
    "        pass\n",
    "    else:\n",
    "        raise ValidEmailException('Provide A valid email')\n",
    "except ValidEmailException as e:\n",
    "    print(e)\n",
    "    \n"
   ]
  },
  {
   "cell_type": "code",
   "execution_count": 72,
   "metadata": {},
   "outputs": [
    {
     "ename": "ZeroDivisionError",
     "evalue": "division by zero",
     "output_type": "error",
     "traceback": [
      "\u001b[1;31m---------------------------------------------------------------------------\u001b[0m",
      "\u001b[1;31mZeroDivisionError\u001b[0m                         Traceback (most recent call last)",
      "Cell \u001b[1;32mIn[72], line 1\u001b[0m\n\u001b[1;32m----> 1\u001b[0m a \u001b[38;5;241m=\u001b[39m \u001b[38;5;241;43m1\u001b[39;49m\u001b[38;5;241;43m/\u001b[39;49m\u001b[38;5;241;43m0\u001b[39;49m\n",
      "\u001b[1;31mZeroDivisionError\u001b[0m: division by zero"
     ]
    }
   ],
   "source": [
    "a = 1/0"
   ]
  },
  {
   "cell_type": "code",
   "execution_count": null,
   "metadata": {},
   "outputs": [],
   "source": []
  }
 ],
 "metadata": {
  "kernelspec": {
   "display_name": "basic-python",
   "language": "python",
   "name": "python3"
  },
  "language_info": {
   "codemirror_mode": {
    "name": "ipython",
    "version": 3
   },
   "file_extension": ".py",
   "mimetype": "text/x-python",
   "name": "python",
   "nbconvert_exporter": "python",
   "pygments_lexer": "ipython3",
   "version": "3.12.1"
  }
 },
 "nbformat": 4,
 "nbformat_minor": 2
}
