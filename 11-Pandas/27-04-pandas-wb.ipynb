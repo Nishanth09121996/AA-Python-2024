{
 "cells": [
  {
   "cell_type": "code",
   "execution_count": 1,
   "metadata": {},
   "outputs": [],
   "source": [
    "import pandas as pd"
   ]
  },
  {
   "cell_type": "code",
   "execution_count": 5,
   "metadata": {},
   "outputs": [
    {
     "data": {
      "text/html": [
       "<div>\n",
       "<style scoped>\n",
       "    .dataframe tbody tr th:only-of-type {\n",
       "        vertical-align: middle;\n",
       "    }\n",
       "\n",
       "    .dataframe tbody tr th {\n",
       "        vertical-align: top;\n",
       "    }\n",
       "\n",
       "    .dataframe thead th {\n",
       "        text-align: right;\n",
       "    }\n",
       "</style>\n",
       "<table border=\"1\" class=\"dataframe\">\n",
       "  <thead>\n",
       "    <tr style=\"text-align: right;\">\n",
       "      <th></th>\n",
       "      <th>Id</th>\n",
       "      <th>Name</th>\n",
       "    </tr>\n",
       "  </thead>\n",
       "  <tbody>\n",
       "    <tr>\n",
       "      <th>0</th>\n",
       "      <td>0</td>\n",
       "      <td>d</td>\n",
       "    </tr>\n",
       "    <tr>\n",
       "      <th>3</th>\n",
       "      <td>3</td>\n",
       "      <td>d</td>\n",
       "    </tr>\n",
       "    <tr>\n",
       "      <th>2</th>\n",
       "      <td>2</td>\n",
       "      <td>c</td>\n",
       "    </tr>\n",
       "    <tr>\n",
       "      <th>1</th>\n",
       "      <td>1</td>\n",
       "      <td>b</td>\n",
       "    </tr>\n",
       "    <tr>\n",
       "      <th>4</th>\n",
       "      <td>4</td>\n",
       "      <td>a</td>\n",
       "    </tr>\n",
       "  </tbody>\n",
       "</table>\n",
       "</div>"
      ],
      "text/plain": [
       "   Id Name\n",
       "0   0    d\n",
       "3   3    d\n",
       "2   2    c\n",
       "1   1    b\n",
       "4   4    a"
      ]
     },
     "execution_count": 5,
     "metadata": {},
     "output_type": "execute_result"
    }
   ],
   "source": [
    "# Sort \n",
    "\n",
    "# select * from table \n",
    "# order by column_name\n",
    "\n",
    "\n",
    "df = pd.DataFrame({\"Id\":range(5),'Name':['d','b','c','d','a']})\n",
    "df.sort_values(by='Name',ascending=False)"
   ]
  },
  {
   "cell_type": "code",
   "execution_count": 11,
   "metadata": {},
   "outputs": [
    {
     "data": {
      "text/plain": [
       "Index(['Rank', 'Name', 'Platform', 'Year', 'Genre', 'Publisher', 'NA_Sales',\n",
       "       'EU_Sales', 'JP_Sales', 'Other_Sales', 'Global_Sales'],\n",
       "      dtype='object')"
      ]
     },
     "execution_count": 11,
     "metadata": {},
     "output_type": "execute_result"
    }
   ],
   "source": [
    "data = pd.read_csv('Data/vgsalesGlobale.csv')\n",
    "data.columns"
   ]
  },
  {
   "cell_type": "code",
   "execution_count": 18,
   "metadata": {},
   "outputs": [],
   "source": [
    "data[['Year','Genre','Global_Sales']]\n",
    "# select year,Genre,Sum(Global_Sales) from table group by year,Genre\n",
    "grouped_data_by_year = data.groupby(['Year','Genre'], as_index= False).agg(Total_sales = ('Global_Sales','sum'))"
   ]
  },
  {
   "cell_type": "code",
   "execution_count": 19,
   "metadata": {},
   "outputs": [
    {
     "name": "stdout",
     "output_type": "stream",
     "text": [
      "       Year         Genre  Total_sales\n",
      "0    1980.0        Action         0.34\n",
      "1    1980.0      Fighting         0.77\n",
      "2    1980.0          Misc         2.71\n",
      "3    1980.0       Shooter         7.07\n",
      "4    1980.0        Sports         0.49\n",
      "..      ...           ...          ...\n",
      "384  2016.0        Sports        14.60\n",
      "385  2016.0      Strategy         0.50\n",
      "386  2017.0        Action         0.01\n",
      "387  2017.0  Role-Playing         0.04\n",
      "388  2020.0    Simulation         0.29\n",
      "\n",
      "[389 rows x 3 columns]\n"
     ]
    }
   ],
   "source": [
    "print(grouped_data_by_year)"
   ]
  },
  {
   "cell_type": "code",
   "execution_count": 27,
   "metadata": {},
   "outputs": [
    {
     "name": "stdout",
     "output_type": "stream",
     "text": [
      "           Genre  Total_sales  RankBySales\n",
      "0         Action      1751.18          1.0\n",
      "10        Sports      1330.93          2.0\n",
      "8        Shooter      1037.37          3.0\n",
      "7   Role-Playing       927.37          4.0\n",
      "4       Platform       831.37          5.0\n",
      "3           Misc       809.96          6.0\n",
      "6         Racing       732.04          7.0\n",
      "2       Fighting       448.91          8.0\n",
      "9     Simulation       392.20          9.0\n",
      "5         Puzzle       244.95         10.0\n",
      "1      Adventure       239.04         11.0\n",
      "11      Strategy       175.12         12.0\n"
     ]
    }
   ],
   "source": [
    "data_genre = data.groupby(['Genre'], as_index= False).agg(Total_sales = ('Global_Sales','sum'))\n",
    "data_genre['RankBySales'] = data_genre['Total_sales'].rank(ascending=False)\n",
    "print(data_genre.sort_values('RankBySales'))"
   ]
  },
  {
   "cell_type": "code",
   "execution_count": 33,
   "metadata": {},
   "outputs": [
    {
     "data": {
      "text/html": [
       "<div>\n",
       "<style scoped>\n",
       "    .dataframe tbody tr th:only-of-type {\n",
       "        vertical-align: middle;\n",
       "    }\n",
       "\n",
       "    .dataframe tbody tr th {\n",
       "        vertical-align: top;\n",
       "    }\n",
       "\n",
       "    .dataframe thead th {\n",
       "        text-align: right;\n",
       "    }\n",
       "</style>\n",
       "<table border=\"1\" class=\"dataframe\">\n",
       "  <thead>\n",
       "    <tr style=\"text-align: right;\">\n",
       "      <th></th>\n",
       "      <th>Genre</th>\n",
       "      <th>Total_sales</th>\n",
       "      <th>RankBySales</th>\n",
       "    </tr>\n",
       "  </thead>\n",
       "  <tbody>\n",
       "    <tr>\n",
       "      <th>0</th>\n",
       "      <td>Action</td>\n",
       "      <td>1751.18</td>\n",
       "      <td>1.0</td>\n",
       "    </tr>\n",
       "    <tr>\n",
       "      <th>5</th>\n",
       "      <td>Puzzle</td>\n",
       "      <td>244.95</td>\n",
       "      <td>10.0</td>\n",
       "    </tr>\n",
       "    <tr>\n",
       "      <th>11</th>\n",
       "      <td>Strategy</td>\n",
       "      <td>175.12</td>\n",
       "      <td>12.0</td>\n",
       "    </tr>\n",
       "  </tbody>\n",
       "</table>\n",
       "</div>"
      ],
      "text/plain": [
       "       Genre  Total_sales  RankBySales\n",
       "0     Action      1751.18          1.0\n",
       "5     Puzzle       244.95         10.0\n",
       "11  Strategy       175.12         12.0"
      ]
     },
     "execution_count": 33,
     "metadata": {},
     "output_type": "execute_result"
    }
   ],
   "source": [
    "# Filter\n",
    "# select * from a where genre = 'Action'\n",
    "data_genre.query(\"Genre == 'Action' \")\n",
    "# Multiple rows \n",
    "data_genre.query(\"Genre in ['Action','Puzzle','Strategy'] \")"
   ]
  },
  {
   "cell_type": "code",
   "execution_count": 46,
   "metadata": {},
   "outputs": [],
   "source": [
    "student = pd.DataFrame({'Id': [1,2,3,4], 'Name': ['Ram','Sita','Pooja','Ragu'] })\n",
    "marks = pd.DataFrame({'Id':[1,1,2,2,3,3,2]\n",
    ",'Subject':['E','M','E','M','E','S','P']\n",
    ",'Marks':[20,30,40,50,60,20,40]\n",
    "})"
   ]
  },
  {
   "cell_type": "code",
   "execution_count": 47,
   "metadata": {},
   "outputs": [
    {
     "name": "stdout",
     "output_type": "stream",
     "text": [
      "   Id   Name\n",
      "0   1    Ram\n",
      "1   2   Sita\n",
      "2   3  Pooja\n",
      "3   4   Ragu\n",
      "   Id Subject  Marks\n",
      "0   1       E     20\n",
      "1   1       M     30\n",
      "2   2       E     40\n",
      "3   2       M     50\n",
      "4   3       E     60\n",
      "5   3       S     20\n",
      "6   2       P     40\n"
     ]
    }
   ],
   "source": [
    "print(student)\n",
    "print(marks)"
   ]
  },
  {
   "cell_type": "code",
   "execution_count": 57,
   "metadata": {},
   "outputs": [],
   "source": [
    "student_marks = pd.merge(student,marks,on=['Id'],how='left')"
   ]
  },
  {
   "cell_type": "code",
   "execution_count": 58,
   "metadata": {},
   "outputs": [
    {
     "data": {
      "text/html": [
       "<div>\n",
       "<style scoped>\n",
       "    .dataframe tbody tr th:only-of-type {\n",
       "        vertical-align: middle;\n",
       "    }\n",
       "\n",
       "    .dataframe tbody tr th {\n",
       "        vertical-align: top;\n",
       "    }\n",
       "\n",
       "    .dataframe thead th {\n",
       "        text-align: right;\n",
       "    }\n",
       "</style>\n",
       "<table border=\"1\" class=\"dataframe\">\n",
       "  <thead>\n",
       "    <tr style=\"text-align: right;\">\n",
       "      <th></th>\n",
       "      <th>Id</th>\n",
       "      <th>Name</th>\n",
       "      <th>Subject</th>\n",
       "      <th>Marks</th>\n",
       "    </tr>\n",
       "  </thead>\n",
       "  <tbody>\n",
       "    <tr>\n",
       "      <th>0</th>\n",
       "      <td>1</td>\n",
       "      <td>Ram</td>\n",
       "      <td>E</td>\n",
       "      <td>20.0</td>\n",
       "    </tr>\n",
       "    <tr>\n",
       "      <th>1</th>\n",
       "      <td>1</td>\n",
       "      <td>Ram</td>\n",
       "      <td>M</td>\n",
       "      <td>30.0</td>\n",
       "    </tr>\n",
       "    <tr>\n",
       "      <th>2</th>\n",
       "      <td>2</td>\n",
       "      <td>Sita</td>\n",
       "      <td>E</td>\n",
       "      <td>40.0</td>\n",
       "    </tr>\n",
       "    <tr>\n",
       "      <th>3</th>\n",
       "      <td>2</td>\n",
       "      <td>Sita</td>\n",
       "      <td>M</td>\n",
       "      <td>50.0</td>\n",
       "    </tr>\n",
       "    <tr>\n",
       "      <th>4</th>\n",
       "      <td>2</td>\n",
       "      <td>Sita</td>\n",
       "      <td>P</td>\n",
       "      <td>40.0</td>\n",
       "    </tr>\n",
       "    <tr>\n",
       "      <th>5</th>\n",
       "      <td>3</td>\n",
       "      <td>Pooja</td>\n",
       "      <td>E</td>\n",
       "      <td>60.0</td>\n",
       "    </tr>\n",
       "    <tr>\n",
       "      <th>6</th>\n",
       "      <td>3</td>\n",
       "      <td>Pooja</td>\n",
       "      <td>S</td>\n",
       "      <td>20.0</td>\n",
       "    </tr>\n",
       "    <tr>\n",
       "      <th>7</th>\n",
       "      <td>4</td>\n",
       "      <td>Ragu</td>\n",
       "      <td>NaN</td>\n",
       "      <td>NaN</td>\n",
       "    </tr>\n",
       "  </tbody>\n",
       "</table>\n",
       "</div>"
      ],
      "text/plain": [
       "   Id   Name Subject  Marks\n",
       "0   1    Ram       E   20.0\n",
       "1   1    Ram       M   30.0\n",
       "2   2   Sita       E   40.0\n",
       "3   2   Sita       M   50.0\n",
       "4   2   Sita       P   40.0\n",
       "5   3  Pooja       E   60.0\n",
       "6   3  Pooja       S   20.0\n",
       "7   4   Ragu     NaN    NaN"
      ]
     },
     "execution_count": 58,
     "metadata": {},
     "output_type": "execute_result"
    }
   ],
   "source": [
    "student_marks"
   ]
  },
  {
   "cell_type": "code",
   "execution_count": 63,
   "metadata": {},
   "outputs": [
    {
     "name": "stdout",
     "output_type": "stream",
     "text": [
      "   Id   Name\n",
      "0   1    Ram\n",
      "1   2   Sita\n",
      "2   3  Pooja\n",
      "3   4   Ragu\n",
      "   Id    Name\n",
      "0   5    Rama\n",
      "1   6    susi\n",
      "2   7  animal\n",
      "3   8    king\n",
      "4   8    king\n",
      "\n",
      "\n",
      "   Id    Name\n",
      "0   1     Ram\n",
      "1   2    Sita\n",
      "2   3   Pooja\n",
      "3   4    Ragu\n",
      "0   5    Rama\n",
      "1   6    susi\n",
      "2   7  animal\n",
      "3   8    king\n"
     ]
    }
   ],
   "source": [
    "student1 = pd.DataFrame({'Id': [1,2,3,4], 'Name': ['Ram','Sita','Pooja','Ragu'] })\n",
    "student2 = pd.DataFrame({'Id': [5,6,7,8,8], 'Name': ['Rama','susi','animal','king','king'] })\n",
    "print(student1)\n",
    "print(student2)\n",
    "print('\\n')\n",
    "student = pd.concat([student1,student2])\n",
    "print(student.drop_duplicates())"
   ]
  },
  {
   "cell_type": "code",
   "execution_count": null,
   "metadata": {},
   "outputs": [],
   "source": [
    "student = pd.DataFrame({'Id': [1,2,3,4], 'Name': ['Ram','Sita','Pooja','Ragu'] })\n",
    "marks = pd.DataFrame({'Id':[1,1,2,2,3,3,2]\n",
    ",'Subject':['E','M','E','M','E','S','P']\n",
    ",'Marks':[20,30,40,50,60,20,40]\n",
    "})"
   ]
  }
 ],
 "metadata": {
  "kernelspec": {
   "display_name": "basic-python",
   "language": "python",
   "name": "python3"
  },
  "language_info": {
   "codemirror_mode": {
    "name": "ipython",
    "version": 3
   },
   "file_extension": ".py",
   "mimetype": "text/x-python",
   "name": "python",
   "nbconvert_exporter": "python",
   "pygments_lexer": "ipython3",
   "version": "3.12.1"
  }
 },
 "nbformat": 4,
 "nbformat_minor": 2
}
