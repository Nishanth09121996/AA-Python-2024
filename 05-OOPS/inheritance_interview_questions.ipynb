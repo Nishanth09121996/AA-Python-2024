{
 "cells": [
  {
   "cell_type": "code",
   "execution_count": 11,
   "metadata": {},
   "outputs": [],
   "source": [
    "class Parent:    \n",
    "    def show(self):\n",
    "        print('This is Parent Class FUnction ')\n",
    "class Child(Parent):    \n",
    "    def show(self):\n",
    "        print('This is Child Class FUnction ')\n",
    "# Created Object for Child\n",
    "child_obj  = Child()\n",
    "child_obj.show()"
   ]
  },
  {
   "cell_type": "code",
   "execution_count": 12,
   "metadata": {},
   "outputs": [
    {
     "name": "stdout",
     "output_type": "stream",
     "text": [
      "This is Parent Class FUnction \n"
     ]
    }
   ],
   "source": [
    "# Created Object for Child\n",
    "child_obj  = Child()\n",
    "child_obj.show()\n",
    "\n",
    "parent_obj = Parent()\n"
   ]
  },
  {
   "cell_type": "code",
   "execution_count": null,
   "metadata": {},
   "outputs": [],
   "source": []
  }
 ],
 "metadata": {
  "kernelspec": {
   "display_name": "basic-python",
   "language": "python",
   "name": "python3"
  },
  "language_info": {
   "codemirror_mode": {
    "name": "ipython",
    "version": 3
   },
   "file_extension": ".py",
   "mimetype": "text/x-python",
   "name": "python",
   "nbconvert_exporter": "python",
   "pygments_lexer": "ipython3",
   "version": "3.12.1"
  }
 },
 "nbformat": 4,
 "nbformat_minor": 2
}
