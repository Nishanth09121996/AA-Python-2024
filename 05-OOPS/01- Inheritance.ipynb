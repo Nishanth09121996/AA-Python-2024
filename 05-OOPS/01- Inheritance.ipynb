{
 "cells": [
  {
   "cell_type": "markdown",
   "metadata": {},
   "source": [
    "### Inheritence in Python\n",
    "\n",
    "White Board [Link][https://wbd.ms/share/v2/aHR0cHM6Ly93aGl0ZWJvYXJkLm1pY3Jvc29mdC5jb20vYXBpL3YxLjAvd2hpdGVib2FyZHMvcmVkZWVtL2YyYzJmYzllMGU1MDQ4MTRiMzY2ZDAyMTIxODAyMmRiX0JCQTcxNzYyLTEyRTAtNDJFMS1CMzI0LTVCMTMxRjQyNEUzRF8xNmYyMmU3YS1jZjJiLTQ4ZGYtYTljOC01ZDMzNTJjYzU5MmI=]"
   ]
  },
  {
   "cell_type": "code",
   "execution_count": 2,
   "metadata": {},
   "outputs": [],
   "source": [
    "class AndroidSmartPhone:\n",
    "    os = 'Android'\n",
    "    def __init__(self,screen_size:str,can_call:bool,send_msg:bool,camera:str,make_year:int,battery:str,processor:str,brand:str) -> None:\n",
    "        self.screen_size = screen_size\n",
    "        self.can_call = can_call\n",
    "        self.send_msg = send_msg\n",
    "        self.camera = camera        \n",
    "        self.make_year = make_year\n",
    "        self.battery = battery\n",
    "        self.processor = processor\n",
    "        self.brand = brand\n",
    "    def make_call(self) -> None:\n",
    "        print('Making call from {} phone'.format(self.os))\n",
    "    def take_picture(self)-> None:\n",
    "        print('Taking picture from the Mobile Brand {} using {} camera'.format(self.brand,self.camera))\n",
    "\n",
    "class IOSmartPhone:\n",
    "    os = 'IOS'\n",
    "    def __init__(self,screen_size:str,can_call:bool,send_msg:bool,camera:str,make_year:int,battery:str,processor:str,brand:str) -> None:\n",
    "        self.screen_size = screen_size\n",
    "        self.can_call = can_call\n",
    "        self.send_msg = send_msg\n",
    "        self.camera = camera\n",
    "        self.make_year = make_year\n",
    "        self.battery = battery\n",
    "        self.processor = processor\n",
    "        self.brand = brand\n",
    "    def make_call(self) -> None:\n",
    "        print('Making call from {} phone'.format(self.os))\n",
    "    def take_picture(self)-> None:\n",
    "        print('Taking picture from the Mobile Brand {} using {} camera'.format(self.brand,self.camera))"
   ]
  },
  {
   "cell_type": "code",
   "execution_count": 7,
   "metadata": {},
   "outputs": [],
   "source": [
    "android = AndroidSmartPhone(screen_size='6.7inch',can_call=True,send_msg=True,camera='50 megapixcel',make_year=2024,battery='4000mah',processor='Sanpdragon 888',brand='Samsung')\n",
    "Ios = IOSmartPhone(screen_size='6.7inch',can_call=True,send_msg=True,camera='50 megapixcel',make_year=2024,battery='4000mah',processor='M2',brand='Apple')"
   ]
  },
  {
   "cell_type": "code",
   "execution_count": 8,
   "metadata": {},
   "outputs": [
    {
     "name": "stdout",
     "output_type": "stream",
     "text": [
      "Android\n",
      "IOS\n"
     ]
    }
   ],
   "source": [
    "print(android.os)\n",
    "print(Ios.os)"
   ]
  },
  {
   "cell_type": "markdown",
   "metadata": {},
   "source": [
    "### Avoiding Code Duplication"
   ]
  },
  {
   "cell_type": "code",
   "execution_count": 23,
   "metadata": {},
   "outputs": [],
   "source": [
    "class SmartPhone:\n",
    "    def __init__(self,screen_size:str,can_call:bool,send_msg:bool,camera:str,make_year:int,battery:str,processor:str,brand:str) -> None:\n",
    "        self.screen_size = screen_size\n",
    "        self.can_call = can_call\n",
    "        self.send_msg = send_msg\n",
    "        self.camera = camera        \n",
    "        self.make_year = make_year\n",
    "        self.battery = battery\n",
    "        self.processor = processor\n",
    "        self.brand = brand\n",
    "    def make_call(self) -> None:\n",
    "        print('Making call from {} phone'.format(self.os))\n",
    "    def take_picture(self)-> None:\n",
    "        print('Taking picture from the Mobile Brand {} using {} camera'.format(self.brand,self.camera))\n",
    "class AndroidSmartPhone(SmartPhone):\n",
    "    base_price = 5000\n",
    "    os = 'Android'\n",
    "    def __init__(self, screen_size: str, can_call: bool, send_msg: bool, camera: str, make_year: int, battery: str, processor: str, brand: str) -> None:\n",
    "        super().__init__(screen_size, can_call, send_msg, camera, make_year, battery, processor, brand)\n",
    "    def make_call(self) -> None:\n",
    "        print('Making call from {} phone'.format(self.os))\n",
    "    def take_picture(self)-> None:\n",
    "        print('Taking picture from the Mobile Brand {} using {} camera'.format(self.brand,self.camera)) \n",
    "    def phone_type(self)-> None:\n",
    "        print('This is a {} smart Phone and phones starts from {} Indian rupees'.format(self.os,self.base_price))\n",
    "class IOSSmartPhone(SmartPhone):\n",
    "    base_price = 30000\n",
    "    os = 'IOS'\n",
    "    def __init__(self, screen_size: str, can_call: bool, send_msg: bool, camera: str, make_year: int, battery: str, processor: str, brand: str) -> None:\n",
    "        super().__init__(screen_size, can_call, send_msg, camera, make_year, battery, processor, brand)\n",
    "    def make_call(self) -> None:\n",
    "        print('Making call from {} phone'.format(self.os))\n",
    "    def take_picture(self)-> None:\n",
    "        print('Taking picture from the Mobile Brand {} using {} camera'.format(self.brand,self.camera)) \n",
    "    def phone_type(self)-> None:\n",
    "        print('This is a {} smart Phone and phones starts from {} Indian rupees'.format(self.os,self.base_price))"
   ]
  },
  {
   "cell_type": "code",
   "execution_count": 20,
   "metadata": {},
   "outputs": [],
   "source": [
    "android = AndroidSmartPhone(screen_size='6.7inch',can_call=True,send_msg=True,camera='50 megapixcel',make_year=2024,battery='4000mah',processor='Sanpdragon 888',brand='Samsung')\n",
    "Ios = IOSSmartPhone(screen_size='6.7inch',can_call=True,send_msg=True,camera='50 megapixcel',make_year=2024,battery='4000mah',processor='M2',brand='Apple')"
   ]
  },
  {
   "cell_type": "code",
   "execution_count": 21,
   "metadata": {},
   "outputs": [
    {
     "data": {
      "text/plain": [
       "5000"
      ]
     },
     "execution_count": 21,
     "metadata": {},
     "output_type": "execute_result"
    }
   ],
   "source": [
    "android.base_price\n",
    "Ios.base_price"
   ]
  },
  {
   "cell_type": "code",
   "execution_count": 22,
   "metadata": {},
   "outputs": [
    {
     "name": "stdout",
     "output_type": "stream",
     "text": [
      "This is a Android smart Phone and phones starts from 5000 Indian rupees\n"
     ]
    }
   ],
   "source": [
    "android.phone_type()"
   ]
  },
  {
   "cell_type": "markdown",
   "metadata": {},
   "source": [
    "### Abstract Class"
   ]
  },
  {
   "cell_type": "code",
   "execution_count": 25,
   "metadata": {},
   "outputs": [
    {
     "data": {
      "text/plain": [
       "<__main__.SmartPhone at 0x2753810d2e0>"
      ]
     },
     "execution_count": 25,
     "metadata": {},
     "output_type": "execute_result"
    }
   ],
   "source": [
    "SmartPhone(screen_size='22',can_call=True,send_msg=True,camera='50 mps',make_year=2006,battery='4000 mah',processor='abc',brand='Generic')"
   ]
  },
  {
   "cell_type": "code",
   "execution_count": 11,
   "metadata": {},
   "outputs": [],
   "source": [
    "from abc import ABCMeta, abstractmethod, ABC\n",
    "class SmartPhone(ABC):\n",
    "    def __init__(self,screen_size:str,can_call:bool,send_msg:bool,camera:str,make_year:int,battery:str,processor:str,brand:str) -> None:\n",
    "        self.screen_size = screen_size\n",
    "        self.can_call = can_call\n",
    "        self.send_msg = send_msg\n",
    "        self.camera = camera        \n",
    "        self.make_year = make_year\n",
    "        self.battery = battery\n",
    "        self.processor = processor\n",
    "        self.brand = brand\n",
    "    def make_call(self) -> None:\n",
    "        print('Making call from {} phone'.format(self.os))\n",
    "    def take_picture(self)-> None:\n",
    "        print('Taking picture')\n",
    "    @abstractmethod\n",
    "    def phone_type(self)-> None:\n",
    "        pass\n",
    "\n",
    "class AndroidSmartPhone(SmartPhone):\n",
    "    base_price = 5000\n",
    "    os = 'Android'\n",
    "    def __init__(self, screen_size: str, can_call: bool, send_msg: bool, camera: str, make_year: int, battery: str, processor: str, brand: str) -> None:\n",
    "        super().__init__(screen_size, can_call, send_msg, camera, make_year, battery, processor, brand)\n",
    "    def make_call(self) -> None:\n",
    "        print('Making call from {} phone'.format(self.os))\n",
    "    def take_picture(self)-> None:\n",
    "        print('Taking picture from the Mobile Brand {} using {} camera'.format(self.brand,self.camera)) \n",
    "    def phone_type(self)-> None:\n",
    "        print('This is a {} smart Phone and phones starts from {} Indian rupees'.format(self.os,self.base_price))\n",
    "class IOSSmartPhone(SmartPhone):\n",
    "    base_price = 30000\n",
    "    os = 'IOS'\n",
    "    def __init__(self, screen_size: str, can_call: bool, send_msg: bool, camera: str, make_year: int, battery: str, processor: str, brand: str) -> None:\n",
    "        super().__init__(screen_size, can_call, send_msg, camera, make_year, battery, processor, brand)\n",
    "    def make_call(self) -> None:\n",
    "        print('Making call from {} phone'.format(self.os))\n",
    "    def take_picture(self)-> None:\n",
    "        print('Taking picture from the Mobile Brand {} using {} camera'.format(self.brand,self.camera)) \n",
    "    def phone_type(self)-> None:\n",
    "        print('This is a {} smart Phone and phones starts from {} Indian rupees'.format(self.os,self.base_price))"
   ]
  },
  {
   "cell_type": "code",
   "execution_count": 12,
   "metadata": {},
   "outputs": [],
   "source": [
    "android = AndroidSmartPhone(screen_size='6.7inch',can_call=True,send_msg=True,camera='50 megapixcel',make_year=2024,battery='4000mah',processor='Sanpdragon 888',brand='Samsung')\n",
    "Ios = IOSSmartPhone(screen_size='6.7inch',can_call=True,send_msg=True,camera='50 megapixcel',make_year=2024,battery='4000mah',processor='M2',brand='Apple')"
   ]
  },
  {
   "cell_type": "code",
   "execution_count": 13,
   "metadata": {},
   "outputs": [
    {
     "name": "stdout",
     "output_type": "stream",
     "text": [
      "Taking picture from the Mobile Brand Samsung using 50 megapixcel camera\n"
     ]
    }
   ],
   "source": [
    "android.take_picture()"
   ]
  },
  {
   "cell_type": "code",
   "execution_count": null,
   "metadata": {},
   "outputs": [],
   "source": []
  }
 ],
 "metadata": {
  "kernelspec": {
   "display_name": "basic-python",
   "language": "python",
   "name": "python3"
  },
  "language_info": {
   "codemirror_mode": {
    "name": "ipython",
    "version": 3
   },
   "file_extension": ".py",
   "mimetype": "text/x-python",
   "name": "python",
   "nbconvert_exporter": "python",
   "pygments_lexer": "ipython3",
   "version": "3.12.1"
  }
 },
 "nbformat": 4,
 "nbformat_minor": 2
}
