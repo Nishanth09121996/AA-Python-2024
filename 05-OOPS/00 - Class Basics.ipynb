{
 "cells": [
  {
   "cell_type": "markdown",
   "metadata": {},
   "source": [
    "___\n",
    "\n",
    "<center><a href='https://analyticsavenue.in/'><img src='https://analyticsavenue.in/wp-content/uploads/2023/12/Edited-Logo-1-1-1-2048x2048.png' width=\"200\" height=\"100\"/></a></center>\n",
    "<center><em>Analytics Avenue</em></center>\n",
    "\n",
    "___\n"
   ]
  },
  {
   "cell_type": "code",
   "execution_count": 20,
   "metadata": {},
   "outputs": [
    {
     "name": "stdout",
     "output_type": "stream",
     "text": [
      "<class '__main__.SmartPhone'>\n",
      "<__main__.SmartPhone object at 0x00000172663C5400>\n",
      "Battery =>  4000 mah\n",
      "Camera =>  12mp\n",
      "name => Iphone12\n",
      "Os => IOS\n",
      "\n",
      " _____________________\n",
      "Battery =>  4000 mah\n",
      "Camera =>  50 Mp\n",
      "name => Iphone13\n",
      "Os => ios11\n",
      "I am making a call\n",
      "Iphone12\n",
      "IOS\n",
      "I am taking a phone\n",
      "I am making a call\n",
      "Iphone13\n",
      "ios11\n"
     ]
    }
   ],
   "source": [
    "class SmartPhone:\n",
    "    def __init__(self) -> None:\n",
    "        # Class Attributes or variables\n",
    "        self.name = 'Iphone12'\n",
    "        self.camera = '12mp'\n",
    "        self.os = 'IOS'\n",
    "        self.battery = '4000 mah'\n",
    "    \n",
    "    # Class method\n",
    "    def make_call(self):\n",
    "        print('I am making a call')\n",
    "        print(self.name)\n",
    "        print(self.os)\n",
    "\n",
    "    # Class method    \n",
    "    def take_photo(self):\n",
    "        print('I am taking a phone')\n",
    "\n",
    "# Create a object \n",
    "iphone12 = SmartPhone()\n",
    "print(type(iphone12))\n",
    "print((iphone12))\n",
    "print('Battery => ',iphone12.battery)\n",
    "print('Camera => ' ,iphone12.camera)\n",
    "print('name =>',iphone12.name)\n",
    "print('Os =>', iphone12.os)\n",
    "print('\\n _____________________')\n",
    "\n",
    "iphone13 = SmartPhone()\n",
    "iphone13.name = 'Iphone13'\n",
    "iphone13.camera = '50 Mp'\n",
    "iphone13.os = 'ios11'\n",
    "print('Battery => ',iphone13.battery)\n",
    "print('Camera => ' ,iphone13.camera)\n",
    "print('name =>',iphone13.name)\n",
    "print('Os =>', iphone13.os)\n",
    "# Calling Class Method \n",
    "iphone12.make_call()\n",
    "iphone12.take_photo()\n",
    "iphone13.make_call()"
   ]
  },
  {
   "cell_type": "code",
   "execution_count": 30,
   "metadata": {},
   "outputs": [
    {
     "name": "stdout",
     "output_type": "stream",
     "text": [
      "Nishanth\n",
      "None\n",
      "Adi\n"
     ]
    }
   ],
   "source": [
    "class Student: # Creating a class Student\n",
    "    def __init__(self,name:str,age:int,country:str,class_name:str) -> None:\n",
    "        '''\n",
    "        This is a constructor where it builds the object and store in heap memory\n",
    "        '''\n",
    "        self.name = name\n",
    "        self.age = age\n",
    "        self.country = country\n",
    "        self.class_name = class_name\n",
    "\n",
    "    def get_student_name(self)-> str:\n",
    "        return self.name     \n",
    "    \n",
    "    def set_student_name(self,new_name:str) -> None:\n",
    "        self.name = new_name   \n",
    "        \n",
    "\n",
    "student_1 = Student(name='Nishanth',age=27,country='India',class_name='12')\n",
    "student_2 = Student(name='Rajini',age=12,country='India',class_name='+1')\n",
    "student_3 = Student(name='Raji',age=18,country='England',class_name='Grade1')\n",
    "\n",
    "# Calling class function\n",
    "print(student_1.get_student_name())\n",
    "print(student_1.set_student_name('Adi'))\n",
    "print(student_1.get_student_name())"
   ]
  },
  {
   "cell_type": "markdown",
   "metadata": {},
   "source": [
    "### *** Types of Variable in Python OOPS ***\n",
    "1.  Class Variable\n",
    "2.  Instance Variable"
   ]
  },
  {
   "cell_type": "code",
   "execution_count": 16,
   "metadata": {},
   "outputs": [
    {
     "name": "stdout",
     "output_type": "stream",
     "text": [
      "Name =  Nishanth\n",
      "Age =  12\n",
      "Country =  India\n",
      "School =  Analytics Avenue\n",
      "\n",
      "\n",
      "Name =  Raja\n",
      "Age =  50\n",
      "Country =  India\n",
      "School =  Analytics Avenue\n"
     ]
    }
   ],
   "source": [
    "class Student:\n",
    "    school = 'Analytics Avenue' # => Class Variable which can be accessed only by class object\n",
    "    def __init__(self,name:str,age:int,country:str) -> None:\n",
    "        '''\n",
    "        This is a constructor where it builds the object and store in heap memory\n",
    "        '''\n",
    "        self.name = name # Variables start with Self. s called instance variable which is only for that object\n",
    "        self.age = age\n",
    "        self.country = country\n",
    "    def show(self) -> str:\n",
    "        print('Name = ' ,self.name)\n",
    "        print('Age = ', self.age)\n",
    "        print('Country = ', self.country)  \n",
    "        print('School = ', self.school)\n",
    "student_1 = Student(name='Nishanth',age=12,country='India')\n",
    "student_2 = Student(name='Raja',age=50,country='India')\n",
    "student_1.show()\n",
    "print('\\n')\n",
    "student_2.show()\n"
   ]
  },
  {
   "cell_type": "markdown",
   "metadata": {},
   "source": [
    "### *** Types of Methods in Opps ***\n",
    "1. Instance method\n",
    "2. Class Method\n",
    "3. Static mehod"
   ]
  },
  {
   "cell_type": "code",
   "execution_count": 41,
   "metadata": {},
   "outputs": [
    {
     "name": "stdout",
     "output_type": "stream",
     "text": [
      "School Name Analytics Avenue\n",
      "School Name Analytics Avenue\n",
      " I am a static method\n"
     ]
    }
   ],
   "source": [
    "class Student:\n",
    "    school = 'Analytics Avenue' # => Class Variable which can be accessed only by class object\n",
    "    def __init__(self,name:str,age:int,country:str) -> None:\n",
    "        '''\n",
    "        This is a constructor where it builds the object and store in heap memory\n",
    "        '''\n",
    "        self.name = name # Variables start with Self. s called instance variable which is only for that object\n",
    "        self.age = age\n",
    "        self.country = country\n",
    "        \n",
    "    \n",
    "    # Defining a Instance method using the 'self' in function call \n",
    "    def show(self) -> str:\n",
    "        print('Name = ' ,self.name)\n",
    "        print('Age = ', self.age)\n",
    "        print('Country = ', self.country)  \n",
    "        print('School = ', self.school)\n",
    "    \n",
    "    # Defining a Class Method with Decorator @classmethod and Using cls in function call\n",
    "    @classmethod\n",
    "    def show(cls):\n",
    "        print('School Name',cls.school)\n",
    "\n",
    "    @staticmethod\n",
    "    def Simple_staticmethod():\n",
    "        print(' I am a static method')\n",
    "\n",
    "student_1 = Student(name='Nishanth',age=12,country='India')\n",
    "student_2 = Student(name='Raja',age=50,country='India')\n",
    "# # Calling Instance Method\n",
    "# student_1.show()\n",
    "# # Changing the class Variable for the particular instance\n",
    "# student_1.school = 'Nazareth'\n",
    "# student_1.show()\n",
    "# print('\\n')\n",
    "# student_2.show()\n",
    "# print(type(Student.school))\n",
    "# Calling Class Method\n",
    "Student.show()\n",
    "\n",
    "# \n",
    "student_1.show()\n",
    "# Calling static method\n",
    "student_1.Simple_staticmethod()\n"
   ]
  },
  {
   "cell_type": "markdown",
   "metadata": {},
   "source": [
    "# homework"
   ]
  },
  {
   "cell_type": "code",
   "execution_count": null,
   "metadata": {},
   "outputs": [],
   "source": [
    "# Create a class student object abttribute -> name,age,roll,subject_1_mark,subject_2_mark,subject_3_mark:\n",
    "# Method -> getters,setters\n",
    "# StaticMethod -> to add all subject marks\n",
    "# Create a attribute total mark and save the sum of all the marks in the attribute\n",
    "# store all the created objects in dictionary \n",
    "# And print the objects \n",
    "\n"
   ]
  },
  {
   "cell_type": "markdown",
   "metadata": {},
   "source": [
    "https://wbd.ms/share/v2/aHR0cHM6Ly93aGl0ZWJvYXJkLm1pY3Jvc29mdC5jb20vYXBpL3YxLjAvd2hpdGVib2FyZHMvcmVkZWVtL2EyZjZlMzFiZWRlYjQ0ZDBhNWNjMjE0N2FkZTE1NmM3X0JCQTcxNzYyLTEyRTAtNDJFMS1CMzI0LTVCMTMxRjQyNEUzRF9iOGU3YmU5ZS04MzI2LTRhMGItYTE1MS1iODU0ZjU5NTkzMWY="
   ]
  },
  {
   "cell_type": "markdown",
   "metadata": {},
   "source": []
  }
 ],
 "metadata": {
  "kernelspec": {
   "display_name": "basic-python",
   "language": "python",
   "name": "python3"
  },
  "language_info": {
   "codemirror_mode": {
    "name": "ipython",
    "version": 3
   },
   "file_extension": ".py",
   "mimetype": "text/x-python",
   "name": "python",
   "nbconvert_exporter": "python",
   "pygments_lexer": "ipython3",
   "version": "3.12.1"
  }
 },
 "nbformat": 4,
 "nbformat_minor": 2
}
