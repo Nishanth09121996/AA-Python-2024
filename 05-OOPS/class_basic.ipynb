{
 "cells": [
  {
   "cell_type": "code",
   "execution_count": 9,
   "metadata": {},
   "outputs": [
    {
     "name": "stdout",
     "output_type": "stream",
     "text": [
      "Nishanth\n"
     ]
    }
   ],
   "source": [
    "class Student: # Creating a class Student\n",
    "    def __init__(self,name:str,age:int,country:str) -> None:\n",
    "        '''\n",
    "        This is a constructor where it builds the object and store in heap memory\n",
    "        '''\n",
    "        self.name = name\n",
    "        self.age = age\n",
    "        self.country = country    \n",
    "    def update(self,country:str) -> None:\n",
    "        self.country = country\n",
    "\n",
    "student_1 = Student(name='Nishanth',age=27,country='India')\n",
    "print(student_1.name)"
   ]
  },
  {
   "cell_type": "markdown",
   "metadata": {},
   "source": [
    "### *** Types of Variable in Python OOPS ***\n",
    "1.  Class Variable\n",
    "2.  Instance Variable"
   ]
  },
  {
   "cell_type": "code",
   "execution_count": 16,
   "metadata": {},
   "outputs": [
    {
     "name": "stdout",
     "output_type": "stream",
     "text": [
      "Name =  Nishanth\n",
      "Age =  12\n",
      "Country =  India\n",
      "School =  Analytics Avenue\n",
      "\n",
      "\n",
      "Name =  Raja\n",
      "Age =  50\n",
      "Country =  India\n",
      "School =  Analytics Avenue\n"
     ]
    }
   ],
   "source": [
    "class Student:\n",
    "    school = 'Analytics Avenue' # => Class Variable which can be accessed only by class object\n",
    "    def __init__(self,name:str,age:int,country:str) -> None:\n",
    "        '''\n",
    "        This is a constructor where it builds the object and store in heap memory\n",
    "        '''\n",
    "        self.name = name # Variables start with Self. s called instance variable which is only for that object\n",
    "        self.age = age\n",
    "        self.country = country\n",
    "    def show(self) -> str:\n",
    "        print('Name = ' ,self.name)\n",
    "        print('Age = ', self.age)\n",
    "        print('Country = ', self.country)  \n",
    "        print('School = ', self.school)\n",
    "student_1 = Student(name='Nishanth',age=12,country='India')\n",
    "student_2 = Student(name='Raja',age=50,country='India')\n",
    "student_1.show()\n",
    "print('\\n')\n",
    "student_2.show()\n"
   ]
  },
  {
   "cell_type": "markdown",
   "metadata": {},
   "source": [
    "### *** Types of Methods in Opps ***\n",
    "1. Instance method\n",
    "2. Class Method\n",
    "3. Static mehod"
   ]
  },
  {
   "cell_type": "code",
   "execution_count": 17,
   "metadata": {},
   "outputs": [
    {
     "name": "stdout",
     "output_type": "stream",
     "text": [
      "School Name Analytics Avenue\n",
      "\n",
      "\n",
      "School Name Analytics Avenue\n",
      "School Name Analytics Avenue\n",
      " I am a static method\n"
     ]
    }
   ],
   "source": [
    "class Student:\n",
    "    school = 'Analytics Avenue' # => Class Variable which can be accessed only by class object\n",
    "    def __init__(self,name:str,age:int,country:str) -> None:\n",
    "        '''\n",
    "        This is a constructor where it builds the object and store in heap memory\n",
    "        '''\n",
    "        self.name = name # Variables start with Self. s called instance variable which is only for that object\n",
    "        self.age = age\n",
    "        self.country = country\n",
    "    \n",
    "    # Defining a Instance method using the 'self' in function call \n",
    "    def show(self) -> str:\n",
    "        print('Name = ' ,self.name)\n",
    "        print('Age = ', self.age)\n",
    "        print('Country = ', self.country)  \n",
    "        print('School = ', self.school)\n",
    "    \n",
    "    # Defining a Class Method with Decorator @classmethod and Using cls in function call\n",
    "    @classmethod\n",
    "    def show(cls):\n",
    "        print('School Name',cls.school)\n",
    "\n",
    "    @staticmethod\n",
    "    def Simple_staticmethod():\n",
    "        print(' I am a static method')\n",
    "\n",
    "student_1 = Student(name='Nishanth',age=12,country='India')\n",
    "student_2 = Student(name='Raja',age=50,country='India')\n",
    "# Calling Instance Method\n",
    "student_1.show()\n",
    "print('\\n')\n",
    "student_2.show()\n",
    "\n",
    "# Calling Class Method\n",
    "Student.show()\n",
    "\n",
    "# Calling static method\n",
    "student_1.Simple_staticmethod()\n"
   ]
  }
 ],
 "metadata": {
  "kernelspec": {
   "display_name": "basic-python",
   "language": "python",
   "name": "python3"
  },
  "language_info": {
   "codemirror_mode": {
    "name": "ipython",
    "version": 3
   },
   "file_extension": ".py",
   "mimetype": "text/x-python",
   "name": "python",
   "nbconvert_exporter": "python",
   "pygments_lexer": "ipython3",
   "version": "3.12.1"
  }
 },
 "nbformat": 4,
 "nbformat_minor": 2
}
