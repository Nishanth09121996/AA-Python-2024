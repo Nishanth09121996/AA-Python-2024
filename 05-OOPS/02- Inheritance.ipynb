{
 "cells": [
  {
   "cell_type": "markdown",
   "metadata": {},
   "source": [
    "**In Python, inheritance types include single, multiple, multilevel, hierarchical, and hybrid. Single inheritance allows a class to inherit from one parent, while multiple inheritance derives from more than one base class. Multilevel involves a chain of inheritance, hierarchical stems from one parent to multiple children, and hybrid combines two or more types.**"
   ]
  },
  {
   "cell_type": "markdown",
   "metadata": {},
   "source": [
    "### Single Inheritance\n",
    "<p align=\"center\">\n",
    "  <img src=\"Single_Inheritance.png\" alt=\"Alt Text\" width=\"200\" height=\"200\">\n",
    "</p>"
   ]
  },
  {
   "cell_type": "markdown",
   "metadata": {},
   "source": [
    "Single inheritance in Python enables a derived class to inherit properties and behavior from a single parent class, promoting code reuse and functionality extension. The child class inherits attributes and methods from one parent class, facilitating customization and enhancement of inherited features.\n",
    "\n",
    "**Example.**\n",
    "\n",
    "```python\n",
    "class Parent:\n",
    "    def __init__(self):\n",
    "        self.value = \"Inside Parent\"\n",
    "\n",
    "    def show(self):\n",
    "        print(self.value)\n",
    "\n",
    "class Child(Parent):\n",
    "    def __init__(self):\n",
    "        super().__init__()\n",
    "        self.value = \"Inside Child\"\n",
    "\n",
    "    def display(self):\n",
    "        print(self.value)\n",
    "\n",
    "# Creating an object of Child\n",
    "child = Child()\n",
    "child.show()  # Accesses method from Parent class\n",
    "child.display()  # Accesses method from Child class\n",
    " ```\n",
    "In this code, Child inherits from Parent, demonstrating single inheritance. The Child class extends the Parent class by overriding the value attribute and adding a new method display()."
   ]
  },
  {
   "cell_type": "code",
   "execution_count": 2,
   "metadata": {},
   "outputs": [
    {
     "name": "stdout",
     "output_type": "stream",
     "text": [
      "Inside Child\n",
      "Inside Child\n"
     ]
    }
   ],
   "source": [
    "class Parent:\n",
    "    def __init__(self):\n",
    "        self.value = \"Inside Parent\"\n",
    "\n",
    "    def show(self):\n",
    "        print(self.value)\n",
    "\n",
    "class Child(Parent):\n",
    "    def __init__(self):\n",
    "        super().__init__()\n",
    "        self.value = \"Inside Child\"\n",
    "\n",
    "    def display(self):\n",
    "        print(self.value)\n",
    "\n",
    "# Creating an object of Child\n",
    "child = Child()\n",
    "child.show()  # Accesses method from Parent class\n",
    "child.display()  # Accesses method from Child class"
   ]
  },
  {
   "cell_type": "markdown",
   "metadata": {},
   "source": [
    "### Multiple Inheritance\n",
    "\n",
    "Multiple inheritance in Python permits a class to inherit attributes and methods from multiple parent classes, fostering a flexible and modular code structure. Python employs a method resolution order (MRO) algorithm to determine the sequence in which base classes are searched during method execution.\n",
    "<p align=\"center\">\n",
    "  <img src=\"multiple-inheritance.png\" alt=\"Alt Text\" width=\"200\" height=\"200\">\n",
    "</p>\n"
   ]
  },
  {
   "cell_type": "markdown",
   "metadata": {},
   "source": [
    "**Example:**\n",
    "```python\n",
    "class ParentClass1:\n",
    "    def method1(self):\n",
    "        print(\"Method in ParentClass1\")  # Define method in ParentClass1\n",
    "\n",
    "class ParentClass2:\n",
    "    def method2(self):\n",
    "        print(\"Method in ParentClass2\")  # Define method in ParentClass2\n",
    "\n",
    "class ChildClass(ParentClass1, ParentClass2):\n",
    "    def child_method(self):\n",
    "        print(\"Method in ChildClass\")  # Define method in ChildClass\n",
    "\n",
    "# Creating an instance of ChildClass\n",
    "child = ChildClass()\n",
    "child.method1()  # Accessing method from ParentClass1\n",
    "child.method2()  # Accessing method from ParentClass2\n",
    "```\n"
   ]
  },
  {
   "cell_type": "markdown",
   "metadata": {},
   "source": [
    "### Multilevel Inheritance\n",
    "<p align=\"center\">\n",
    "  <img src=\"Multilevel-inheritance1.png\" alt=\"Alt Text\" width=\"200\" height=\"200\">\n",
    "</p>"
   ]
  },
  {
   "cell_type": "markdown",
   "metadata": {},
   "source": [
    "Multilevel inheritance in Python involves deriving a class from a child class, creating a grandchild of the original parent class. This structure establishes a hierarchy for classes to inherit properties and methods across multiple levels, fostering extended functionality and attribute sharing.\n",
    "\n",
    "Example:\n",
    "\n",
    "```python\n",
    "class Parent:\n",
    "    def show(self):\n",
    "        print(\"Parent method\")\n",
    "\n",
    "class Child(Parent):\n",
    "    def display(self):\n",
    "        print(\"Child method\")\n",
    "\n",
    "class GrandChild(Child):\n",
    "    def reveal(self):\n",
    "        print(\"GrandChild method\")\n",
    "\n",
    "gc = GrandChild()\n",
    "gc.show()      # Accesses Parent method\n",
    "gc.display()   # Accesses Child method\n",
    "gc.reveal()    # Accesses its own method\n"
   ]
  },
  {
   "cell_type": "markdown",
   "metadata": {},
   "source": [
    "### Hybrid Inheritance\n",
    "<p align=\"center\">\n",
    "  <img src=\"Hybrid-Inheritance.png\" alt=\"Alt Text\" width=\"200\" height=\"200\">\n",
    "</p>"
   ]
  },
  {
   "cell_type": "markdown",
   "metadata": {},
   "source": [
    "Hybrid inheritance in Python combines two or more types of inheritance, such as single, multiple, multilevel, or hierarchical inheritance, within a single program. This approach enables more complex relationships between classes and enhances the flexibility of the code structure. For instance, a class can inherit from multiple classes (multiple inheritance) and those classes can have their own parent classes (multilevel inheritance).\n",
    "\n",
    "Consider the following coding example to illustrate hybrid inheritance.\n",
    "```python\n",
    "class Parent:\n",
    "    pass\n",
    "\n",
    "class Child1(Parent):\n",
    "    pass\n",
    "\n",
    "class Child2(Parent):\n",
    "    pass\n",
    "\n",
    "class Grandchild(Child1, Child2):\n",
    "    pass\n",
    "```\n",
    "In this example, Grandchild inherits from both Child1 and Child2, showcasing multiple inheritance, while Child1 and Child2 inherit from Parent, demonstrating a simple form of hierarchical inheritance. This hybrid model allows Grandchild to utilize attributes and methods from all parent and grandparent classes, providing a versatile way to structure complex relationships in Python programs."
   ]
  }
 ],
 "metadata": {
  "kernelspec": {
   "display_name": "basic-python",
   "language": "python",
   "name": "python3"
  },
  "language_info": {
   "codemirror_mode": {
    "name": "ipython",
    "version": 3
   },
   "file_extension": ".py",
   "mimetype": "text/x-python",
   "name": "python",
   "nbconvert_exporter": "python",
   "pygments_lexer": "ipython3",
   "version": "3.12.1"
  }
 },
 "nbformat": 4,
 "nbformat_minor": 2
}
