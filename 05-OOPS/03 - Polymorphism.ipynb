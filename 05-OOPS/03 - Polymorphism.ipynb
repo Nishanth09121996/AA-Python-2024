{
 "cells": [
  {
   "cell_type": "markdown",
   "metadata": {},
   "source": [
    "## What is Polymorphism?\n",
    "\n",
    "Polymorphism comes from the Greek words Poly(many) and morphism(forms).<br>\n",
    "Polymorphism means taking different forms. <br>\n",
    "In programming, it enables operators, functions, and methods to act differently when subjected to different conditions.<br>\n"
   ]
  },
  {
   "cell_type": "markdown",
   "metadata": {},
   "source": [
    "**Compile-Time Polymorphism (Static Binding) (Method OverLoading) :** \n",
    "\n",
    "**In Python, compile-time polymorphism is primarily achieved through function overloading, although Python does not support true function overloading. However, you can define functions with the same name in Python, but only the latest defined function will be considered.**\n",
    "```python\n",
    "def add(a, b):\n",
    "    return a + b\n",
    "\n",
    "def add(a, b, c):\n",
    "    return a + b + c\n",
    "\n",
    "result = add(2, 3)  # Error: Only the latest defined function is available\n",
    "```"
   ]
  },
  {
   "cell_type": "code",
   "execution_count": 7,
   "metadata": {},
   "outputs": [
    {
     "name": "stdout",
     "output_type": "stream",
     "text": [
      "9\n"
     ]
    }
   ],
   "source": [
    "def add(a, b):\n",
    "    return a + b\n",
    "\n",
    "def add(a = None, b = None, c=None):\n",
    "    if a != None and b !=None and c !=None:\n",
    "        return a+b+c\n",
    "    elif a !=None and b!=None:\n",
    "        return a+b\n",
    "    else:\n",
    "        return a\n",
    "result = add(2, 3) \n",
    "result = add(2)\n",
    "result = add(2,3,4)\n",
    "print(result)"
   ]
  },
  {
   "cell_type": "markdown",
   "metadata": {},
   "source": [
    "**Run-Time Polymorphism (Dynamic Binding)(Method Overiding ):**\n",
    "\n",
    "**Run-time polymorphism in Python is typically achieved through method overriding. You can override methods in a subclass to provide specific implementations. The method that gets called is determined at runtime based on the object's actual type.**\n",
    "\n",
    "```python \n",
    "class Animal:\n",
    "    def make_sound(self):\n",
    "        print(\"Animal makes a sound\")\n",
    "\n",
    "class Dog(Animal):\n",
    "    def make_sound(self):\n",
    "        print(\"Dog barks\")\n",
    "\n",
    "my_animal = Dog()\n",
    "my_animal.make_sound()  # Calls the overridden method in the Dog class\n",
    "\n",
    "```\n"
   ]
  },
  {
   "cell_type": "code",
   "execution_count": 8,
   "metadata": {},
   "outputs": [
    {
     "name": "stdout",
     "output_type": "stream",
     "text": [
      "Animal makes a sound\n"
     ]
    }
   ],
   "source": [
    "class Animal:\n",
    "    def make_sound(self):\n",
    "        print(\"Animal makes a sound\")\n",
    "\n",
    "class Dog(Animal):\n",
    "    pass\n",
    "\n",
    "my_animal = Dog()\n",
    "my_animal.make_sound()"
   ]
  },
  {
   "cell_type": "code",
   "execution_count": 11,
   "metadata": {},
   "outputs": [
    {
     "name": "stdout",
     "output_type": "stream",
     "text": [
      "Banglore\n",
      "None\n"
     ]
    }
   ],
   "source": [
    "class Father:\n",
    "    def address(self):\n",
    "        print(\"Chennai\")\n",
    "class Son(Father):\n",
    "    def address(self):\n",
    "        print('Banglore')\n",
    "    \n",
    "\n",
    "son_obj = Son()\n",
    "print(son_obj.address())"
   ]
  },
  {
   "cell_type": "markdown",
   "metadata": {},
   "source": [
    "**Interface Polymorphism (Polymorphism through Duck Typing):**\n",
    "\n",
    "**Python follows a concept called \"duck typing,\" which is a form of interface polymorphism. If an object behaves like a particular interface (has the required methods and attributes), it can be treated as an instance of that interface.**\n",
    "```python\n",
    "class Bird:\n",
    "    def fly(self):\n",
    "        pass\n",
    "\n",
    "class Sparrow(Bird):\n",
    "    def fly(self):\n",
    "        print(\"Sparrow flies\")\n",
    "\n",
    "class Airplane:\n",
    "    def fly(self):\n",
    "        print(\"Airplane flies\")\n",
    "\n",
    "def perform_flight(flying_object):\n",
    "    flying_object.fly()\n",
    "\n",
    "sparrow = Sparrow()\n",
    "airplane = Airplane()\n",
    "\n",
    "perform_flight(sparrow)  # Output: Sparrow flies\n",
    "perform_flight(airplane)  # Output: Airplane flies\n",
    "```"
   ]
  },
  {
   "cell_type": "markdown",
   "metadata": {},
   "source": [
    "**Operator Overloading:**\n",
    "\n",
    "**Python supports operator overloading by defining special methods with double underscores (e.g., __add__, __sub__, __eq__, etc.). These methods allow you to define how operators should behave for objects of your class.**\n",
    "\n",
    "```python\n",
    "class Sum:\n",
    "    def __init__(self, x, y):\n",
    "        self.x = x\n",
    "        self.y = y\n",
    "    \n",
    "    def __add__(self, other):\n",
    "        return Sum(self.x + other.x, self.y + other.y)\n",
    "\n",
    "v1 = Sum(1, 2)\n",
    "v2 = Sum(3, 4)\n",
    "v3 = v1 + v2  # Calls the __add__ method, resulting in v3 = Sum(4, 6)\n",
    "v3.x,v3.y\n",
    "```\n"
   ]
  },
  {
   "cell_type": "code",
   "execution_count": 16,
   "metadata": {},
   "outputs": [
    {
     "name": "stdout",
     "output_type": "stream",
     "text": [
      "<__main__.Sum object at 0x000001935A00F0B0>\n"
     ]
    }
   ],
   "source": [
    "class Sum:\n",
    "    def __init__(self, x, y):\n",
    "        self.x = x\n",
    "        self.y = y\n",
    "    \n",
    "    # def __add__(self):\n",
    "    #     return self.x+self.y\n",
    "\n",
    "    def __add__(self, other):\n",
    "        return Sum(self.x + other.x, self.y + other.y)\n",
    "\n",
    "v1 = Sum(1, 2)\n",
    "v2 = Sum(3, 4)\n",
    "v3 = Sum('I Love', ' India')\n",
    "# print(v1.__add__())\n",
    "# print(v2.__add__())\n",
    "# print(v3.__add__())\n",
    "v4 = v1+v2\n",
    "print(v4)"
   ]
  },
  {
   "cell_type": "code",
   "execution_count": null,
   "metadata": {},
   "outputs": [],
   "source": []
  }
 ],
 "metadata": {
  "kernelspec": {
   "display_name": "basic-python",
   "language": "python",
   "name": "python3"
  },
  "language_info": {
   "codemirror_mode": {
    "name": "ipython",
    "version": 3
   },
   "file_extension": ".py",
   "mimetype": "text/x-python",
   "name": "python",
   "nbconvert_exporter": "python",
   "pygments_lexer": "ipython3",
   "version": "3.12.1"
  }
 },
 "nbformat": 4,
 "nbformat_minor": 2
}
