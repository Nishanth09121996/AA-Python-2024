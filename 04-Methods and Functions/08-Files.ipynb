{
 "cells": [
  {
   "cell_type": "markdown",
   "metadata": {},
   "source": [
    "### To get present working Directory"
   ]
  },
  {
   "cell_type": "code",
   "execution_count": 27,
   "metadata": {},
   "outputs": [
    {
     "name": "stdout",
     "output_type": "stream",
     "text": [
      "c:\\Users\\nisha\\OneDrive\\Documents\\PythonAnalytics\\AA-Python-2024\\04-Methods and Functions\n"
     ]
    }
   ],
   "source": [
    "import os\n",
    "cwd = os.getcwd()\n",
    "print(cwd)"
   ]
  },
  {
   "cell_type": "markdown",
   "metadata": {},
   "source": [
    "### File Operation\n",
    "- **Read Only (`r`):** Opens the file for reading only. Raises an error if the file doesn't exist. Default mode.\n",
    "- **Read and Write (`r+`):** Opens for reading and writing. Raises error if file doesn't exist.\n",
    "- **Write Only (`w`):** Opens for writing only. Creates new file if not exist.\n",
    "- **Write and Read (`w+`):** Opens for reading and writing. Overwrites existing content.\n",
    "- **Append Only (`a`):** Opens for writing, creates new file if not exist. Appends to end of file.\n",
    "- **Append and Read (`a+`):** Opens for reading and writing. Appends to end of file.\n"
   ]
  },
  {
   "cell_type": "markdown",
   "metadata": {},
   "source": [
    "### To Create a empty file in Python"
   ]
  },
  {
   "cell_type": "code",
   "execution_count": 7,
   "metadata": {},
   "outputs": [],
   "source": [
    "file = open(file='Sample.txt',mode='x') # Create fresh file \n",
    "file.close() # to release the control "
   ]
  },
  {
   "cell_type": "markdown",
   "metadata": {},
   "source": [
    "### Writing to a file"
   ]
  },
  {
   "cell_type": "code",
   "execution_count": 9,
   "metadata": {},
   "outputs": [],
   "source": [
    "file = open(file='Sample.txt', mode='w')"
   ]
  },
  {
   "cell_type": "code",
   "execution_count": 11,
   "metadata": {},
   "outputs": [],
   "source": [
    "file.write(\"Hello There\")\n",
    "file.close()"
   ]
  },
  {
   "cell_type": "code",
   "execution_count": 15,
   "metadata": {},
   "outputs": [],
   "source": [
    "# Write Multiple lines to file\n",
    "file = open(file='Sample.txt', mode='w')\n",
    "file.writelines(['Hello \\n','This is second line \\n','This is third line\\n'])\n",
    "file.close()"
   ]
  },
  {
   "cell_type": "code",
   "execution_count": 13,
   "metadata": {},
   "outputs": [
    {
     "name": "stdout",
     "output_type": "stream",
     "text": [
      "Hello \n",
      "This is second line \n",
      "This is third line\n",
      "\n"
     ]
    }
   ],
   "source": [
    "file = open(file='Sample.txt',mode='r+')\n",
    "print(file.read())\n",
    "file.write('Forth Line \\n')\n",
    "file.close()"
   ]
  },
  {
   "cell_type": "code",
   "execution_count": 14,
   "metadata": {},
   "outputs": [
    {
     "name": "stdout",
     "output_type": "stream",
     "text": [
      "[]\n"
     ]
    }
   ],
   "source": [
    "file = open(file='Sample.txt',mode='w+')\n",
    "print(file.readlines())\n",
    "file.writelines('Fifth  Line')\n",
    "file.close()"
   ]
  },
  {
   "cell_type": "code",
   "execution_count": 20,
   "metadata": {},
   "outputs": [
    {
     "name": "stdout",
     "output_type": "stream",
     "text": [
      "['I lOve India']\n"
     ]
    },
    {
     "data": {
      "text/plain": [
       "12"
      ]
     },
     "execution_count": 20,
     "metadata": {},
     "output_type": "execute_result"
    }
   ],
   "source": [
    "file = open(file='Sample.txt',mode='r')\n",
    "print(file.readlines())\n",
    "file.close()\n",
    "file1 = open(file='Sample.txt',mode='w')\n",
    "file1.write('I lOve India')"
   ]
  },
  {
   "cell_type": "code",
   "execution_count": 42,
   "metadata": {},
   "outputs": [
    {
     "name": "stdout",
     "output_type": "stream",
     "text": [
      "['Extra Line']\n"
     ]
    }
   ],
   "source": [
    "\n"
   ]
  },
  {
   "cell_type": "markdown",
   "metadata": {},
   "source": [
    "### With Open"
   ]
  },
  {
   "cell_type": "code",
   "execution_count": 21,
   "metadata": {},
   "outputs": [
    {
     "name": "stdout",
     "output_type": "stream",
     "text": [
      "Hello world \n",
      "I hope you're doing well today \n",
      "This is a text file \n",
      "Have a nice time \n",
      "\n"
     ]
    }
   ],
   "source": [
    "with open(\"hello.txt\", \"w\") as my_file:\n",
    "    my_file.write(\"Hello world \\n\")\n",
    "    my_file.write(\"I hope you're doing well today \\n\")\n",
    "    my_file.write(\"This is a text file \\n\")\n",
    "    my_file.write(\"Have a nice time \\n\")\n",
    "\n",
    "with open(\"hello.txt\") as my_file:\n",
    "    print(my_file.read())"
   ]
  },
  {
   "cell_type": "code",
   "execution_count": null,
   "metadata": {},
   "outputs": [],
   "source": []
  }
 ],
 "metadata": {
  "kernelspec": {
   "display_name": "basic-python",
   "language": "python",
   "name": "python3"
  },
  "language_info": {
   "codemirror_mode": {
    "name": "ipython",
    "version": 3
   },
   "file_extension": ".py",
   "mimetype": "text/x-python",
   "name": "python",
   "nbconvert_exporter": "python",
   "pygments_lexer": "ipython3",
   "version": "3.12.1"
  }
 },
 "nbformat": 4,
 "nbformat_minor": 2
}
