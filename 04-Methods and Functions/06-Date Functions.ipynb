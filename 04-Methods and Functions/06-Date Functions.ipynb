{
 "cells": [
  {
   "cell_type": "markdown",
   "metadata": {},
   "source": [
    "### *** Date Time in Python ***\n",
    "\n",
    "[Link For Python Documentation](https://www.youtube.com/redirect?event=video_description&redir_token=QUFFLUhqbDlYVTdIR2xBUlJaWjZKRWNCWDVXN0Q2Y3hTQXxBQ3Jtc0ttYXNEVkFwcm51dEx0Yk41anJWM1h4dHY1VURPTjl6TjVCeXhwUU5kTW9nYndfZG04bUxJWlN3YVFQVnZhX1lud3dVZU5Oa1JoMGYtbzdPMEdrdGk1RGZFYl9SbHlZOU1JcWJwcFNDamZNV3dnS0hOMA&q=https%3A%2F%2Fdocs.python.org%2F3%2Flibrary%2Fdatetime.html&v=-AlFiS74aQg)"
   ]
  },
  {
   "cell_type": "code",
   "execution_count": 12,
   "metadata": {},
   "outputs": [
    {
     "name": "stdout",
     "output_type": "stream",
     "text": [
      "Todays day is 2024-03-16\n"
     ]
    }
   ],
   "source": [
    "from datetime import date\n",
    "# to get today's date\n",
    "today = date.today()\n",
    "print('Todays day is {}'.format(today))"
   ]
  },
  {
   "cell_type": "markdown",
   "metadata": {},
   "source": [
    "Exaplanding the Attributes of date"
   ]
  },
  {
   "cell_type": "code",
   "execution_count": 3,
   "metadata": {},
   "outputs": [
    {
     "name": "stdout",
     "output_type": "stream",
     "text": [
      "Today day 16\n",
      "Today  month 3\n",
      "Today year 2024\n"
     ]
    }
   ],
   "source": [
    "print('Today day {}'.format(today.day))\n",
    "print('Today  month {}'.format(today.month))\n",
    "print('Today year {}'.format(today.year))\n",
    "\n",
    "a= 5\n",
    "b= 10\n",
    "#print('Value of a = {} and value of b = {} '.format(a,b))"
   ]
  },
  {
   "cell_type": "markdown",
   "metadata": {},
   "source": [
    "Printing the date in more readable format"
   ]
  },
  {
   "cell_type": "code",
   "execution_count": 9,
   "metadata": {},
   "outputs": [
    {
     "name": "stdout",
     "output_type": "stream",
     "text": [
      "2024-03-16\n",
      "Today date is 16th March 2024 which is a Saturday  day of week is  6\n"
     ]
    }
   ],
   "source": [
    "print(today)\n",
    "formatted_date  =  today.strftime('Today date is %dth %B %Y which is a %A  day of week is  %w')\n",
    "print(formatted_date)"
   ]
  },
  {
   "cell_type": "markdown",
   "metadata": {},
   "source": [
    "Creating a Date from string "
   ]
  },
  {
   "cell_type": "code",
   "execution_count": 11,
   "metadata": {},
   "outputs": [
    {
     "name": "stdout",
     "output_type": "stream",
     "text": [
      "1996-12-09\n",
      "<class 'datetime.date'>\n",
      "1996-12-09\n"
     ]
    }
   ],
   "source": [
    "my_birthday = date(1996,12,9)\n",
    "print(my_birthday)\n",
    "print(type(my_birthday))\n",
    "my_birthday = date.fromisoformat('1996-12-09') #(yyyy-mm-dd) # (dd/mm/yy)\n",
    "print(my_birthday)"
   ]
  },
  {
   "cell_type": "markdown",
   "metadata": {},
   "source": [
    "*** Date Time ***"
   ]
  },
  {
   "cell_type": "code",
   "execution_count": 17,
   "metadata": {},
   "outputs": [
    {
     "name": "stdout",
     "output_type": "stream",
     "text": [
      "2024-03-16 19:24:41.713411\n",
      "Current time is  16th March 2024 07:24 PM \n"
     ]
    }
   ],
   "source": [
    "from datetime import datetime,timedelta\n",
    "# to get current and and time\n",
    "current_time = datetime.now()\n",
    "print(current_time)\n",
    "print(current_time.strftime('Current time is  %dth %B %Y %I:%M %p %Z'))"
   ]
  },
  {
   "cell_type": "code",
   "execution_count": 29,
   "metadata": {},
   "outputs": [
    {
     "name": "stdout",
     "output_type": "stream",
     "text": [
      "2024-03-16 16:59:59+05:30\n",
      "Current time is  16th March 2024 04:59 PM UTC+05:30\n",
      "2024-03-16 16:59:59+05:30 2024-03-16 17:59:59+05:30\n"
     ]
    },
    {
     "data": {
      "text/plain": [
       "1.0"
      ]
     },
     "execution_count": 29,
     "metadata": {},
     "output_type": "execute_result"
    }
   ],
   "source": [
    "# Creating a date time string \n",
    "custom_time = datetime.fromisoformat('2024-03-16 16:59:59:00+05:30')\n",
    "print(custom_time)\n",
    "# printing the date in custom format\n",
    "print(custom_time.strftime('Current time is  %dth %B %Y %I:%M %p %Z'))\n",
    "\n",
    "\n",
    "# creating a new variable for the Adding and subtracting the dates and time \n",
    "custom_time_2 = custom_time+timedelta(hours=1)\n",
    "print(custom_time,custom_time_2)\n",
    "difference = abs(custom_time_2-custom_time)\n",
    "difference.seconds/60/60\n"
   ]
  },
  {
   "cell_type": "code",
   "execution_count": null,
   "metadata": {},
   "outputs": [],
   "source": []
  }
 ],
 "metadata": {
  "kernelspec": {
   "display_name": "basic-python",
   "language": "python",
   "name": "python3"
  },
  "language_info": {
   "codemirror_mode": {
    "name": "ipython",
    "version": 3
   },
   "file_extension": ".py",
   "mimetype": "text/x-python",
   "name": "python",
   "nbconvert_exporter": "python",
   "pygments_lexer": "ipython3",
   "version": "3.12.1"
  }
 },
 "nbformat": 4,
 "nbformat_minor": 2
}
