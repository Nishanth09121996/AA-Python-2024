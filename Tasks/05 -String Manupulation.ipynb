{
 "cells": [
  {
   "cell_type": "markdown",
   "metadata": {},
   "source": [
    "1.*Write a Python program to count the number of characters (including spaces) in a string.*\n",
    "<br>\n",
    "Input: `\"Hello World\"`\n",
    "<br>\n",
    "Expected Output: `11`"
   ]
  },
  {
   "cell_type": "code",
   "execution_count": null,
   "metadata": {},
   "outputs": [],
   "source": [
    "# Type Your Python Code Here"
   ]
  },
  {
   "cell_type": "markdown",
   "metadata": {},
   "source": [
    "2.*Write a Python program to reverse a given string.*\n",
    "<br>\n",
    "    Input: `Python`\n",
    "<br>\n",
    "    Expected Output: `nohtyP`"
   ]
  },
  {
   "cell_type": "code",
   "execution_count": null,
   "metadata": {},
   "outputs": [],
   "source": [
    "# Type Your Python Code Here"
   ]
  },
  {
   "cell_type": "markdown",
   "metadata": {},
   "source": [
    "3. *Write a Python program to check if a string is a palindrome.*\n",
    "<br>\n",
    "Input: \"radar\"\n",
    "<br>\n",
    "Expected Output: True"
   ]
  },
  {
   "cell_type": "code",
   "execution_count": 1,
   "metadata": {},
   "outputs": [],
   "source": [
    "# Type Your Python Code Here"
   ]
  },
  {
   "cell_type": "markdown",
   "metadata": {},
   "source": [
    "4. *Write a Python program to sort words in a given string alphabetically.*\n",
    "<br>\n",
    "    Input: \"python is awesome\"\n",
    "    <br>\n",
    "    Expected Output: \"awesome is python\""
   ]
  },
  {
   "cell_type": "code",
   "execution_count": 2,
   "metadata": {},
   "outputs": [],
   "source": [
    "# Type Your Python Code Here"
   ]
  },
  {
   "cell_type": "markdown",
   "metadata": {},
   "source": [
    "5. Write a Python program to remove all vowels from a string.\n",
    "<br>\n",
    "Input: \"Hello World\"\n",
    "<br>\n",
    "Expected Output: \"Hll Wrld\""
   ]
  },
  {
   "cell_type": "markdown",
   "metadata": {},
   "source": []
  }
 ],
 "metadata": {
  "kernelspec": {
   "display_name": "basic-python",
   "language": "python",
   "name": "python3"
  },
  "language_info": {
   "codemirror_mode": {
    "name": "ipython",
    "version": 3
   },
   "file_extension": ".py",
   "mimetype": "text/x-python",
   "name": "python",
   "nbconvert_exporter": "python",
   "pygments_lexer": "ipython3",
   "version": "3.12.1"
  }
 },
 "nbformat": 4,
 "nbformat_minor": 2
}
