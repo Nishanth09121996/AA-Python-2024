{
 "cells": [
  {
   "cell_type": "markdown",
   "metadata": {},
   "source": [
    "## DDL for Creating Table\n",
    "```sql \n",
    "CREATE TABLE student (\n",
    "    RollNumber INT PRIMARY KEY,\n",
    "    Name VARCHAR(50),\n",
    "    dob DATE,\n",
    "    sex CHAR(1),\n",
    "    parents_name VARCHAR(100),\n",
    "    TotalMarks INT\n",
    ");\n",
    "\n",
    "CREATE TABLE marks (\n",
    "    RollNumber INT,\n",
    "    Subject VARCHAR(50),\n",
    "    Marks INT,\n",
    "    PRIMARY KEY (RollNumber, Subject),\n",
    "    FOREIGN KEY (RollNumber) REFERENCES student(RollNumber)\n",
    ");\n",
    "\n",
    "```"
   ]
  },
  {
   "cell_type": "markdown",
   "metadata": {},
   "source": [
    "Requirements:<br>\n",
    "1. Create a class called Student. <br>\n",
    "2. create attribute Roll,Name,dob.sex,parents_name,totalmarks <br>\n",
    "3. create getter and setters function for student Attributes <br>\n",
    "4. Use Mysql table Student to store the data in backend.<br>\n",
    "5. Applicable for getter and setter <br>\n",
    "6. create table  and class mark add mark for the student.<br>\n",
    "\n",
    "Required Function:\n",
    "1. Function to update the Student parent Name by id.\n",
    "2. I need total marks for a Student.\n",
    "3. Function to update total marks, if the marks in the mark table is going to change\n",
    "4. (Only For Sql Batch) Create rank in the Student table using Views Concept\n",
    "5. Create atleast 10 student object\n",
    "\n",
    "\n",
    "```sql \n",
    "select Marks from Student.marks where roll = 5\n",
    "```\n"
   ]
  },
  {
   "cell_type": "markdown",
   "metadata": {},
   "source": []
  }
 ],
 "metadata": {
  "kernelspec": {
   "display_name": "basic-python",
   "language": "python",
   "name": "python3"
  },
  "language_info": {
   "codemirror_mode": {
    "name": "ipython",
    "version": 3
   },
   "file_extension": ".py",
   "mimetype": "text/x-python",
   "name": "python",
   "nbconvert_exporter": "python",
   "pygments_lexer": "ipython3",
   "version": "3.12.1"
  }
 },
 "nbformat": 4,
 "nbformat_minor": 2
}
