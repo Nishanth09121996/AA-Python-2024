{
  "cells": [
    {
      "cell_type": "markdown",
      "metadata": {},
      "source": [
        "___\n",
        "\n",
        "<center><a href='https://analyticsavenue.in/'><img src='https://analyticsavenue.in/wp-content/uploads/2023/12/Edited-Logo-1-1-1-2048x2048.png' width=\"200\" height=\"100\"/></a></center>\n",
        "<center><em>Analytics Avenue</em></center>\n",
        "\n",
        "___\n"
      ]
    },
    {
      "cell_type": "markdown",
      "metadata": {
        "id": "Qk68bjWo40fX"
      },
      "source": [
        "# Operators in Python\n"
      ]
    },
    {
      "cell_type": "markdown",
      "metadata": {
        "id": "FPVL1dZj5OAz"
      },
      "source": [
        "### Types of Operators\n",
        "\n",
        "### Arithmetic Operators\n",
        "- Perform mathematical operations on numerical values.\n",
        "\n",
        "### Assignment Operators\n",
        "- Assign values to variables.\n",
        "\n",
        "### Comparison Operators\n",
        "- Compare two values and return a boolean result.\n",
        "\n",
        "### Logical Operators\n",
        "- Perform logical operations on boolean values.\n",
        "\n",
        "### Identity Operators\n",
        "- Check if two objects are the same in memory.\n",
        "\n",
        "### Membership Operators\n",
        "- Check if a value is present in a sequence.\n",
        "\n",
        "### Bitwise Operators\n",
        "- Perform bitwise operations on binary representations of integers.\n",
        "\n",
        "These definitions provide a concise overview of the purpose and functionality of each category of operators in Python."
      ]
    },
    {
      "cell_type": "markdown",
      "metadata": {
        "id": "s9cQJ4UF5Pr6"
      },
      "source": [
        "#  Arithmetic Operators"
      ]
    },
    {
      "cell_type": "markdown",
      "metadata": {
        "id": "2Sn6-mBW5auX"
      },
      "source": [
        "Arithmetic operators in Python are used to perform mathematical operations on numerical values. Here are the common arithmetic operators:\n",
        "\n",
        "1. **Addition (`+`):**\n",
        "   - Adds two operands.\n",
        "   ```python\n",
        "   result = 5 + 3  # result will be 8\n",
        "   ```\n",
        "\n",
        "2. **Subtraction (`-`):**\n",
        "   - Subtracts the right operand from the left operand.\n",
        "   ```python\n",
        "   result = 5 - 3  # result will be 2\n",
        "   ```\n",
        "\n",
        "3. **Multiplication (`*`):**\n",
        "   - Multiplies two operands.\n",
        "   ```python\n",
        "   result = 5 * 3  # result will be 15\n",
        "   ```\n",
        "\n",
        "4. **Division (`/`):**\n",
        "   - Divides the left operand by the right operand (always returns a float).\n",
        "   ```python\n",
        "   result = 6 / 3  # result will be 2.0\n",
        "   ```\n",
        "\n",
        "5. **Floor Division (`//`):**\n",
        "   - Divides the left operand by the right operand, rounded down to the nearest integer.\n",
        "   ```python\n",
        "   result = 7 // 3  # result will be 2\n",
        "   ```\n",
        "\n",
        "6. **Modulus (`%`):**\n",
        "   - Returns the remainder of the division of the left operand by the right operand.\n",
        "   ```python\n",
        "   result = 7 % 3  # result will be 1\n",
        "   ```\n",
        "\n",
        "7. **Exponentiation (`**`):**\n",
        "   - Raises the left operand to the power of the right operand.\n",
        "   ```python\n",
        "   result = 2 ** 3  # result will be 8\n",
        "   ```\n",
        "\n",
        "These operators can be used with variables or directly with values to perform various arithmetic calculations in Python."
      ]
    },
    {
      "cell_type": "code",
      "execution_count": null,
      "metadata": {
        "id": "RgL7SfqH5Zp8"
      },
      "outputs": [],
      "source": []
    },
    {
      "cell_type": "markdown",
      "metadata": {
        "id": "b37aYABc6BWn"
      },
      "source": [
        "# Assignment Operators"
      ]
    },
    {
      "cell_type": "markdown",
      "metadata": {
        "id": "MH2NneqK6EUY"
      },
      "source": [
        "Assignment operators in Python are used to assign values to variables. Here is an example of the common assignment operator:\n",
        "\n",
        "1. **Assignment (`=`):**\n",
        "   - Assigns the value on the right to the variable on the left.\n",
        "   ```python\n",
        "   x = 10  # Assigns the value 10 to variable x\n",
        "   ```\n",
        "\n",
        "Assignment operators are fundamental for storing and manipulating data within a program, allowing variables to hold different values over the course of execution."
      ]
    },
    {
      "cell_type": "code",
      "execution_count": null,
      "metadata": {
        "id": "BWFoaZ2d6DVL"
      },
      "outputs": [],
      "source": []
    },
    {
      "cell_type": "markdown",
      "metadata": {
        "id": "6ODOCtj26M0A"
      },
      "source": [
        "# Comparison Operators\n",
        "\n",
        "Comparison operators in Python are used to compare two values and return a boolean result. Here are the common comparison operators:\n",
        "\n",
        "1. **Equal to (`==`):**\n",
        "   - Checks if two values are equal.\n",
        "   ```python\n",
        "   is_equal = (x == 10)  # is_equal will be True if x is equal to 10\n",
        "   ```\n",
        "\n",
        "2. **Not equal to (`!=`):**\n",
        "   - Checks if two values are not equal.\n",
        "   ```python\n",
        "   not_equal = (x != 10)  # not_equal will be True if x is not equal to 10\n",
        "   ```\n",
        "\n",
        "3. **Greater than (`>`):**\n",
        "   - Checks if the left value is greater than the right value.\n",
        "   ```python\n",
        "   greater_than = (x > 5)  # greater_than will be True if x is greater than 5\n",
        "   ```\n",
        "\n",
        "4. **Less than (`<`):**\n",
        "   - Checks if the left value is less than the right value.\n",
        "   ```python\n",
        "   less_than = (x < 20)  # less_than will be True if x is less than 20\n",
        "   ```\n",
        "\n",
        "5. **Greater than or equal to (`>=`):**\n",
        "   - Checks if the left value is greater than or equal to the right value.\n",
        "   ```python\n",
        "   greater_equal = (x >= 10)  # greater_equal will be True if x is greater than or equal to 10\n",
        "   ```\n",
        "\n",
        "6. **Less than or equal to (`<=`):**\n",
        "   - Checks if the left value is less than or equal to the right value.\n",
        "   ```python\n",
        "   less_equal = (x <= 15)  # less_equal will be True if x is less than or equal to 15\n",
        "   ```\n",
        "\n",
        "These operators are essential for making decisions in programs based on the comparison of values. The result is a boolean indicating whether the comparison is true or false."
      ]
    },
    {
      "cell_type": "markdown",
      "metadata": {},
      "source": [
        "<h2> Table of Comparison Operators </h2><p>  In the table below, a=3 and b=4.</p>\n",
        "\n",
        "<table class=\"table table-bordered\">\n",
        "<tr>\n",
        "<th style=\"width:10%\">Operator</th><th style=\"width:45%\">Description</th><th>Example</th>\n",
        "</tr>\n",
        "<tr>\n",
        "<td>==</td>\n",
        "<td>If the values of two operands are equal, then the condition becomes true.</td>\n",
        "<td> (a == b) is not true.</td>\n",
        "</tr>\n",
        "<tr>\n",
        "<td>!=</td>\n",
        "<td>If values of two operands are not equal, then condition becomes true.</td>\n",
        "<td>(a != b) is true</td>\n",
        "</tr>\n",
        "<tr>\n",
        "<td>&gt;</td>\n",
        "<td>If the value of left operand is greater than the value of right operand, then condition becomes true.</td>\n",
        "<td> (a &gt; b) is not true.</td>\n",
        "</tr>\n",
        "<tr>\n",
        "<td>&lt;</td>\n",
        "<td>If the value of left operand is less than the value of right operand, then condition becomes true.</td>\n",
        "<td> (a &lt; b) is true.</td>\n",
        "</tr>\n",
        "<tr>\n",
        "<td>&gt;=</td>\n",
        "<td>If the value of left operand is greater than or equal to the value of right operand, then condition becomes true.</td>\n",
        "<td> (a &gt;= b) is not true. </td>\n",
        "</tr>\n",
        "<tr>\n",
        "<td>&lt;=</td>\n",
        "<td>If the value of left operand is less than or equal to the value of right operand, then condition becomes true.</td>\n",
        "<td> (a &lt;= b) is true. </td>\n",
        "</tr>\n",
        "</table>"
      ]
    },
    {
      "cell_type": "code",
      "execution_count": null,
      "metadata": {
        "id": "9Sb3_RA96ePD"
      },
      "outputs": [],
      "source": []
    },
    {
      "cell_type": "markdown",
      "metadata": {
        "id": "FD2E6vN16wkM"
      },
      "source": [
        "# Logical Operators\n",
        "\n",
        "1. **Logical AND (`and`):**\n",
        "   ```python\n",
        "   age = 25\n",
        "   has_experience = True\n",
        "\n",
        "   # Both conditions must be True for the result to be True\n",
        "   is_eligible = (age > 18) and has_experience\n",
        "   # is_eligible will be True if age is greater than 18 and has_experience is True\n",
        "   ```\n",
        "\n",
        "2. **Logical OR (`or`):**\n",
        "   ```python\n",
        "   is_weekend = False\n",
        "   is_holiday = True\n",
        "\n",
        "   # At least one condition must be True for the result to be True\n",
        "   can_relax = is_weekend or is_holiday\n",
        "   # can_relax will be True if either is_weekend is True or is_holiday is True\n",
        "   ```\n",
        "\n",
        "3. **Logical NOT (`not`):**\n",
        "   ```python\n",
        "   has_permission = False\n",
        "\n",
        "   # Negates the condition; result will be the opposite of the condition\n",
        "   is_denied = not has_permission\n",
        "   # is_denied will be True if has_permission is False\n",
        "   ```\n",
        "\n",
        "Logical operators are often used to combine and evaluate multiple conditions, making them powerful tools for decision-making in Python programs."
      ]
    }
  ],
  "metadata": {
    "colab": {
      "collapsed_sections": [
        "FPVL1dZj5OAz",
        "s9cQJ4UF5Pr6",
        "b37aYABc6BWn"
      ],
      "provenance": [],
      "toc_visible": true
    },
    "kernelspec": {
      "display_name": "Python 3",
      "name": "python3"
    },
    "language_info": {
      "name": "python"
    }
  },
  "nbformat": 4,
  "nbformat_minor": 0
}
